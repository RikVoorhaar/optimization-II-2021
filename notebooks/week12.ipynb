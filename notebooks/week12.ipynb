{
 "cells": [
  {
   "cell_type": "markdown",
   "id": "veterinary-evolution",
   "metadata": {
    "id": "contrary-capacity"
   },
   "source": [
    "[![Open in Colab](https://colab.research.google.com/assets/colab-badge.svg)](https://colab.research.google.com/github/RikVoorhaar/optimization-II-2021/blob/master/notebooks/week12.ipynb)"
   ]
  },
  {
   "cell_type": "markdown",
   "id": "actual-taiwan",
   "metadata": {
    "id": "educated-dodge"
   },
   "source": [
    "# Week 12"
   ]
  },
  {
   "cell_type": "markdown",
   "id": "formal-genesis",
   "metadata": {
    "id": "perceived-occasions"
   },
   "source": [
    "## Exercise 1: Subgradients\n",
    "\n",
    "<div class=\"alert alert-info\">\n",
    "Exercise\n",
    "\n",
    "Let $f\\colon \\Omega\\subset\\mathbb R^n\\to \\mathbb R$ (not necessarily convex or smooth). We call $g\\in \\mathbb R^n$ a _subgradient_ of $f$ at $x\\in\\Omega$ if:\n",
    "$$\n",
    "f(y)\\geq f(x)+g^\\top (y-x) \\qquad \\forall y\\in\\Omega\n",
    "$$\n",
    "\n",
    "The set of all subgradients of $f$ at $x$ is denoted $\\partial f(x)$. Note that if $f$ is convex and differentiable at $x$ then $\\nabla f(x)\\in \\partial f(x)$, by the definition of a convex function. The point of subgradients is that they give a useful well-defined analogue of gradients at points where $f$ is _not_ differentiable.\n",
    "\n",
    "</div>"
   ]
  },
  {
   "cell_type": "markdown",
   "id": "spiritual-directory",
   "metadata": {
    "id": "UBs-TGlhn649"
   },
   "source": [
    "### Exercise 1a) \n",
    "<div class=\"alert alert-info\">\n",
    "Exercise\n",
    "\n",
    "Show that $\\partial f(x)$ is a convex set.\n",
    "\n",
    "</div>"
   ]
  },
  {
   "cell_type": "markdown",
   "id": "trying-eight",
   "metadata": {
    "id": "uzbvsVbrpy3H"
   },
   "source": [
    "Let $g,g'\\in\\partial f(x)$ and let $t\\in [0,1]$, $y\\in \\Omega$. Then,\n",
    "$$\n",
    "\\begin{align}\n",
    "    f(y) &= tf(y)+(1-t)f(y)\\\\\n",
    "    & \\geq t\\left(f(x) + g^\\top (y-x)\\right)+(1-t)\\left(f(x) + (g')^\\top (y-x)\\right)\\\\\n",
    "    & = f(x) + (tg+(1-t)g')^\\top (y-x)\n",
    "\\end{align}\n",
    "$$\n",
    "\n",
    "and therefore $tg+(1-t)g'\\in \\partial f(x)$ and thus $\\partial f(x)$ is convex."
   ]
  },
  {
   "cell_type": "markdown",
   "id": "permanent-cursor",
   "metadata": {
    "id": "sNvOD-Ovn7A4"
   },
   "source": [
    "### Exercise 1b)\n",
    "<div class=\"alert alert-info\">\n",
    "Exercise\n",
    "\n",
    "Let $f\\colon \\Omega\\subset\\mathbb R^n\\to \\mathbb R$. Let $x^*\\in \\Omega$. Show that $0\\in \\partial f(x^*)$ if and only if $x^*$ is a global minimizer. \n",
    "\n",
    "</div>"
   ]
  },
  {
   "cell_type": "markdown",
   "id": "diagnostic-volume",
   "metadata": {
    "id": "OFo0KIQdrUQU"
   },
   "source": [
    "$0\\in\\partial f(x^*)$ means that\n",
    "$$\n",
    "f(y)\\geq f(x^*) \\qquad\\forall y\\in\\Omega\n",
    "$$\n",
    "\n",
    "which is means $x^*$ is a global minimizer."
   ]
  },
  {
   "cell_type": "markdown",
   "id": "otherwise-effectiveness",
   "metadata": {
    "id": "hqbrX1FTn7EZ"
   },
   "source": [
    "### Exercise 1c)\n",
    "<div class=\"alert alert-info\">\n",
    "Exercise\n",
    "\n",
    "Consider $f=|\\cdot|\\colon \\mathbb R\\to \\mathbb R$. Show that $\\partial f(0)=[-1,1]$ and conclude that $0$ is a global minimizer of $f$. \n",
    "\n",
    "</div>"
   ]
  },
  {
   "cell_type": "markdown",
   "id": "romantic-stockholm",
   "metadata": {
    "id": "yy3ndk8YsTBe"
   },
   "source": [
    "Let $g\\in\\mathbb R$. Then we need $g$ such that\n",
    "$f(y)=|y|\\geq gy$ for all $y\\in\\mathbb R$. If $g$ and $y$ have opposite signs, then this inequality is trivially true, since the right-hand side is negative. Then if $y\\geq 0$ we obtain $g\\leq 1$, whereas for $g\\leq 0$ we obtain $g\\geq -1$. Therefore only $g\\in[-1,1]$ satisfies the inequality for all $y\\in\\mathbb R$, and $\\partial f(0)=[-1,1]$. Since $0\\in\\partial f(0)$, $0$ is a global minimizer by 1b)."
   ]
  },
  {
   "cell_type": "markdown",
   "id": "static-macintosh",
   "metadata": {
    "id": "busvQLTw1Pyo"
   },
   "source": [
    "### Exercise 1d)\n",
    "<div class=\"alert alert-info\">\n",
    "Exercise\n",
    "\n",
    "Let $f(x) = \\max_{i=1,\\dots,n} f_i(x)$. Show that \n",
    "$$\n",
    "\\partial f(x) \\supset \\text{Co}\\left(\\bigcup_{i\\mid f_i(x)=f(x)}\\partial f_i(x)\\right)\n",
    "$$\n",
    "\n",
    "where Co denotes the convex hull. By $i\\mid f_i(x)=f(x)$ we mean those $i\\in\\{1,\\dots,m\\}$ such that $f_i(x)=f(x)$. \n",
    "\n",
    "_Remark: The opposite inclusion is also true, but a bit harder to show._\n",
    "\n",
    "</div>"
   ]
  },
  {
   "cell_type": "markdown",
   "id": "dynamic-algorithm",
   "metadata": {
    "id": "skxP8wbB-ngO"
   },
   "source": [
    "Let $x\\in \\Omega$ and consider $k$ such that $f(x) = f_k(x)$. Then for $g\\in \\partial f_k(x)$ we have that\n",
    "$$\n",
    "    f(y)\\geq f_k(y) \\geq f_k(x)+g^\\top (y-x) = f(x)+g^\\top (y-x)\n",
    "$$\n",
    "\n",
    "hence $g\\in \\partial f(x)$. Therefore we have that\n",
    "$$\n",
    "\\partial f(x)\\supset \\bigcup_{i\\mid f_i(x)=f(x)}\\partial f_i(x)\n",
    "$$\n",
    "\n",
    "since $\\partial f(x)$ is convex, this inequality remains true if we take the convex hull on the right hand side."
   ]
  },
  {
   "cell_type": "markdown",
   "id": "architectural-brooks",
   "metadata": {
    "id": "bLkr7wY5n7HM"
   },
   "source": [
    "### Exercise 1e)\n",
    "<div class=\"alert alert-info\">\n",
    "Exercise\n",
    "\n",
    "Consider the function $f\\colon \\mathbb R^2\\to \\mathbb R$, $f(x,y)=\\max \\{f_1(x,y),\\,f_2(x,y)\\}$ with \n",
    "$$\n",
    "f_1(x,y) = x^2,\\qquad f_2(x,y) = \\alpha x^2+y\n",
    "$$\n",
    "\n",
    "where $\\alpha\\in (0,1)$ is a fixed parameter. Compute $\\partial f(0,0)$ and show that $(0,0)$ is a global minimzer of $f$.\n",
    "\n",
    "_Hint: You can use the opposite inclusion of 1d):_ $\\partial f(x) = \\text{Co}\\left(\\bigcup_{i\\mid f_i(x)=f(x)}\\partial f_i(x)\\right)$\n",
    "\n",
    "\n",
    "</div>"
   ]
  },
  {
   "cell_type": "markdown",
   "id": "accomplished-domain",
   "metadata": {
    "id": "Jql2hgN8y4YB"
   },
   "source": [
    "Let $g = (g_1,g_2)$, then since $f_1(0,0)=f_2(0,0)=f(0,0)$ we have that \n",
    "$$\n",
    "\\partial f(0,0) = \\text{Co}(\\partial f_1(0,0)\\cup\\partial f_2(0,0))\n",
    "$$\n",
    "\n",
    "For $\\partial f_1(0,0)$ we get inequality\n",
    "$$\n",
    "    x^2\\geq g_1x+g_2y\n",
    "$$\n",
    "\n",
    "For this to hold for all $y$, we need $g_2=0$. Furthermore $g_1=0$ as well, since $x^2<g_1 x$ for any $g_1\\neq 0$ for $x$ sufficiently close to zero. Hence $\\partial f_1(0,0)=\\{(0,0)\\}$. In fact, since $f_1$ is differentiable we could immediately conclude this.\n",
    "\n",
    "For $\\partial f_2(0,0)$ we get inequality,\n",
    "$$\n",
    "    \\alpha x^2+y \\geq g_1x+g_2y\n",
    "$$\n",
    "\n",
    "By the same argumentation as before, we obtain $g_1=0$. If $x=0$, $y>0$ the inequality holds iff $g_2\\leq 1$, whereas for $y<0$ it holds iff $g_2\\geq 1$. Hence $g_2=1$, and $\\partial f_2(0,0) = \\{(0,1)\\}$. Again, we could have conlcuded this by taking the derivative of $f_2$ as well. \n",
    "\n",
    "In conclusion, we have that $\\partial f(0,0) = \\{0\\}\\times [0,1]$. Since this includes $\\{(0,0)\\}$, we conclude $(0,0)$ is a global minimizer of $f$. \n",
    "\n",
    "Below we see a contour plot of this function. The plot suggests that all the points on the line $0\\times(\\infty,0]$ minimize the function (solid red line). The dotted black line shows the region where $f_1=f_2$."
   ]
  },
  {
   "cell_type": "code",
   "execution_count": 33,
   "id": "played-habitat",
   "metadata": {
    "colab": {
     "base_uri": "https://localhost:8080/",
     "height": 269
    },
    "executionInfo": {
     "elapsed": 1060,
     "status": "ok",
     "timestamp": 1621256239359,
     "user": {
      "displayName": "Rik Voorhaar",
      "photoUrl": "https://lh3.googleusercontent.com/a-/AOh14GiARLX-61EWkT5u3TJ0aLe8HCXUEuzsxfIptxxWrw=s64",
      "userId": "13522764759478134685"
     },
     "user_tz": -120
    },
    "id": "Gc_MWIPOYOPw",
    "outputId": "cac9ad31-8204-434b-a51f-5ca815520dc4"
   },
   "outputs": [
    {
     "data": {
      "image/png": "[encoded data removed]",
      "text/plain": [
       "<Figure size 432x288 with 1 Axes>"
      ]
     },
     "metadata": {
      "needs_background": "light"
     },
     "output_type": "display_data"
    }
   ],
   "source": [
    "import matplotlib.pyplot as plt\n",
    "import numpy as np\n",
    "\n",
    "alpha = 0.5\n",
    "\n",
    "t = np.linspace(-1, 1, 100)\n",
    "xx, yy = np.meshgrid(t, t)\n",
    "f1 = xx ** 2\n",
    "f2 = alpha * xx ** 2 + yy\n",
    "f = np.max([f1, f2], axis=0)\n",
    "\n",
    "CS = plt.contour(xx, yy, f, [0.003, 0.05, 0.1, 0.2, 0.5, 1])\n",
    "plt.clabel(CS)\n",
    "plt.plot(t, t ** 2 * alpha, ls=\"--\", c=\"k\", alpha=0.7)\n",
    "plt.axvline(0, 0, 0.5, c=\"r\")\n",
    "plt.xlabel(\"x\")\n",
    "plt.ylabel(\"y\");"
   ]
  },
  {
   "cell_type": "markdown",
   "id": "sealed-morocco",
   "metadata": {
    "id": "L4LfUNXLn7J_"
   },
   "source": [
    "## Exercise 2: Gradient descent for quadratic problem\n",
    "<div class=\"alert alert-info\">\n",
    "Exercise\n",
    "\n",
    "Let $0\\prec A\\in \\mathbb R^{n\\times n}$ be a positive definite matrix, and let $b\\in\\mathbb R^n$ and $c\\in \\mathbb R$. We consider the problem of minimizing the quadratic function\n",
    "$$\n",
    "    f(x) = \\frac12x^\\top A x - b^\\top x+c\n",
    "$$\n",
    "\n",
    "using gradient descent methods. Recall that this problem has unique minimizer $x_*=A^{-1}b$.\n",
    "\n",
    "</div>"
   ]
  },
  {
   "cell_type": "markdown",
   "id": "accessible-stranger",
   "metadata": {
    "id": "xKpxCegOn7M0"
   },
   "source": [
    "### Exercise 2a)\n",
    "<div class=\"alert alert-info\">\n",
    "Exercise\n",
    "\n",
    "Let $x_{k+1} = x_k-t\\nabla f(x_k)$. Show that \n",
    "$$\n",
    "    \\|x_{k+1}-x_*\\|\\leq \\|I-t A\\|\\|x_k-x_*\\|\n",
    "$$\n",
    "\n",
    "where the norm on the left of the right-hand-side is [the operator norm.](https://en.wikipedia.org/wiki/Operator_norm)\n",
    "\n",
    "_Hint: You can use that_ $Ax_*=b$.\n",
    "\n",
    "</div>"
   ]
  },
  {
   "cell_type": "markdown",
   "id": "destroyed-auditor",
   "metadata": {
    "id": "93NL1Ze9FbA7"
   },
   "source": [
    "We have \n",
    "$$\n",
    "\\begin{align}\n",
    "    \\|x_{k+1}-x_*\\| &= \\|x_k-t\\nabla f(x_k)-x_*\\|\\\\\n",
    "    &= \\|x_k-t (A x_k-b ) -x_*\\|\\\\\n",
    "    &= \\|x_k-t (A x_k-Ax_* ) -x_*\\|\\\\\n",
    "    &= \\|(I-t A)(x_k-x_*)\\|\\\\\n",
    "    &\\leq \\|I-tA\\|\\|x_k-x_*\\|\n",
    "\\end{align}\n",
    "$$\n",
    "\n",
    "Here we used the property that $\\|Av\\|\\leq \\|A\\|\\|v\\|$. This is true by the definiton of the operatorn norm: $\\|A\\| = \\operatorname{sup}_{v\\neq 0} \\|Av\\|/\\|v\\|$."
   ]
  },
  {
   "cell_type": "markdown",
   "id": "cheap-gather",
   "metadata": {
    "id": "vTWelOxVEuD7"
   },
   "source": [
    "### Exercise 2b)\n",
    "<div class=\"alert alert-info\">\n",
    "Exercise\n",
    "\n",
    "Let $\\lambda_1,\\lambda_n>0$ be respectively the smallest and biggest eigenvalue of $A$. Show that \n",
    "$$\n",
    "\\|I-tA\\| = \\max\\{|1-t\\lambda_1|,|1-t\\lambda_n|\\}$.\n",
    "$$\n",
    "\n",
    "\n",
    "_Hint: First show that_ $\\|I-tA\\| = \\max_i|1-t\\lambda_i|$ _with_ $\\lambda_i$ _the eigenvalues of_ $A$.\n",
    "</div>"
   ]
  },
  {
   "cell_type": "markdown",
   "id": "following-stewart",
   "metadata": {
    "id": "VpFlggixHfvz"
   },
   "source": [
    "Since $I$ and $tA$ commute, the specturm of $I-tA$ is given by $1-t\\cdot \\sigma (A)$. Hence we have that $\\|I-tA\\| = \\max_i |1-t\\lambda_i|$, with $\\lambda_i$ the eigenvalues of $A$. For fixed $t$, we have that $|1-t\\lambda_i|$ is as large as possible either if $\\lambda_i$ is the smallest or the biggest eigenvalue, hence \n",
    "$$\n",
    "h(t) = \\|I-tA\\| = \\max\\{|1-t\\lambda_1|,|1-t\\lambda_n|\\}\n",
    "$$\n"
   ]
  },
  {
   "cell_type": "markdown",
   "id": "alike-veteran",
   "metadata": {
    "id": "ARlsWUe2EuG6"
   },
   "source": [
    "### Exercise 2c)\n",
    "<div class=\"alert alert-info\">\n",
    "Exercise\n",
    "\n",
    "\n",
    "Show that $t=2/(\\lambda_1+\\lambda_n)$ minimizes $h(t)=\\|I-tA\\|$\n",
    "\n",
    "_Hint: You can use the fact that this function is minimized if and only if_ $0\\in\\partial h(t)$ _(c.f. Exercise 1b) and 1d))_\n",
    "\n",
    "</div>"
   ]
  },
  {
   "cell_type": "markdown",
   "id": "enhanced-devon",
   "metadata": {
    "id": "JNuZjNPiQ9Tk"
   },
   "source": [
    "The subgradient $\\partial h(t)$ is a single (non-zero) point if $|1-t\\lambda_1|\\neq |1-t\\lambda_n|$, since both $|1-t\\lambda_1|$ and $|1-t\\lambda_n|$ are differentiable if $1\\neq t\\lambda_i$, but if $1=t\\lambda_i$ then $|1-t\\lambda_j|$ for $j\\neq i$ is always bigger. Therefore $0\\in \\partial h(t)$ only if $|1-t\\lambda_1|=|1-t\\lambda_n|$. \n",
    "\n",
    "This means either $1-t\\lambda_1=1-t\\lambda_n$, and hence $t=0$. It is easy to see that $h(0)=[\\lambda_1,\\lambda_n]\\not\\owns 0$.\n",
    "\n",
    "Otherwise it means $1-t\\lambda-1=t\\lambda_n-1$, and hence $t=2/(\\lambda_n+\\lambda_n)$. At this point we have $h(t)=[-\\lambda_n,\\lambda_1]\\owns 0$ and hence $t=2/(\\lambda_n+\\lambda_n)$ is a global minimizer.\n",
    "\n",
    "The function $h(t)$ is shown below. Between $-\\infty$ and $0$ it has slope $-\\lambda_n$, then between $0$ and $2/(\\lambda_1+\\lambda_2)$ it has slope $-\\lambda_1$. Then after that it has slope $\\lambda_n$."
   ]
  },
  {
   "cell_type": "code",
   "execution_count": 2,
   "id": "identified-sperm",
   "metadata": {
    "colab": {
     "base_uri": "https://localhost:8080/",
     "height": 265
    },
    "executionInfo": {
     "elapsed": 784,
     "status": "ok",
     "timestamp": 1621255787843,
     "user": {
      "displayName": "Rik Voorhaar",
      "photoUrl": "https://lh3.googleusercontent.com/a-/AOh14GiARLX-61EWkT5u3TJ0aLe8HCXUEuzsxfIptxxWrw=s64",
      "userId": "13522764759478134685"
     },
     "user_tz": -120
    },
    "id": "Lv_59zJrKspU",
    "outputId": "4b5c41d6-577e-4aef-c0f8-e39aefcaf881"
   },
   "outputs": [
    {
     "data": {
      "image/png": "[encoded data removed]",
      "text/plain": [
       "<Figure size 432x288 with 1 Axes>"
      ]
     },
     "metadata": {
      "needs_background": "light"
     },
     "output_type": "display_data"
    }
   ],
   "source": [
    "import matplotlib.pyplot as plt\n",
    "import numpy as np\n",
    "\n",
    "lambda_1 = 1\n",
    "lambda_n = 2\n",
    "t_opt = 2 / (lambda_1 + lambda_n)\n",
    "\n",
    "t = np.linspace(-0.5, 1.5, 100)\n",
    "y = np.max([np.abs(1 - t * lambda_1), np.abs(1 - t * lambda_n)], axis=0)\n",
    "plt.plot(t, np.abs(1 - t * lambda_1), alpha=0.8)\n",
    "plt.plot(t, np.abs(1 - t * lambda_n), alpha=0.8)\n",
    "plt.plot(t, y, lw=3, c=\"r\")\n",
    "plt.axvline(0, c=\"k\", ls=\"--\", alpha=0.5)\n",
    "plt.axvline(t_opt, c=\"k\", ls=\"--\", alpha=0.5);"
   ]
  },
  {
   "cell_type": "markdown",
   "id": "declared-belfast",
   "metadata": {
    "id": "IT29dr6GEuJg"
   },
   "source": [
    "### Exercise 2d)\n",
    "<div class=\"alert alert-info\">\n",
    "Exercise\n",
    "\n",
    "Using the previous exercises, derive a convergence rate $\\gamma>0$ of gradient descent with optimal step size $t$ in terms of the condition number $\\kappa = \\lambda_n/\\lambda_1$:\n",
    "$$\n",
    "    \\|x_k-x_*\\|\\leq \\gamma^k\\|x_0-x_*\\|\n",
    "$$\n",
    "\n",
    "</div>"
   ]
  },
  {
   "cell_type": "markdown",
   "id": "premier-mailman",
   "metadata": {
    "id": "smFpFUsFRzPy"
   },
   "source": [
    "We have that $h(t)=\\|I-tA\\|$ is minimzed if $t=2/(\\lambda_1+\\lambda_n)$, in which case\n",
    "$$\n",
    "h(t) = 1-\\frac{2\\lambda_1}{\\lambda_1+\\lambda_n} = \\frac{\\lambda_n-\\lambda_1}{\\lambda_1+\\lambda_n} = \\frac{\\kappa-1}{\\kappa+1}.\n",
    "$$\n",
    "\n",
    "Hence by induction we get convergence rate\n",
    "$$\n",
    "\\|x_k-x_*\\|\\leq \\left(\\frac{\\kappa-1}{\\kappa+1}\\right)^k\\|x_0-x_*\\|\n",
    "$$"
   ]
  }
 ],
 "metadata": {
  "colab": {
   "collapsed_sections": [],
   "name": "week12.ipynb",
   "provenance": [],
   "toc_visible": true
  },
  "kernelspec": {
   "display_name": "Python 3",
   "language": "python",
   "name": "python3"
  },
  "language_info": {
   "codemirror_mode": {
    "name": "ipython",
    "version": 3
   },
   "file_extension": ".py",
   "mimetype": "text/x-python",
   "name": "python",
   "nbconvert_exporter": "python",
   "pygments_lexer": "ipython3",
   "version": "3.8.8"
  }
 },
 "nbformat": 4,
 "nbformat_minor": 5
}
