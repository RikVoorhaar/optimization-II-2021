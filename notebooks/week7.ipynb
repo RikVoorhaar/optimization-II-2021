{
 "cells": [
  {
   "cell_type": "markdown",
   "id": "silent-option",
   "metadata": {
    "id": "quick-velvet"
   },
   "source": [
    "[![Open in Colab](https://colab.research.google.com/assets/colab-badge.svg)](https://colab.research.google.com/github/RikVoorhaar/optimization-II-2021/blob/master/notebooks/week7.ipynb)"
   ]
  },
  {
   "cell_type": "markdown",
   "id": "constitutional-inflation",
   "metadata": {
    "id": "useful-speaker"
   },
   "source": [
    "# Week 7\n",
    "\n",
    "This is the third Python programming homework for this course. You can do this homework either on Google colab, or on your own machine (after installing conda). Some general instructions for the exercises:\n",
    "\n",
    "- In the description of every exercise we mention which functions you should use, and there will be a link to the relevant documentation. You are strongly encouraged to read the documentation, especially if you are not sure what the function does. \n",
    "\n",
    "- Each exersice consists of finishing some partially written code. The code you wrote is then automatically tested using a few `assert` statements. This is for your convenience, and you are requested __not to alter the tests__. If your code conforms to the instructions, and none of the tests throw an error, your answer is very likely to be correct. \n",
    "\n",
    "- It is possible to solve each exercise in no more than 10 lines of code, and most only need 2-3 lines. If your solution is much longer, you should try to make it shorter. In particular, don't forget that using vectorized `numpy` and `scipy` functions tends to produce shorter and much faster code than using nested Python `for` loops. \n",
    "\n",
    "- Before handing in, be sure to restart the IPython kernel (in colab: Runtime $\\to$ Run all) and run the entire notebook top-to-bottom and check that none of the cells throw an error. \n",
    "\n",
    "Now we begin by running the cell below. Google colab by default uses an outdated version of CVXPY, and so we will need to update it. This may take about a minute, but this is only performed once per session. If you're running this notebook on a local python installation, make sure that this cell does not throw any errors. If it does, you will need to install additional packages. You can do this by using `pip` from the command line."
   ]
  },
  {
   "cell_type": "code",
   "execution_count": 1,
   "id": "alive-tower",
   "metadata": {
    "executionInfo": {
     "elapsed": 1125,
     "status": "ok",
     "timestamp": 1618590154065,
     "user": {
      "displayName": "Rik Voorhaar",
      "photoUrl": "https://lh3.googleusercontent.com/a-/AOh14GiARLX-61EWkT5u3TJ0aLe8HCXUEuzsxfIptxxWrw=s64",
      "userId": "13522764759478134685"
     },
     "user_tz": -120
    },
    "id": "pretty-oklahoma"
   },
   "outputs": [],
   "source": [
    "from importlib_metadata import version\n",
    "\n",
    "if version('cvxpy')<'1.1.0':\n",
    "   !pip install --upgrade cvxpy\n",
    "\n",
    "import cvxpy as cp\n",
    "import matplotlib\n",
    "import matplotlib.pyplot as plt\n",
    "\n",
    "matplotlib.rcParams[\"figure.figsize\"] = (9, 6)\n",
    "import numpy as np\n",
    "import pandas as pd\n",
    "import scipy"
   ]
  },
  {
   "cell_type": "markdown",
   "id": "supposed-memorabilia",
   "metadata": {
    "id": "related-scratch"
   },
   "source": [
    "## Exercise 1\n",
    "\n",
    "Two players play a game. \n",
    "- Every turn player 1 chooses a number $k\\in\\{1,\\dots,n\\}$ and player 2 chooses a number $l\\in \\{1,\\dots,m\\}$. \n",
    "\n",
    "- Player 1 pays $P_{kl}$ Swiss francs to player 2, where $P$ is an $n\\times m$ matrix.  \n",
    "\n",
    "- Player 1 chooses $k$ according to a probability distribution $\\mathbb P(k=i) = u_i$, with $\\sum_{i=1}^n u_i=1$ and $u_i\\geq 0$, $\\forall i$  \n",
    "\n",
    "- Player 2 chooses $l$ (independently from player 1) according to a probability distribution $\\mathbb P(l=i) = v_i$, with $\\sum_{i=1}^n v_i=1$ and $v_i\\geq 0$, $\\forall i$  \n",
    "\n",
    "- The matrix $P$ is known to both players. The goal for player 1 is to choose their strategy $u$ to minimize the expected money paid to player 2. The goal for player 2 is to choose $v$ to maximize the expected money earned from player 1.   \n",
    "\n",
    "The expected amount player 1 pays to player 2 is given by\n",
    "$$\n",
    "\\begin{align}\n",
    "\\mathbb E[P] &= \\sum_{i=1}^n\\sum_{j=1}^m P_{kl}\\mathbb P(k=i,\\,l=j)\\\\\n",
    "&= \\sum_{i=1}^n\\sum_{j=1}^m P_{kl}u_iv_j\\\\\n",
    "&= u^\\top P v\n",
    "\\end{align}\n",
    "$$\n",
    "\n",
    "### Exercise 1a)\n",
    "> Assume you are player 1, and assume the worst case scenario where player 2 knows which strategy you chose and adapts their strategy to counter yours.  \n",
    "> Write a function `best_strategy_player1(P)` that takes the matrix $P$ as input, and as output gives the strategy of player 1 minimizing the following problem:\n",
    "$$\n",
    "    \\begin{array}{ll}\n",
    "    \\text{minimize} & \\sup \\{ u^\\top P v \\mid v\\geq 0,\\,\\sum_iv_i=1\\}\\\\\n",
    "    \\text{subject to} & u\\geq 0,\\,\\sum_i u_i=1\n",
    "    \\end{array}\n",
    "$$\n",
    "\n",
    "> First prove that this problem is equivalent to the LP below. Write your answer in the markdown cell below.\n",
    "$$\n",
    "    \\begin{array}{ll}\n",
    "        \\text{minimize} & t\\\\\n",
    "        \\text{subject to} & -u\\leq 0\\\\\n",
    "        & P^\\top u - t\\mathbf 1\\leq 0\\\\\n",
    "        & \\sum_i u_i -1 = 0\n",
    "    \\end{array}\n",
    "$$  \n",
    "\n",
    "___  "
   ]
  },
  {
   "cell_type": "markdown",
   "id": "alone-today",
   "metadata": {
    "id": "proof-antenna",
    "nbgrader": {
     "grade": true,
     "grade_id": "cell-a28a0847137ff583",
     "locked": false,
     "points": 0,
     "schema_version": 3,
     "solution": true,
     "task": false
    }
   },
   "source": [
    "BEGIN SOLUTION\n",
    "\n",
    "Note that $\\sup \\{ u^\\top P v \\mid v\\geq 0,\\,\\sum_iv_i=1\\}$ is attained when only one $v_i$ is nozero, namely the $v_i$ corresponding to $\\max_i (P^\\top u)_i$. Hence the problem is equivalent to\n",
    "$$\n",
    "    \\begin{array}{ll}\n",
    "    \\text{minimize} & \\max_i(P^\\top u)\\\\\n",
    "    \\text{subject to} & u\\geq 0,\\,\\sum_i u_i=1\n",
    "    \\end{array}\n",
    "$$\n",
    "\n",
    "This is in turn equivalent to the LP stated above.\n",
    "\n",
    "END SOLUTION"
   ]
  },
  {
   "cell_type": "code",
   "execution_count": 43,
   "id": "robust-communications",
   "metadata": {
    "colab": {
     "base_uri": "https://localhost:8080/"
    },
    "executionInfo": {
     "elapsed": 2307,
     "status": "ok",
     "timestamp": 1618590155258,
     "user": {
      "displayName": "Rik Voorhaar",
      "photoUrl": "https://lh3.googleusercontent.com/a-/AOh14GiARLX-61EWkT5u3TJ0aLe8HCXUEuzsxfIptxxWrw=s64",
      "userId": "13522764759478134685"
     },
     "user_tz": -120
    },
    "id": "searching-stuff",
    "nbgrader": {
     "grade": true,
     "grade_id": "cell-8257c706a4d763f0",
     "locked": false,
     "points": 0,
     "schema_version": 3,
     "solution": true,
     "task": false
    },
    "outputId": "1f70c7fe-0fb8-42d7-f74f-6ee110b0dec3"
   },
   "outputs": [
    {
     "name": "stdout",
     "output_type": "stream",
     "text": [
      "Best strategy for P =\n",
      " [[1 2]\n",
      " [2 3]]:\n"
     ]
    },
    {
     "data": {
      "text/plain": [
       "array([1.00000000e+00, 1.50933113e-10])"
      ]
     },
     "execution_count": 43,
     "metadata": {
      "tags": []
     },
     "output_type": "execute_result"
    }
   ],
   "source": [
    "def best_strategy_player1(P):\n",
    "    n, m = P.shape\n",
    "\n",
    "    # BEGIN SOLUTION\n",
    "\n",
    "    u = cp.Variable(n)\n",
    "    t = cp.Variable()\n",
    "    objective = cp.Minimize(t)  # cp.max(P.T @ u))\n",
    "    constraints = [u >= 0, cp.sum(u) == 1, P.T @ u <= t]\n",
    "    problem = cp.Problem(objective, constraints)\n",
    "    problem.solve()\n",
    "\n",
    "    return u.value\n",
    "\n",
    "    # END SOLUTION\n",
    "\n",
    "\n",
    "P = np.array([[1, 2], [2, 3]])\n",
    "\n",
    "print(f\"Best strategy for P =\\n {P}:\")\n",
    "\n",
    "best_strategy_player1(P)"
   ]
  },
  {
   "cell_type": "code",
   "execution_count": 44,
   "id": "split-aquatic",
   "metadata": {
    "executionInfo": {
     "elapsed": 2304,
     "status": "ok",
     "timestamp": 1618590155259,
     "user": {
      "displayName": "Rik Voorhaar",
      "photoUrl": "https://lh3.googleusercontent.com/a-/AOh14GiARLX-61EWkT5u3TJ0aLe8HCXUEuzsxfIptxxWrw=s64",
      "userId": "13522764759478134685"
     },
     "user_tz": -120
    },
    "id": "portuguese-mediterranean"
   },
   "outputs": [],
   "source": [
    "def tests_1a():\n",
    "    P = np.array([[1, 2], [2, 3]])\n",
    "    strat = best_strategy_player1(P)\n",
    "    assert (\n",
    "        np.linalg.norm(strat - np.array([1, 0])) < 1e-6\n",
    "    ), f\"The best strategy for {P} is [1,0], not {strat}\"\n",
    "\n",
    "    np.random.seed(179)\n",
    "    opt_strat_dict = {\n",
    "        2: np.array([4.39580392e-09, 9.99999996e-01]),\n",
    "        4: np.array([0.4102927, 0.25242817, 0.21473313, 0.12254599]),\n",
    "        6: np.array(\n",
    "            [\n",
    "                1.09552936e-10,\n",
    "                5.59919562e-11,\n",
    "                9.83453635e-10,\n",
    "                1.57090287e-09,\n",
    "                6.83967885e-01,\n",
    "                3.16032112e-01,\n",
    "            ]\n",
    "        ),\n",
    "    }\n",
    "    for n, m in zip([2, 4, 6], [2, 6, 4]):\n",
    "        P = np.random.uniform(size=(n, m))\n",
    "        strat = best_strategy_player1(P)\n",
    "        assert np.min(strat) > -1e-4, \"The strategy doesn't satisfy the constraints\"\n",
    "        assert (\n",
    "            np.abs(np.sum(strat) - 1) < 1e-4\n",
    "        ), \"The strategy doesn't satisfy the constraints\"\n",
    "        assert (\n",
    "            np.linalg.norm(strat - opt_strat_dict[n]) < 1e-4\n",
    "        ), f\"The optimal strategy for {P} is {opt_strat_dict[n]} and not {strat}\"\n",
    "\n",
    "\n",
    "tests_1a()"
   ]
  },
  {
   "cell_type": "markdown",
   "id": "spatial-hardware",
   "metadata": {
    "id": "rural-disabled"
   },
   "source": [
    "### Exercise 1b)\n",
    "> Write down the Lagrangian $L(t,u,\\lambda_1,\\lambda_2,\\nu)$ of the LP in problem 1a).\n",
    "> Compute the dual function $g(\\lambda_1,\\lambda_2,\\nu)$ and show that the dual problem of the LP in problem 1a) is given by\n",
    "$$\n",
    "    \\begin{array}{ll}\n",
    "        \\text{maximize} & \\nu\\\\\n",
    "        \\text{subject to} &\\lambda_1\\geq0, \\lambda_2\\geq0,\\\\\n",
    "        &\\mathbf 1^\\top \\lambda_2 =1,\\\\\n",
    "        &P\\lambda_2-\\nu\\mathbf 1=\\lambda_1\n",
    "    \\end{array}\n",
    "$$\n",
    "\n",
    "> Type your answer in the markdown cell below  \n",
    "\n",
    "___"
   ]
  },
  {
   "cell_type": "markdown",
   "id": "consecutive-browse",
   "metadata": {
    "id": "numeric-minnesota",
    "nbgrader": {
     "grade": true,
     "grade_id": "cell-2fb7d84b63acc999",
     "locked": false,
     "points": 0,
     "schema_version": 3,
     "solution": true,
     "task": false
    }
   },
   "source": [
    "BEGIN SOLUTION\n",
    "\n",
    "The LP is already in standard form, so we can immediately write down the Lagrangian:\n",
    "$$\n",
    "\\begin{align}\n",
    "L(t,u,\\lambda_1,\\lambda_2,\\nu) &= t + \\lambda_1^\\top (-u) + \\lambda_2^\\top(P^\\top u - t\\mathbf 1)+\\nu(1-\\mathbf 1^\\top u)\\\\\n",
    "&= \\nu + (1-\\mathbf 1^\\top \\lambda_2)t + (P\\lambda_2 -\\nu \\mathbf 1 -\\lambda_1)^\\top u\n",
    "\\end{align}\n",
    "$$  \n",
    "\n",
    "The dual is given by $g(\\lambda_1,\\lambda_2,\\nu) = \\inf_{t,u}L(t,u,\\lambda_1,\\lambda_2,\\nu)$. This infimum is unbounded below unless $1-\\mathbf 1^\\top \\lambda_2=0$ and $P\\lambda_2 -\\nu \\mathbf 1 -\\lambda_1=0$, in which case $g(\\lambda_1,\\lambda_2,\\nu) = \\nu$. Hence\n",
    "\n",
    "$$\n",
    "g(\\lambda_1,\\lambda_2,\\nu) = \\left\\{\\begin{array}{ll} \n",
    "\\nu & 1-\\mathbf 1^\\top \\lambda_2=0 \\text{, and } P\\lambda_2 -\\nu \\mathbf 1 -\\lambda_1=0\\\\ \n",
    "-\\infty & \\text{otherwise}\n",
    "\\end{array}\\right.\n",
    "$$\n",
    "\n",
    "It then easily follows that the problem above is indeed the dual problem.\n",
    "\n",
    "END SOLUTION"
   ]
  },
  {
   "cell_type": "markdown",
   "id": "coordinated-tomato",
   "metadata": {
    "id": "ahead-replica"
   },
   "source": [
    "### Exercise 1c)\n",
    "> Write a function `worst_case_payout` that solves the dual problem and returns the optimal value of $\\nu$. \n",
    "\n",
    "> How is this optimal value related to the best strategy that you computed in 1a). Type your answer in the markdown cell below  \n",
    "\n",
    "___"
   ]
  },
  {
   "cell_type": "code",
   "execution_count": 45,
   "id": "transsexual-french",
   "metadata": {
    "colab": {
     "base_uri": "https://localhost:8080/"
    },
    "executionInfo": {
     "elapsed": 2294,
     "status": "ok",
     "timestamp": 1618590155260,
     "user": {
      "displayName": "Rik Voorhaar",
      "photoUrl": "https://lh3.googleusercontent.com/a-/AOh14GiARLX-61EWkT5u3TJ0aLe8HCXUEuzsxfIptxxWrw=s64",
      "userId": "13522764759478134685"
     },
     "user_tz": -120
    },
    "id": "driving-shape",
    "nbgrader": {
     "grade": true,
     "grade_id": "cell-4fea83bcff9a69b5",
     "locked": false,
     "points": 0,
     "schema_version": 3,
     "solution": true,
     "task": false
    },
    "outputId": "2c72d650-cf31-4629-e696-7e7575b60c67"
   },
   "outputs": [
    {
     "name": "stdout",
     "output_type": "stream",
     "text": [
      "Worst case payout for P =\n",
      " [[1 2]\n",
      " [2 3]]:\n"
     ]
    },
    {
     "data": {
      "text/plain": [
       "array(2.)"
      ]
     },
     "execution_count": 45,
     "metadata": {
      "tags": []
     },
     "output_type": "execute_result"
    }
   ],
   "source": [
    "def worst_case_payout(P):\n",
    "    n, m = P.shape\n",
    "\n",
    "    # BEGIN SOLUTION\n",
    "\n",
    "    nu = cp.Variable()\n",
    "    lambda1 = cp.Variable(n)\n",
    "    lambda2 = cp.Variable(m)\n",
    "\n",
    "    objective = cp.Maximize(nu)\n",
    "    constraints = [\n",
    "        lambda1 >= 0,\n",
    "        lambda2 >= 0,\n",
    "        cp.sum(lambda2) == 1,\n",
    "        P @ lambda2 - nu == lambda1,\n",
    "    ]\n",
    "    problem = cp.Problem(objective, constraints)\n",
    "\n",
    "    problem.solve()\n",
    "\n",
    "    return nu.value\n",
    "\n",
    "    # END SOLUTION\n",
    "\n",
    "\n",
    "P = np.array([[1, 2], [2, 3]])\n",
    "\n",
    "print(f\"Worst case payout for P =\\n {P}:\")\n",
    "\n",
    "worst_case_payout(P)"
   ]
  },
  {
   "cell_type": "markdown",
   "id": "quiet-technology",
   "metadata": {
    "id": "Gx1qWA1KUvo6",
    "nbgrader": {
     "grade": true,
     "grade_id": "cell-c43b9ee28bb2750c",
     "locked": false,
     "points": 0,
     "schema_version": 3,
     "solution": true,
     "task": false
    }
   },
   "source": [
    "BEGIN SOLUTION\n",
    "\n",
    "The optimal $\\nu$ from 1c) correpsonds to the optimal value in 1a). This is to be expected since we have strong duality for an LP (and thus $d_* = p_*$).\n",
    "\n",
    "END SOLUTION"
   ]
  },
  {
   "cell_type": "code",
   "execution_count": 46,
   "id": "willing-crossing",
   "metadata": {
    "executionInfo": {
     "elapsed": 2292,
     "status": "ok",
     "timestamp": 1618590155261,
     "user": {
      "displayName": "Rik Voorhaar",
      "photoUrl": "https://lh3.googleusercontent.com/a-/AOh14GiARLX-61EWkT5u3TJ0aLe8HCXUEuzsxfIptxxWrw=s64",
      "userId": "13522764759478134685"
     },
     "user_tz": -120
    },
    "id": "satisfied-editor"
   },
   "outputs": [],
   "source": [
    "def tests_1b():\n",
    "    P = np.array([[1, 2], [2, 3]])\n",
    "    nu = worst_case_payout(P)\n",
    "    assert np.abs(nu - 2) < 1e-6, f\"Worst case payout for {P} is 2, not {nu}\"\n",
    "\n",
    "    np.random.seed(179)\n",
    "    opt_strat_dict = {\n",
    "        2: 0.8682671292087011,\n",
    "        4: 0.6428061261133738,\n",
    "        6: 0.6183670319137122,\n",
    "    }\n",
    "    for n, m in zip([2, 4, 6], [2, 6, 4]):\n",
    "        P = np.random.uniform(size=(n, m))\n",
    "        nu = worst_case_payout(P)\n",
    "        assert (\n",
    "            np.abs(nu - opt_strat_dict[n]) < 1e-4\n",
    "        ), f\"Optimal payout for {P} is {opt_strat_dict[n]}, not {nu}\"\n",
    "\n",
    "\n",
    "tests_1b()"
   ]
  },
  {
   "cell_type": "markdown",
   "id": "absolute-medium",
   "metadata": {
    "id": "fifteen-monaco"
   },
   "source": [
    "## Exercise 2\n",
    "\n",
    "A two-dimensional skeir must slalom down a slope by going through $n$ parallel gates with known positions $(x_i,y_i)$ and width $c_i$ for $i=1,\\dots, n$. The skier must start at a given position $(x_0,y_0)$ and end a position $(x_{n+1},y_{n+1})$.  \n",
    "\n",
    "We want to find the shortest path the skier can take to go through all the gates. The skier has supernatural powers so that she can make instananeous turns. Her path is thus a piecewise linear function, and we can assume that the skier only changes direction inside of the gates. We can therefore write the path like this:\n",
    "$$\n",
    "    (x_0,y_0)=(x_0,t_0)\\to (x_1,t_1)\\to(x_2,t_2)\\to\\dots\\to (x_n,t_n)\\to(x_{n+1},t_{n+1})= (x_{n+1},y_{n+1})\n",
    "$$\n",
    "\n",
    "Below we show a valid path of the skier, going through the middle all the gates. It is clearly not the shortest path."
   ]
  },
  {
   "cell_type": "code",
   "execution_count": 47,
   "id": "chemical-european",
   "metadata": {
    "colab": {
     "base_uri": "https://localhost:8080/",
     "height": 404
    },
    "executionInfo": {
     "elapsed": 2282,
     "status": "ok",
     "timestamp": 1618590155262,
     "user": {
      "displayName": "Rik Voorhaar",
      "photoUrl": "https://lh3.googleusercontent.com/a-/AOh14GiARLX-61EWkT5u3TJ0aLe8HCXUEuzsxfIptxxWrw=s64",
      "userId": "13522764759478134685"
     },
     "user_tz": -120
    },
    "id": "available-sheffield",
    "outputId": "e1b79e58-ae24-4794-dcc3-ab5c489cb486"
   },
   "outputs": [
    {
     "data": {
      "image/png": "[encoded data removed]",
      "text/plain": [
       "<Figure size 648x432 with 1 Axes>"
      ]
     },
     "metadata": {
      "needs_background": "light",
      "tags": []
     },
     "output_type": "display_data"
    }
   ],
   "source": [
    "n = 5\n",
    "\n",
    "\n",
    "def generate_slalom_course(n):\n",
    "    x = np.linspace(0, 1, n + 2)\n",
    "    x[1:-1] += np.random.uniform(low=-0.25 / (n + 2), high=0.25 / (n + 2), size=n)\n",
    "    y = np.random.uniform(size=n + 2)\n",
    "    c = np.random.uniform(low=0.05, high=0.2, size=n)\n",
    "\n",
    "    return x, y, c\n",
    "\n",
    "\n",
    "def plot_slalom_course(x, y, c, t):\n",
    "    plt.plot(x[1:-1], y[1:-1] - c / 2, \"k.\")\n",
    "    plt.plot(x[1:-1], y[1:-1] + c / 2, \"k.\")\n",
    "    plt.plot(x, t)\n",
    "    plt.plot((x[0], x[-1]), (y[0], y[-1]), \"ro\")\n",
    "    plt.xlabel(\"x\")\n",
    "    plt.ylabel(\"y\")\n",
    "    plt.title(f\"The path of a slalom skier through {len(c)} gates\")\n",
    "\n",
    "\n",
    "np.random.seed(7)\n",
    "x, y, c = generate_slalom_course(n)\n",
    "t = y\n",
    "\n",
    "plot_slalom_course(x, y, c, t)\n",
    "plt.title(\"Suboptimal path of a slalom skier\");"
   ]
  },
  {
   "cell_type": "markdown",
   "id": "strategic-taxation",
   "metadata": {
    "id": "focused-photography"
   },
   "source": [
    "___  \n",
    "\n",
    "> Write a function `slalom_path(x,y,c)` that outputs the $t$-values of the shortest path $(x_0, t_0),(x_1,t_1),\\dots,(x_n,t_n),(x_{n+1},t_{n+1})$ as a vector of length $n+2$. \n",
    "> You should find a convex optimization problem that finds this path yourself, and solve it using `cvxpy`.  \n",
    "\n",
    "___\n",
    "\n",
    "Tips:  \n",
    "\n",
    "- Use [cp.diff](https://www.cvxpy.org/api_reference/cvxpy.atoms.affine.html#diff) to obtain the differences of consecutive values of a vector.  \n",
    "\n",
    "- Use [cp.vstack](https://www.cvxpy.org/api_reference/cvxpy.atoms.affine.html#vstack) to 'stack' multiple vectors into a matrix.  \n",
    "\n",
    "- Use the `axis` keyword of [cp.norm](https://www.cvxpy.org/api_reference/cvxpy.atoms.other_atoms.html#norm) to compute the norms of the rows or columns of a matrix.  \n",
    "\n",
    "- If `x` is a vector, then `x[1:-1]` gives the vector with the first and last value removed.  "
   ]
  },
  {
   "cell_type": "code",
   "execution_count": 48,
   "id": "artistic-mineral",
   "metadata": {
    "colab": {
     "base_uri": "https://localhost:8080/",
     "height": 404
    },
    "executionInfo": {
     "elapsed": 2272,
     "status": "ok",
     "timestamp": 1618590155263,
     "user": {
      "displayName": "Rik Voorhaar",
      "photoUrl": "https://lh3.googleusercontent.com/a-/AOh14GiARLX-61EWkT5u3TJ0aLe8HCXUEuzsxfIptxxWrw=s64",
      "userId": "13522764759478134685"
     },
     "user_tz": -120
    },
    "id": "retained-sensitivity",
    "nbgrader": {
     "grade": true,
     "grade_id": "cell-5278002c29e0e07d",
     "locked": false,
     "points": 0,
     "schema_version": 3,
     "solution": true,
     "task": false
    },
    "outputId": "106eccd7-f999-45a0-fe13-159d7e21750d"
   },
   "outputs": [
    {
     "data": {
      "image/png": "[encoded data removed]",
      "text/plain": [
       "<Figure size 648x432 with 1 Axes>"
      ]
     },
     "metadata": {
      "needs_background": "light",
      "tags": []
     },
     "output_type": "display_data"
    }
   ],
   "source": [
    "def slalom_path(x, y, c):\n",
    "    n = len(x) - 2\n",
    "\n",
    "    # BEGIN SOLUTION\n",
    "\n",
    "    t = cp.Variable(n + 2)\n",
    "\n",
    "    t_diffs = cp.diff(t)\n",
    "    x_diffs = cp.diff(x)\n",
    "    objective = cp.Minimize(cp.sum(cp.norm(cp.vstack([t_diffs, x_diffs]), axis=0)))\n",
    "    constraints = [t[0] == y[0], t[-1] == y[-1], cp.abs(t[1:-1] - y[1:-1]) <= c / 2]\n",
    "\n",
    "    problem = cp.Problem(objective, constraints)\n",
    "    problem.solve()\n",
    "\n",
    "    return t.value\n",
    "\n",
    "    # END SOLUTION\n",
    "\n",
    "\n",
    "x, y, c = generate_slalom_course(6)\n",
    "t = slalom_path(x, y, c)\n",
    "plot_slalom_course(x, y, c, t)"
   ]
  },
  {
   "cell_type": "code",
   "execution_count": 49,
   "id": "approved-cache",
   "metadata": {
    "executionInfo": {
     "elapsed": 2959,
     "status": "ok",
     "timestamp": 1618590155953,
     "user": {
      "displayName": "Rik Voorhaar",
      "photoUrl": "https://lh3.googleusercontent.com/a-/AOh14GiARLX-61EWkT5u3TJ0aLe8HCXUEuzsxfIptxxWrw=s64",
      "userId": "13522764759478134685"
     },
     "user_tz": -120
    },
    "id": "descending-myrtle"
   },
   "outputs": [],
   "source": [
    "def tests_2():\n",
    "    np.random.seed(179)\n",
    "    t_mean_dic = {\n",
    "        6: 0.6929467789418455,\n",
    "        7: 0.584999362175624,\n",
    "        8: 0.6608071005820881,\n",
    "        9: 0.5620933550452925,\n",
    "    }\n",
    "    try:\n",
    "        for n in range(6, 10):\n",
    "            x, y, c = generate_slalom_course(n)\n",
    "            t = slalom_path(x, y, c)\n",
    "            assert (\n",
    "                np.abs(t[0] - y[0]) < 1e-5\n",
    "            ), \"The path doesn't start at the right point\"\n",
    "            assert (\n",
    "                np.abs(t[-1] - y[-1]) < 1e-5\n",
    "            ), \"The path doesn't end at the right point\"\n",
    "            assert np.all(\n",
    "                np.abs(y - t) - 1e-4 <= 0.1\n",
    "            ), \"The path doesn't go through all the gates\"\n",
    "            assert (\n",
    "                np.mean(np.abs(t - y)) > 1e-3\n",
    "            ), \"The path going through the middle of all the gates is not optimal\"\n",
    "\n",
    "            assert np.abs(np.mean(t) - t_mean_dic[n]) < 1e-3, \"The path is not optimal.\"\n",
    "\n",
    "            c = c * 1e-6\n",
    "            t = slalom_path(x, y, c)\n",
    "            assert np.all(\n",
    "                np.abs(y - t) <= 1e-3\n",
    "            ), \"The path doesn't go through all the gates when the gates are tiny\"\n",
    "\n",
    "            c = c + 2\n",
    "            t = slalom_path(x, y, c)\n",
    "            assert (\n",
    "                np.linalg.norm(np.diff(np.diff(t) / np.diff(x))) < 1e-3\n",
    "            ), \"If the gates are very wide, a straight path is optimal.\"\n",
    "\n",
    "    except AssertionError:\n",
    "        print(\"Something went wrong in the situation plotted below:\")\n",
    "        plot_slalom_course(x, y, c, t)\n",
    "        raise\n",
    "\n",
    "\n",
    "tests_2()"
   ]
  },
  {
   "cell_type": "markdown",
   "id": "integral-killer",
   "metadata": {
    "id": "sealed-hours"
   },
   "source": [
    "## Exercise 3\n",
    "\n",
    "Suppose you want to design a two-stage rocket to deliver a payload of mass $m_p$ into a low-earth orbit. Each rocket stage has an initial mass $m_{0,i}$ and a final mass $m_{1,i}$. The difference $m_{1,i}-m_{0,i}$ is the mass of the fuel. The rocket equation tells us that each stage of the rocket can give a change in velocity given by\n",
    "$$\n",
    "    \\Delta v_i = v_e \\log \\frac{m_{0,i}}{m_{1,i}}\n",
    "$$\n",
    "\n",
    "where $v_e$ is the _effective exhaust velocity_, a measure of the fuel efficieny of the rocket. For a rocket with two stages, this means a total change in velocity of\n",
    "$$\n",
    "\\begin{align}\n",
    "    \\Delta v = v_e \\log \\frac{m_{0,1}}{m_{1,1}} + v_e \\log \\frac{m_{0,2}}{m_{1,2}} =v_e \\log \\frac{m_{0,1}m_{0,2}}{m_{1,1}m_{1,2}}\n",
    "\\end{align}\n",
    "$$\n",
    "\n",
    "Each stage has a _dry weight_ of at least 10% the mass of the stage given by the mass of the fuel tanks and engines.\n",
    "There are a few design constraints.  \n",
    "\n",
    "- The first stage needs to carry the weight of the second stage in addition to its dry weight, this means that we have: $m_{1,1}\\geq 0.1 m_{0,1}+m_{0,2}$.\n",
    "\n",
    "- The second stage needs to carry payload (of mass $m_p$) in addition to its dry weight, hence $m_{1,2}\\geq 0.1 m_{0,2}+ m_p$. \n",
    "\n",
    "- For any stage the initial weight is always more than the final weight: $m_{0,i}\\geq m_{1,i}$.\n",
    "\n",
    "- We need to reach orbital velocity (about 7.8 km/s). To also compensate for losses due to drag and gravity we require $\\Delta v \\geq 9.4\\,\\text{km}/\\text{s}$. We will however solve the problem for arbitrary target $\\Delta v$.\n",
    "\n",
    "___\n",
    "\n",
    "> We want to minimize the total weight $m_{1,1}+m_{1,2}$ of the rocket such that it still satisfies the design constraints.\n",
    "> This problem is a geometric program.   \n",
    "> Write a function `two_stage_rocket(exhaust_velocity, target_delta_v, payload_mass)` that solves the \n",
    "> design problem using CVXPY. It should return a list with the values of $(m_{0,1},\\, m_{1,1},\\, m_{0,2},\\, m_{1,2})$.  \n",
    "\n",
    "___  \n",
    "\n",
    "Tips:  \n",
    "\n",
    "- When solving a GP, you need to specify this by calling `problem.solve(gp=True)`.   \n",
    "\n",
    "- When solving a GP, you need to tell CVXPY that your variables are positive by using `cp.Variable(pos=True)`.   \n",
    "\n",
    "- Since we're using ratios of masses, and since $\\Delta v$ and $v_e$ have the same units, you don't need to worry about units of the quantities.   "
   ]
  },
  {
   "cell_type": "code",
   "execution_count": 50,
   "id": "stable-oracle",
   "metadata": {
    "colab": {
     "base_uri": "https://localhost:8080/"
    },
    "executionInfo": {
     "elapsed": 2953,
     "status": "ok",
     "timestamp": 1618590155953,
     "user": {
      "displayName": "Rik Voorhaar",
      "photoUrl": "https://lh3.googleusercontent.com/a-/AOh14GiARLX-61EWkT5u3TJ0aLe8HCXUEuzsxfIptxxWrw=s64",
      "userId": "13522764759478134685"
     },
     "user_tz": -120
    },
    "id": "unlimited-criterion",
    "nbgrader": {
     "grade": true,
     "grade_id": "cell-50a541f8c096c078",
     "locked": false,
     "points": 0,
     "schema_version": 3,
     "solution": true,
     "task": false
    },
    "outputId": "50f0ba75-9167-417b-aca2-7276f2095a38"
   },
   "outputs": [
    {
     "data": {
      "text/plain": [
       "(69.08225961890517, 11.47063382410245, 4.562407869965121, 1.4562407905915395)"
      ]
     },
     "execution_count": 50,
     "metadata": {
      "tags": []
     },
     "output_type": "execute_result"
    }
   ],
   "source": [
    "def two_stage_rocket(exhaust_velocity, target_delta_v, payload_mass):\n",
    "    # BEGIN SOLUTION\n",
    "\n",
    "    m01 = cp.Variable(pos=True)\n",
    "    m11 = cp.Variable(pos=True)\n",
    "    m02 = cp.Variable(pos=True)\n",
    "    m12 = cp.Variable(pos=True)\n",
    "\n",
    "    objective = cp.Minimize(m11 + m12)\n",
    "    constraints = [\n",
    "        exhaust_velocity * cp.log(m01 * m02 / (m11 * m12)) >= target_delta_v,\n",
    "        m11 >= m02 + 0.1 * m01,\n",
    "        m12 >= payload_mass + m02 * 0.1,\n",
    "        m02 >= m12,\n",
    "        m01 >= m11,\n",
    "    ]\n",
    "\n",
    "    problem = cp.Problem(objective, constraints)\n",
    "\n",
    "    problem.solve(gp=True)\n",
    "\n",
    "    m = (m01.value, m11.value, m02.value, m12.value)\n",
    "\n",
    "    return m\n",
    "\n",
    "    # END SOLUTION\n",
    "\n",
    "\n",
    "two_stage_rocket(3.2, 9.4, 1)"
   ]
  },
  {
   "cell_type": "code",
   "execution_count": 51,
   "id": "several-appraisal",
   "metadata": {
    "executionInfo": {
     "elapsed": 2952,
     "status": "ok",
     "timestamp": 1618590155954,
     "user": {
      "displayName": "Rik Voorhaar",
      "photoUrl": "https://lh3.googleusercontent.com/a-/AOh14GiARLX-61EWkT5u3TJ0aLe8HCXUEuzsxfIptxxWrw=s64",
      "userId": "13522764759478134685"
     },
     "user_tz": -120
    },
    "id": "permanent-tenant"
   },
   "outputs": [],
   "source": [
    "def tests_3():\n",
    "    answer_dic = {\n",
    "        (3.2, 8.5, 1): 48.20675019857243,\n",
    "        (3.2, 8.5, 10): 482.06749968213853,\n",
    "        (3.2, 9.5, 1): 77.42781568860711,\n",
    "        (3.2, 9.5, 10): 774.2781096439586,\n",
    "        (3.6, 8.5, 1): 32.190783392460546,\n",
    "        (3.6, 8.5, 10): 321.907825185365,\n",
    "        (3.6, 9.5, 1): 47.02729452261383,\n",
    "        (3.6, 9.5, 10): 470.2729286076839,\n",
    "    }\n",
    "    for exhaust_velocity in [3.2, 3.6]:\n",
    "        for target_delta_v in [8.5, 9.5]:\n",
    "            for payload_mass in [1, 10]:\n",
    "                m = two_stage_rocket(exhaust_velocity, target_delta_v, payload_mass)\n",
    "                m = np.array(m)\n",
    "                assert len(m) == 4, \"Return the four masses (m01, m11, m02, m12)\"\n",
    "                assert m[0] is not None, \"CVXPY did not find a feasible point\"\n",
    "                assert np.all(\n",
    "                    np.diff(m) < 0\n",
    "                ), \"The masses of consectuvive stages should be in decreasing order\"\n",
    "                assert np.all(\n",
    "                    m > payload_mass\n",
    "                ), \"The final stage is lighter than the payload mass\"\n",
    "                total_mass = m[0] + m[2]\n",
    "                correct_mass = answer_dic[\n",
    "                    (exhaust_velocity, target_delta_v, payload_mass)\n",
    "                ]\n",
    "                assert (\n",
    "                    np.abs(total_mass - correct_mass) / correct_mass < 1e-3\n",
    "                ), f\"\"\"For paramaters {(exhaust_velocity, target_delta_v, payload_mass)}\n",
    "                the correct mass is {correct_mass:.3f}, but got {total_mass:.3f}\"\"\"\n",
    "\n",
    "\n",
    "tests_3()"
   ]
  },
  {
   "cell_type": "markdown",
   "id": "aging-apparel",
   "metadata": {
    "id": "remarkable-willow"
   },
   "source": [
    "Below we see that the total vehicle mass as function of the target $\\Delta v$. With an effective exhaust velocity of $v_e = 3.2$ km/s and a 10% dry weight, we cannot design a rocket with more than about 14.7 km/s $\\Delta v$. The amount of mass required increases more than exponentially with the target $\\Delta v$. Most real-life rockets have three stages, since this can significantly decrease the mass of the rocket for the same $\\Delta v$. Usually the second (and third) stages of a rocket also have higher effective exhaust velocities since rocket engines are more efficient in a vacuum."
   ]
  },
  {
   "cell_type": "code",
   "execution_count": 52,
   "id": "israeli-reproduction",
   "metadata": {
    "colab": {
     "base_uri": "https://localhost:8080/",
     "height": 410
    },
    "executionInfo": {
     "elapsed": 4154,
     "status": "ok",
     "timestamp": 1618590157163,
     "user": {
      "displayName": "Rik Voorhaar",
      "photoUrl": "https://lh3.googleusercontent.com/a-/AOh14GiARLX-61EWkT5u3TJ0aLe8HCXUEuzsxfIptxxWrw=s64",
      "userId": "13522764759478134685"
     },
     "user_tz": -120
    },
    "id": "inside-converter",
    "outputId": "6994982a-2455-479d-ee47-77d4c192d9ba"
   },
   "outputs": [
    {
     "data": {
      "image/png": "[encoded data removed]",
      "text/plain": [
       "<Figure size 648x432 with 1 Axes>"
      ]
     },
     "metadata": {
      "needs_background": "light",
      "tags": []
     },
     "output_type": "display_data"
    }
   ],
   "source": [
    "delta_v = np.linspace(0.1, 14.7, 20)\n",
    "masses = np.array([two_stage_rocket(3.2, x, 1) for x in delta_v])\n",
    "plt.plot(delta_v, masses[:, 0] + masses[:, 2])\n",
    "plt.yscale(\"log\")\n",
    "plt.xlabel(\"Target $\\Delta v$ (km/s)\")\n",
    "plt.ylabel(\"Total vehicle mass (T)\")\n",
    "plt.axvline(14.73654, c=\"k\", ls=\"--\")\n",
    "plt.title(\"Total vehicle mass of two stage rocket vs. target $\\Delta V$.\");"
   ]
  },
  {
   "cell_type": "markdown",
   "id": "destroyed-likelihood",
   "metadata": {
    "id": "physical-monitoring"
   },
   "source": [
    "## Exercise 4\n",
    "\n",
    "Consider $k$ points $x_1,\\dots,x_k$ in $\\mathbb R^2$. For a given $d>0$, we define the $k$-ellipse with radius $d$ as the set of points $x\\in \\mathbb R^2$ such that \n",
    "$$\n",
    "\\left\\{x\\in \\mathbb R^2\\mid \\sum_{i=1}^k \\|x-x_i\\| = d\\right\\}\n",
    "$$\n",
    "\n",
    "For small $d$, this set can be empty. The point $x^*$ that solves $\\operatorname{min}_x \\sum_{i=1}^k \\|x-x_i\\|$ is called the _geometric median_ of $X=(x_1,\\dots, x_k)$. For more information, see also [Wikipedia](https://en.wikipedia.org/wiki/Geometric_median).\n",
    "\n",
    "### Exercise 4a\n",
    "\n",
    "> Write a function `geometric_median_problem(X)` which takes a matrix `X` of shape `(k,2)` as input and returns a CVXPY problem solving the geometric median problem for $X$. \n",
    "> This problem is an SOCP, and you are only allowed to use [cp.SOC](https://www.cvxpy.org/api_reference/cvxpy.constraints.html#soc) constraints.  \n",
    "> You must use the variable `x` with `name='x'`.  \n",
    "\n",
    "___  \n",
    "\n",
    "Tips:\n",
    "\n",
    "- First write the problem as an SOCP, for this you may need to introduce a new optimization variable. You do not have to write the SOCP in standard form.  \n",
    "\n",
    "- An SOC constraint [cp.SOC](https://www.cvxpy.org/api_reference/cvxpy.constraints.html#soc) of form `cp.SOC(t,X)` means $\\|X\\|_2 \\leq t$. It is recommended to create a seperate SOC constraint for each $1\\leq i\\leq k$.  "
   ]
  },
  {
   "cell_type": "code",
   "execution_count": 53,
   "id": "adjacent-migration",
   "metadata": {
    "colab": {
     "base_uri": "https://localhost:8080/",
     "height": 390
    },
    "executionInfo": {
     "elapsed": 4147,
     "status": "ok",
     "timestamp": 1618590157164,
     "user": {
      "displayName": "Rik Voorhaar",
      "photoUrl": "https://lh3.googleusercontent.com/a-/AOh14GiARLX-61EWkT5u3TJ0aLe8HCXUEuzsxfIptxxWrw=s64",
      "userId": "13522764759478134685"
     },
     "user_tz": -120
    },
    "id": "numerous-audio",
    "nbgrader": {
     "grade": true,
     "grade_id": "cell-b7755c951e3e3eaa",
     "locked": false,
     "points": 0,
     "schema_version": 3,
     "solution": true,
     "task": false
    },
    "outputId": "900cb501-7661-4134-a745-45cc0b640f53"
   },
   "outputs": [
    {
     "data": {
      "image/png": "[encoded data removed]",
      "text/plain": [
       "<Figure size 648x432 with 1 Axes>"
      ]
     },
     "metadata": {
      "needs_background": "light",
      "tags": []
     },
     "output_type": "display_data"
    }
   ],
   "source": [
    "def geometric_median_problem(X):\n",
    "    k = X.shape[0]\n",
    "    x = cp.Variable(2, name=\"x\")\n",
    "    \n",
    "    # BEGIN SOLUTION\n",
    "    \n",
    "    d = cp.Variable(k)\n",
    "    objective = cp.Minimize(np.ones(k).T@d)\n",
    "    constraints = [cp.SOC(d[i],X[i]-x) for i in range(k)]\n",
    "\n",
    "    problem = cp.Problem(objective, constraints)\n",
    "    problem.solve()\n",
    "\n",
    "    return problem\n",
    "\n",
    "    # END SOLUTION\n",
    "\n",
    "\n",
    "def geometric_median(X):\n",
    "    \"\"\"Solve the geometric median problem and return minimum distance and optimal point\"\"\"\n",
    "    problem = geometric_median_problem(X)\n",
    "    d = problem.solve()\n",
    "    x = [v.value for v in problem.variables() if v.name() == \"x\"][0]\n",
    "    return d, x\n",
    "\n",
    "\n",
    "k = 3\n",
    "X = np.random.normal(size=(k, 2))\n",
    "\n",
    "d, x = geometric_median(X)\n",
    "plt.title(\"Geometric median point\")\n",
    "plt.plot([x[0]], [x[1]], \"ro\")\n",
    "plt.plot(X[:, 0], X[:, 1], \".\");"
   ]
  },
  {
   "cell_type": "code",
   "execution_count": 54,
   "id": "bigger-price",
   "metadata": {
    "colab": {
     "base_uri": "https://localhost:8080/"
    },
    "executionInfo": {
     "elapsed": 4142,
     "status": "ok",
     "timestamp": 1618590157165,
     "user": {
      "displayName": "Rik Voorhaar",
      "photoUrl": "https://lh3.googleusercontent.com/a-/AOh14GiARLX-61EWkT5u3TJ0aLe8HCXUEuzsxfIptxxWrw=s64",
      "userId": "13522764759478134685"
     },
     "user_tz": -120
    },
    "id": "adjusted-manufacturer",
    "outputId": "0a1cba8f-6f5f-4b04-97f1-b605df8432dd"
   },
   "outputs": [
    {
     "name": "stdout",
     "output_type": "stream",
     "text": [
      "1: 0.03900238975942678,\n",
      "2: -0.5489833285064573,\n",
      "3: 0.7783347685248139,\n",
      "4: 0.5494309633850374,\n"
     ]
    }
   ],
   "source": [
    "def tests_4a():\n",
    "    np.random.seed(179)\n",
    "    distance_dic = {\n",
    "        1: 0,\n",
    "        2: 2.6188843567660545,\n",
    "        3: 1.1214175907750659,\n",
    "        4: 3.25532276660768,\n",
    "    }\n",
    "    x_mean_dic = {\n",
    "        1: 0.03900238975942678,\n",
    "        2: -0.5489833285064573,\n",
    "        3: 0.7783347685248139,\n",
    "        4: 0.5494309633850374,\n",
    "    }\n",
    "    for k in range(1, 5):\n",
    "        X = np.random.normal(size=(k, 2))\n",
    "        problem = geometric_median_problem(X)\n",
    "        assert isinstance(\n",
    "            problem, cp.Problem\n",
    "        ), f\"You need to return a cp.Problem, instead got {type(problem)}\"\n",
    "        assert len(problem.constraints) > 0, \"The optimizaton is unconstrained\"\n",
    "        assert np.all(\n",
    "            [\n",
    "                isinstance(c, cp.constraints.second_order.SOC)\n",
    "                for c in problem.constraints\n",
    "            ]\n",
    "        ), \"You can only use SOC constraints\"\n",
    "        d, x = geometric_median(X)\n",
    "        correct_d = distance_dic[k]\n",
    "        assert (\n",
    "            np.abs(d - correct_d) < 1e-3\n",
    "        ), f\"Distance should be {correct_d:.3f} but got {d:.3f}\"\n",
    "        print(f\"{k}: {np.mean(x)},\")\n",
    "        correct_mean = x_mean_dic[k]\n",
    "        assert (\n",
    "            np.abs(np.mean(x) - correct_mean) < 1e-3\n",
    "        ), f\"Distance should be {correct_mean:.3f} but got {np.mean(x):.3f}\"\n",
    "\n",
    "\n",
    "tests_4a()"
   ]
  },
  {
   "cell_type": "markdown",
   "id": "hungarian-merchandise",
   "metadata": {
    "id": "amino-momentum"
   },
   "source": [
    "### Exercise 4b)\n",
    "\n",
    "Next we want to plot the $k$-ellipses associated to some points $X=(x_1,\\dots,x_k)$. The easiest way to do this is to compute \n",
    "$$\n",
    "f(x) = \\sum_{i=1}^k \\|x-x_i\\|\n",
    "$$\n",
    "\n",
    "for many values of $x$ in a grid, and then look at contours $\\{f(x)=d \\mid x\\in \\mathbb R^2\\}$.  \n",
    "\n",
    "___  \n",
    "\n",
    "> Finish the code for the function `plot_k_ellipse(X)` below.   \n",
    "> Here `xx` and `yy` are the $x$ and $y$ values respectively of a 100x100 grid.  \n",
    "> You should use [plt.contour](https://matplotlib.org/stable/api/_as_gen/matplotlib.pyplot.contour.html) to plot a contour; be sure to read the documentation.  \n",
    "> For the first two arguments use `xx` and `yy`, the third argument you will need to compute yourself.  \n",
    "\n",
    "___  \n",
    "\n",
    "\n",
    "Tips:\n",
    "\n",
    "- You can do a for loop over all pairs of values `xx` and `yy`. The [zip](https://docs.python.org/3/library/functions.html#zip) function may be helpful.  \n",
    "\n",
    "- There are no tests for this exercise. To verify for yourself if the code is correct, try varying the value of `k` used and see if the results make sense.  "
   ]
  },
  {
   "cell_type": "code",
   "execution_count": 68,
   "id": "ideal-history",
   "metadata": {
    "executionInfo": {
     "elapsed": 672,
     "status": "ok",
     "timestamp": 1618591011545,
     "user": {
      "displayName": "Rik Voorhaar",
      "photoUrl": "https://lh3.googleusercontent.com/a-/AOh14GiARLX-61EWkT5u3TJ0aLe8HCXUEuzsxfIptxxWrw=s64",
      "userId": "13522764759478134685"
     },
     "user_tz": -120
    },
    "id": "4h2dZ7FUht8Y"
   },
   "outputs": [],
   "source": [
    "\n",
    "k = 3\n",
    "X = np.random.normal(size=(k, 2))\n",
    "N_points = 100\n",
    "xx = np.linspace(np.min(X) - 1, np.max(X) + 1, N_points)\n",
    "yy = np.linspace(np.min(X) - 1, np.max(X) + 1, N_points)\n",
    "xx, yy = np.meshgrid(xx, yy)\n",
    "\n"
   ]
  },
  {
   "cell_type": "code",
   "execution_count": 81,
   "id": "utility-acceptance",
   "metadata": {
    "colab": {
     "base_uri": "https://localhost:8080/",
     "height": 628
    },
    "executionInfo": {
     "elapsed": 26772,
     "status": "ok",
     "timestamp": 1618591352798,
     "user": {
      "displayName": "Rik Voorhaar",
      "photoUrl": "https://lh3.googleusercontent.com/a-/AOh14GiARLX-61EWkT5u3TJ0aLe8HCXUEuzsxfIptxxWrw=s64",
      "userId": "13522764759478134685"
     },
     "user_tz": -120
    },
    "id": "worldwide-angle",
    "nbgrader": {
     "grade": true,
     "grade_id": "cell-3f44f799386083d0",
     "locked": false,
     "points": 0,
     "schema_version": 3,
     "solution": true,
     "task": false
    },
    "outputId": "ffa0ac7c-e569-46c7-a20f-2b76e5886bb0"
   },
   "outputs": [
    {
     "name": "stdout",
     "output_type": "stream",
     "text": [
      "CPU times: user 22.7 s, sys: 3.09 s, total: 25.8 s\n",
      "Wall time: 25.6 s\n"
     ]
    },
    {
     "data": {
      "image/png": "[encoded data removed]",
      "text/plain": [
       "<Figure size 720x720 with 1 Axes>"
      ]
     },
     "metadata": {
      "needs_background": "light",
      "tags": []
     },
     "output_type": "display_data"
    }
   ],
   "source": [
    "def plot_k_ellipse(X):\n",
    "    N_points = 100\n",
    "    xx = np.linspace(np.min(X) - 1, np.max(X) + 1, N_points)\n",
    "    yy = np.linspace(np.min(X) - 1, np.max(X) + 1, N_points)\n",
    "    xx, yy = np.meshgrid(xx, yy)\n",
    "    \n",
    "    plt.figure(figsize=(10,10))\n",
    "\n",
    "    # BEGIN SOLUTION\n",
    "\n",
    "    # Simple solution. \n",
    "    # For loops are slow in Python, so we want avoid big loops.\n",
    "    # Time: 8.38s for N_points = 500\n",
    "    # Z = np.zeros_like(xx)\n",
    "    # for i in range(xx.shape[0]):\n",
    "    #     for j in range(xx.shape[1]):\n",
    "    #         for k in range(len(X)):\n",
    "    #             Z[i,j] += np.linalg.norm(X[k] - np.array((xx[i,j],yy[i,j])))\n",
    "\n",
    "    # Faster solution. If we want even faster, we should parallelize this.\n",
    "    # Time: 138 ms for N_points=500\n",
    "    xxyy = np.stack([xx,yy],axis=-1)\n",
    "    Z = np.zeros_like(xx)\n",
    "    for k in range(len(X)):\n",
    "        Z+=np.linalg.norm(xxyy-X[k],axis=-1)\n",
    "\n",
    "    CS = plt.contour(xx, yy, Z)\n",
    "\n",
    "    # END SOLUTION\n",
    "\n",
    "    plt.clabel(CS)  # Put labels on each contour\n",
    "    plt.plot(X[:, 0], X[:, 1], \"o\")  # Plot the k points\n",
    "    \n",
    "    # If you completed exercise 4a), also show the geometric median\n",
    "    try:\n",
    "        d, x = geometric_median(X)\n",
    "        plt.plot([x[0]], [x[1]], \"ro\")\n",
    "    except:  # Never EVER use a bare except statement, except if you're the teacher :-)\n",
    "        print(\"Geometric median not implemented.\")\n",
    "\n",
    "\n",
    "k = 3\n",
    "X = np.random.normal(size=(k, 2))\n",
    "\n",
    "plot_k_ellipse(X)"
   ]
  }
 ],
 "metadata": {
  "celltoolbar": "Create Assignment",
  "colab": {
   "collapsed_sections": [],
   "name": "week7.ipynb",
   "provenance": []
  },
  "kernelspec": {
   "display_name": "Python 3",
   "language": "python",
   "name": "python3"
  },
  "language_info": {
   "codemirror_mode": {
    "name": "ipython",
    "version": 3
   },
   "file_extension": ".py",
   "mimetype": "text/x-python",
   "name": "python",
   "nbconvert_exporter": "python",
   "pygments_lexer": "ipython3",
   "version": "3.8.8"
  }
 },
 "nbformat": 4,
 "nbformat_minor": 5
}
