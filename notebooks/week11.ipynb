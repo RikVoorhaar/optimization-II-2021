{
 "cells": [
  {
   "cell_type": "markdown",
   "id": "level-liverpool",
   "metadata": {
    "id": "adaptive-religion"
   },
   "source": [
    "[![Open in Colab](https://colab.research.google.com/assets/colab-badge.svg)](https://colab.research.google.com/github/RikVoorhaar/optimization-II-2021/blob/master/notebooks/week11.ipynb)"
   ]
  },
  {
   "cell_type": "markdown",
   "id": "superior-comparative",
   "metadata": {
    "id": "common-avenue"
   },
   "source": [
    "# Week 11\n",
    "\n",
    "This is the fifth Python programming homework for this course. You can do this homework either on Google colab, or on your own machine (after installing conda). Some general instructions for the exercises:\n",
    "\n",
    "- In the description of every exercise we mention which functions you should use, and there will be a link to the relevant documentation. You are strongly encouraged to read the documentation, especially if you are not sure what the function does. \n",
    "\n",
    "- Each exersice consists of finishing some partially written code. The code you wrote is then automatically tested using a few `assert` statements. This is for your convenience, and you are requested __not to alter the tests__. If your code conforms to the instructions, and none of the tests throw an error, your answer is very likely to be correct. \n",
    "\n",
    "- Before handing in, be sure to restart the IPython kernel (in colab: Runtime $\\to$ Run all) and run the entire notebook top-to-bottom and check that none of the cells throw an error. \n",
    "\n",
    "Now we begin by running the cell below. If you're running this notebook on a local python installation, make sure that this cell does not throw any errors. If it does, you will need to install additional packages. You can do this by using `pip` from the command line."
   ]
  },
  {
   "cell_type": "code",
   "execution_count": 1,
   "id": "finite-brief",
   "metadata": {
    "executionInfo": {
     "elapsed": 1677,
     "status": "ok",
     "timestamp": 1620760030850,
     "user": {
      "displayName": "Rik Voorhaar",
      "photoUrl": "https://lh3.googleusercontent.com/a-/AOh14GiARLX-61EWkT5u3TJ0aLe8HCXUEuzsxfIptxxWrw=s64",
      "userId": "13522764759478134685"
     },
     "user_tz": -120
    },
    "id": "opponent-litigation"
   },
   "outputs": [],
   "source": [
    "from importlib_metadata import version\n",
    "\n",
    "import cvxpy as cp\n",
    "import matplotlib\n",
    "import matplotlib.pyplot as plt\n",
    "\n",
    "matplotlib.rcParams[\"figure.figsize\"] = (9, 6)\n",
    "import numpy as np\n",
    "import pandas as pd\n",
    "import scipy\n",
    "import sklearn\n",
    "import sympy\n",
    "import networkx as nx\n",
    "\n",
    "import warnings\n",
    "\n",
    "warnings.filterwarnings(\"ignore\")  # don't display irrelevant deprecation warnings"
   ]
  },
  {
   "cell_type": "markdown",
   "id": "german-principle",
   "metadata": {
    "id": "foreign-gossip"
   },
   "source": [
    "## Exercise 1: Working with graphs in Python using `networkx`\n",
    "\n",
    "`networkx` is a Python package for manipulating graphs. We usually import `networkx` as `nx` since it's shorter (like using `cp` for `cvxpy` or `np` for `numpy`). It has many useful algorithms built-in. In this exercise we will see some basic functionality of this package. There are two main types of graphs, _undirected_ graphs (`nx.Graph()`), and _directed_ graphs (`nx.DiGraph()`). \n",
    "\n",
    "We can make an empty undirected graph using `nx.Graph()`, and then add nodes to it using `G.add_edges_from(edgelist)` where `edgelist` is a list of edges. An edge is always a tuple `(a,b)` where `a` and `b` are _nodes_ in the graph. The nodes can be anything _hasheable_, such as a string or a number.\n",
    "\n",
    "Below we make simply graphs, one directed and one undirected. We can draw the graph `G` using `nx.draw(G)`. By default `networkx` uses `matplotlib` to draw graphs, so we can manipulate it like we would any `matplotlib` plot. For example, here we use `matplotlib` functionality to draw two graphs side-by-side, and add a descriptive title.\n",
    "\n"
   ]
  },
  {
   "cell_type": "code",
   "execution_count": 2,
   "id": "suitable-reserve",
   "metadata": {
    "colab": {
     "base_uri": "https://localhost:8080/",
     "height": 319
    },
    "executionInfo": {
     "elapsed": 2935,
     "status": "ok",
     "timestamp": 1620760032114,
     "user": {
      "displayName": "Rik Voorhaar",
      "photoUrl": "https://lh3.googleusercontent.com/a-/AOh14GiARLX-61EWkT5u3TJ0aLe8HCXUEuzsxfIptxxWrw=s64",
      "userId": "13522764759478134685"
     },
     "user_tz": -120
    },
    "id": "6s0AlcuyU6z7",
    "outputId": "0faf4dbd-1d4a-469d-c9ef-b787ec52840e"
   },
   "outputs": [
    {
     "data": {
      "image/png": "[encoded data removed]",
      "text/plain": [
       "<Figure size 576x360 with 2 Axes>"
      ]
     },
     "metadata": {},
     "output_type": "display_data"
    }
   ],
   "source": [
    "edgelist = [(\"a\", 1), (1, \"b\"), (\"b\", 3), (\"b\", \"a\"), (3, 4), (4, \"a\")]\n",
    "\n",
    "G_undirected = nx.Graph()\n",
    "G_undirected.add_edges_from(edgelist)\n",
    "plt.figure(figsize=(8, 5))\n",
    "plt.subplot(1, 2, 1)\n",
    "plt.title(\"Undirected graph\")\n",
    "nx.draw(G_undirected, with_labels=True)\n",
    "\n",
    "G_directed = nx.DiGraph()\n",
    "G_directed.add_edges_from(edgelist)\n",
    "plt.subplot(1, 2, 2)\n",
    "plt.title(\"Directed graph\")\n",
    "nx.draw(G_directed, with_labels=True)"
   ]
  },
  {
   "cell_type": "markdown",
   "id": "phantom-estate",
   "metadata": {
    "id": "6SD9gABhXdu8"
   },
   "source": [
    "We can access a list of nodes or edges in the graph using respectively `G.nodes` and `G.edges`. In a directed graph, an edge `(a,b)` is always intepreted as going _from `a` to `b`_."
   ]
  },
  {
   "cell_type": "code",
   "execution_count": 3,
   "id": "aggregate-virginia",
   "metadata": {
    "colab": {
     "base_uri": "https://localhost:8080/"
    },
    "executionInfo": {
     "elapsed": 2929,
     "status": "ok",
     "timestamp": 1620760032115,
     "user": {
      "displayName": "Rik Voorhaar",
      "photoUrl": "https://lh3.googleusercontent.com/a-/AOh14GiARLX-61EWkT5u3TJ0aLe8HCXUEuzsxfIptxxWrw=s64",
      "userId": "13522764759478134685"
     },
     "user_tz": -120
    },
    "id": "cjIpUQt9Xcs6",
    "outputId": "b4eb0e4b-9c0a-4c6f-8971-85824609c54d"
   },
   "outputs": [
    {
     "name": "stdout",
     "output_type": "stream",
     "text": [
      "['a', 1, 'b', 3, 4]\n",
      "[('a', 1), (1, 'b'), ('b', 3), ('b', 'a'), (3, 4), (4, 'a')]\n"
     ]
    }
   ],
   "source": [
    "print(G_directed.nodes)\n",
    "print(G_directed.edges)"
   ]
  },
  {
   "cell_type": "markdown",
   "id": "referenced-multiple",
   "metadata": {
    "id": "iaX7LpAeabTi"
   },
   "source": [
    "Note that here not all the nodes are integers. Often we want to work with arrays, so it can be helpful to make a `dictionary` that maps the names of nodes to an index. This is easy to do:"
   ]
  },
  {
   "cell_type": "code",
   "execution_count": 4,
   "id": "elegant-covering",
   "metadata": {
    "colab": {
     "base_uri": "https://localhost:8080/"
    },
    "executionInfo": {
     "elapsed": 2922,
     "status": "ok",
     "timestamp": 1620760032115,
     "user": {
      "displayName": "Rik Voorhaar",
      "photoUrl": "https://lh3.googleusercontent.com/a-/AOh14GiARLX-61EWkT5u3TJ0aLe8HCXUEuzsxfIptxxWrw=s64",
      "userId": "13522764759478134685"
     },
     "user_tz": -120
    },
    "id": "VhvdHw0PaaYc",
    "outputId": "a49730fe-4f84-4a69-c385-cc31df1570c9"
   },
   "outputs": [
    {
     "name": "stdout",
     "output_type": "stream",
     "text": [
      "{'a': 0, 1: 1, 'b': 2, 3: 3, 4: 4}\n",
      "2\n"
     ]
    }
   ],
   "source": [
    "# Pythonic elegant code\n",
    "node_dic = {a: i for i, a in enumerate(G_directed.nodes)}\n",
    "\n",
    "# Equivalent code\n",
    "node_dic = dict()\n",
    "i = 0\n",
    "for node in G_directed.nodes:\n",
    "    node_dic[node] = i\n",
    "    i += 1\n",
    "\n",
    "print(node_dic)\n",
    "print(node_dic[\"b\"])"
   ]
  },
  {
   "cell_type": "markdown",
   "id": "comfortable-meter",
   "metadata": {
    "id": "_uLELX-PYTKA"
   },
   "source": [
    "### Exercise 1a\n",
    "\n",
    "> Define the in-degree of a node in a directed graph as the number of _incoming_ edges. Similarly the out-degree is the number of edges coming out of a node. We then define the _in-out-degree_ as the in-degree minus the out-degree. For example in the directed graph above, `a` has the highest in-out-degree, with an in-out-degree of 1 (two incoming, one outgoing edges). On the other hand for `b` it is -1, and all other nodes it is 0. Write a function `max_in_out(G)` that returns the node with the biggest in-out-degree.\n",
    "\n",
    "___\n",
    "\n",
    "Tips:\n",
    "\n",
    "- Make an array the same size as the number of nodes (use `len(G.nodes)` or `G.number_of_nodes()`), and then use a loop over `G.edges`. Use `node_dic` to look up the index associated to an edge.\n",
    "\n",
    "- Return the node, not the index of the node. You can look up the node associated to an index `i` by using `list(G.nodes)[i]`. Using `G.nodes[i]` may give unexpected behavior, since `G.nodes` is not a list. "
   ]
  },
  {
   "cell_type": "code",
   "execution_count": 5,
   "id": "mental-antibody",
   "metadata": {
    "colab": {
     "base_uri": "https://localhost:8080/"
    },
    "executionInfo": {
     "elapsed": 2916,
     "status": "ok",
     "timestamp": 1620760032116,
     "user": {
      "displayName": "Rik Voorhaar",
      "photoUrl": "https://lh3.googleusercontent.com/a-/AOh14GiARLX-61EWkT5u3TJ0aLe8HCXUEuzsxfIptxxWrw=s64",
      "userId": "13522764759478134685"
     },
     "user_tz": -120
    },
    "id": "hqZPAopxZqJe",
    "nbgrader": {
     "grade": true,
     "grade_id": "cell-a5b460ec5107a085",
     "locked": false,
     "points": 0,
     "schema_version": 3,
     "solution": true,
     "task": false
    },
    "outputId": "36c43b11-2ab8-43ce-e06a-bc7b11e9d1ff"
   },
   "outputs": [
    {
     "data": {
      "text/plain": [
       "('a', 'b')"
      ]
     },
     "execution_count": 5,
     "metadata": {},
     "output_type": "execute_result"
    }
   ],
   "source": [
    "def max_in_out(G):\n",
    "    node_dic = {a: i for i, a in enumerate(G.nodes)}\n",
    "\n",
    "    # BEGIN SOLUTION\n",
    "    in_out_degrees = np.zeros(G.number_of_nodes())\n",
    "    for (u, v) in G.edges:\n",
    "        i = node_dic[u]\n",
    "        j = node_dic[v]\n",
    "        in_out_degrees[i] -= 1\n",
    "        in_out_degrees[j] += 1\n",
    "\n",
    "    return list(G.nodes)[np.argmax(in_out_degrees)]\n",
    "\n",
    "    # END SOLUTION\n",
    "\n",
    "\n",
    "# should be ('a', 'b')\n",
    "max_in_out(G_directed), max_in_out(G_directed.reverse())"
   ]
  },
  {
   "cell_type": "code",
   "execution_count": 6,
   "id": "advance-retrieval",
   "metadata": {
    "executionInfo": {
     "elapsed": 2912,
     "status": "ok",
     "timestamp": 1620760032117,
     "user": {
      "displayName": "Rik Voorhaar",
      "photoUrl": "https://lh3.googleusercontent.com/a-/AOh14GiARLX-61EWkT5u3TJ0aLe8HCXUEuzsxfIptxxWrw=s64",
      "userId": "13522764759478134685"
     },
     "user_tz": -120
    },
    "id": "x9vEQfHvrGEx"
   },
   "outputs": [],
   "source": [
    "def test_1a():\n",
    "    G = nx.DiGraph()\n",
    "    G.add_edges_from([(\"xx\", \"a\"), (\"yy\", \"a\"), (\"xx\", \"yy\")])\n",
    "    nx.add_path(G, [\"a\", \"b\", 5, 10, 5, \"a\", 10, \"b\"])\n",
    "    assert max_in_out(G) == \"a\"\n",
    "    assert max_in_out(G.reverse()) == \"xx\"\n",
    "\n",
    "\n",
    "test_1a()"
   ]
  },
  {
   "cell_type": "markdown",
   "id": "compatible-passing",
   "metadata": {
    "id": "9OuQCRJsUzJV"
   },
   "source": [
    "Next we consider weighted graphs. A weight is nothing more than some additional data associated to an edge. Below we see the same 'house' graph, but with some weights added to it. To add weighted edges, we can use `G.add_weighted_edges_from` instead of `G.add_edges_from`, and then we need to supply it a list of 3-tuples. The first two entries define the edge, and the last entry is the weight. \n"
   ]
  },
  {
   "cell_type": "code",
   "execution_count": 7,
   "id": "south-zealand",
   "metadata": {
    "colab": {
     "base_uri": "https://localhost:8080/",
     "height": 391
    },
    "executionInfo": {
     "elapsed": 3373,
     "status": "ok",
     "timestamp": 1620760032585,
     "user": {
      "displayName": "Rik Voorhaar",
      "photoUrl": "https://lh3.googleusercontent.com/a-/AOh14GiARLX-61EWkT5u3TJ0aLe8HCXUEuzsxfIptxxWrw=s64",
      "userId": "13522764759478134685"
     },
     "user_tz": -120
    },
    "id": "buqPHTbqvBTY",
    "outputId": "6a049ee6-bc08-4e75-bc93-eb2a6add90af"
   },
   "outputs": [
    {
     "data": {
      "image/png": "[encoded data removed]",
      "text/plain": [
       "<Figure size 360x360 with 1 Axes>"
      ]
     },
     "metadata": {},
     "output_type": "display_data"
    }
   ],
   "source": [
    "edgelist = [\n",
    "    (\"a\", 1, 2),\n",
    "    (1, \"b\", 4),\n",
    "    (\"b\", 3, 0),\n",
    "    (\"b\", \"a\", 2),\n",
    "    (3, 4, 1),\n",
    "    (4, \"a\", 10),\n",
    "]\n",
    "\n",
    "G = nx.DiGraph()\n",
    "G.add_weighted_edges_from(edgelist)\n",
    "pos = nx.circular_layout(G)  # Draw the nodes in a circular layout\n",
    "plt.figure(figsize=(5, 5))\n",
    "nx.draw(G, pos, with_labels=True)\n",
    "nx.draw_networkx_edge_labels(G, pos, edge_labels=nx.get_edge_attributes(G, \"weight\"));"
   ]
  },
  {
   "cell_type": "markdown",
   "id": "moved-copper",
   "metadata": {
    "id": "Q0OcIqhawDcJ"
   },
   "source": [
    "To obtain a dictionary mapping edges to weights we can use `nx.get_edge_attributes(G, 'weight')`. Alternatively if we want to loop over all the edges and their weights we can loop over `G.edges(data='weight')`."
   ]
  },
  {
   "cell_type": "code",
   "execution_count": 8,
   "id": "quiet-lease",
   "metadata": {
    "colab": {
     "base_uri": "https://localhost:8080/"
    },
    "executionInfo": {
     "elapsed": 3365,
     "status": "ok",
     "timestamp": 1620760032585,
     "user": {
      "displayName": "Rik Voorhaar",
      "photoUrl": "https://lh3.googleusercontent.com/a-/AOh14GiARLX-61EWkT5u3TJ0aLe8HCXUEuzsxfIptxxWrw=s64",
      "userId": "13522764759478134685"
     },
     "user_tz": -120
    },
    "id": "xyIfuc83wXAV",
    "outputId": "d874d03c-4b92-46ce-9781-135847c116e1"
   },
   "outputs": [
    {
     "name": "stdout",
     "output_type": "stream",
     "text": [
      "{('a', 1): 2, (1, 'b'): 4, ('b', 3): 0, ('b', 'a'): 2, (3, 4): 1, (4, 'a'): 10} \n",
      "----------------------------------------\n",
      "\n",
      "edge a -> 1, weight=2\n",
      "edge 1 -> b, weight=4\n",
      "edge b -> 3, weight=0\n",
      "edge b -> a, weight=2\n",
      "edge 3 -> 4, weight=1\n",
      "edge 4 -> a, weight=10\n"
     ]
    }
   ],
   "source": [
    "print(nx.get_edge_attributes(G, \"weight\"), \"\\n\" + \"-\" * 40 + \"\\n\")\n",
    "\n",
    "for node1, node2, weight in G.edges(data=\"weight\"):\n",
    "    print(f\"edge {node1} -> {node2}, weight={weight}\")"
   ]
  },
  {
   "cell_type": "markdown",
   "id": "ignored-canvas",
   "metadata": {
    "id": "QPegsRpcw-9I"
   },
   "source": [
    "### Exercise 1b)\n",
    "\n",
    "> Define the _signed weight_ of a node by the sum of weights of all incoming edges minus the sum of all weights of all outgoing edges. For example in the graph above the node `a` has a signed weight of 10 (10+2 incoming, 2 outgoing). Write a function `max_signed_weight(G)` that returns the node with the largest signed weight.\n",
    "\n",
    "___"
   ]
  },
  {
   "cell_type": "code",
   "execution_count": 9,
   "id": "impressed-above",
   "metadata": {
    "colab": {
     "base_uri": "https://localhost:8080/"
    },
    "executionInfo": {
     "elapsed": 3358,
     "status": "ok",
     "timestamp": 1620760032586,
     "user": {
      "displayName": "Rik Voorhaar",
      "photoUrl": "https://lh3.googleusercontent.com/a-/AOh14GiARLX-61EWkT5u3TJ0aLe8HCXUEuzsxfIptxxWrw=s64",
      "userId": "13522764759478134685"
     },
     "user_tz": -120
    },
    "id": "4u1G9uB6ylDJ",
    "nbgrader": {
     "grade": true,
     "grade_id": "cell-314f8b3be61af69e",
     "locked": false,
     "points": 0,
     "schema_version": 3,
     "solution": true,
     "task": false
    },
    "outputId": "6b74fcb1-6bb1-40c4-a0c8-4e2efd8e4395"
   },
   "outputs": [
    {
     "data": {
      "text/plain": [
       "('a', 4)"
      ]
     },
     "execution_count": 9,
     "metadata": {},
     "output_type": "execute_result"
    }
   ],
   "source": [
    "def max_signed_weight(G):\n",
    "\n",
    "    # BEGIN SOLUTION\n",
    "\n",
    "    from collections import defaultdict\n",
    "\n",
    "    signed_weights = defaultdict(float)\n",
    "    for u, v, w in G.edges(data=\"weight\"):\n",
    "        signed_weights[u] -= w\n",
    "        signed_weights[v] += w\n",
    "    return max(signed_weights, key=signed_weights.get)\n",
    "\n",
    "    # END SOLUTION\n",
    "\n",
    "\n",
    "# should be ('a', 4)\n",
    "max_signed_weight(G), max_signed_weight(G.reverse())"
   ]
  },
  {
   "cell_type": "code",
   "execution_count": 10,
   "id": "through-partition",
   "metadata": {
    "executionInfo": {
     "elapsed": 3343,
     "status": "ok",
     "timestamp": 1620760032586,
     "user": {
      "displayName": "Rik Voorhaar",
      "photoUrl": "https://lh3.googleusercontent.com/a-/AOh14GiARLX-61EWkT5u3TJ0aLe8HCXUEuzsxfIptxxWrw=s64",
      "userId": "13522764759478134685"
     },
     "user_tz": -120
    },
    "id": "3yrGpBKpz_RQ"
   },
   "outputs": [],
   "source": [
    "def test_2b():\n",
    "    edgelist = [\n",
    "        (\"a\", 1, 2),\n",
    "        (1, \"b\", 4),\n",
    "        (\"b\", 3, 0),\n",
    "        (\"b\", \"a\", 2),\n",
    "        (3, 4, 1),\n",
    "        (4, \"a\", 10),\n",
    "        (4, 1, -20),\n",
    "    ]\n",
    "    G = nx.DiGraph()\n",
    "    G.add_weighted_edges_from(edgelist)\n",
    "    assert max_signed_weight(G) == 4\n",
    "    assert max_signed_weight(G.reverse()) == 1\n",
    "\n",
    "\n",
    "test_2b()"
   ]
  },
  {
   "cell_type": "markdown",
   "id": "flexible-sussex",
   "metadata": {
    "id": "Bap31Ibi0eI4"
   },
   "source": [
    "____\n",
    "\n",
    "For exercise 2 and 3 we will need some functions to generate random (directed) weighted graphs. You can read what the functions below do, but it is not required for the exercises to understand them."
   ]
  },
  {
   "cell_type": "code",
   "execution_count": 11,
   "id": "popular-maryland",
   "metadata": {
    "executionInfo": {
     "elapsed": 3341,
     "status": "ok",
     "timestamp": 1620760032587,
     "user": {
      "displayName": "Rik Voorhaar",
      "photoUrl": "https://lh3.googleusercontent.com/a-/AOh14GiARLX-61EWkT5u3TJ0aLe8HCXUEuzsxfIptxxWrw=s64",
      "userId": "13522764759478134685"
     },
     "user_tz": -120
    },
    "id": "inner-cherry"
   },
   "outputs": [],
   "source": [
    "def add_random_node(G):\n",
    "    \"\"\"Add a random node to a graph.\n",
    "    Connect it to two random non-equal nodes in the graph,\n",
    "    and assign a random weight to each edge,\n",
    "    \"\"\"\n",
    "    n_nodes = len(G.nodes)\n",
    "    new_node = n_nodes - 1\n",
    "    node1 = np.random.randint(0, n_nodes - 1)\n",
    "    node2 = np.random.randint(0, max(n_nodes - 2, 1))\n",
    "    if node2 >= node1 and node2 != 0:  # prevent node1==node2\n",
    "        node2 += 1\n",
    "    if node1 == 0:\n",
    "        node1 = \"s\"\n",
    "    if node2 == 0:\n",
    "        node2 = \"t\"\n",
    "    G.add_edge(node1, new_node, weight=np.random.uniform(0.5, 2))\n",
    "    G.add_edge(new_node, node2, weight=np.random.uniform(0.5, 2))\n",
    "\n",
    "\n",
    "def try_add_random_edge(G):\n",
    "    \"\"\"Add an edge between two randomly selected nodes.\n",
    "\n",
    "    Assign a random weight to the edge. If the edge already exists,\n",
    "    increase the weight of the edge instead.\"\"\"\n",
    "    n_nodes = len(G.nodes)\n",
    "    node1 = np.random.randint(0, n_nodes - 1)\n",
    "    node2 = np.random.randint(0, max(n_nodes - 2, 1))\n",
    "    if node2 >= node1:  # prevent node1==node2\n",
    "        node2 += 1\n",
    "    if node1 == 0:\n",
    "        node1 = \"s\"\n",
    "    if node2 == 0:\n",
    "        node2 = \"t\"\n",
    "\n",
    "    # if edge already exists, increase weight\n",
    "    if (node1, node2) in G.edges:\n",
    "        e = G.edges[node1, node2]\n",
    "        e[\"weight\"] += np.random.uniform(0.5, 2)\n",
    "    elif (node2, node1) in G.edges:\n",
    "        e = G.edges[node2, node1]\n",
    "        e[\"weight\"] += np.random.uniform(0.5, 2)\n",
    "    else:\n",
    "        G.add_edge(node1, node2, weight=np.random.uniform(0.5, 2))\n",
    "\n",
    "\n",
    "def draw_flow_network(G, seed=179):\n",
    "    \"Draw a flow network with node and edge labels\"\n",
    "    pos = nx.circular_layout(G)\n",
    "    plt.figure(figsize=(5, 5))\n",
    "    nx.draw(G, pos, with_labels=True)\n",
    "    edge_labels = {\n",
    "        e: f\"{w:.2f}\" for e, w in nx.get_edge_attributes(G, \"weight\").items()\n",
    "    }\n",
    "    nx.draw_networkx_edge_labels(G, pos, edge_labels=edge_labels)\n",
    "\n",
    "\n",
    "def random_flow_network(n_nodes=5, seed=None):\n",
    "    \"Create a random flow network with a given number of nodes\"\n",
    "    if seed is not None:\n",
    "        np.random.seed(seed)\n",
    "    G = nx.DiGraph()\n",
    "    G.add_node(\"s\")\n",
    "    G.add_node(\"t\")\n",
    "    for _ in range(n_nodes - 2):\n",
    "        add_random_node(G)\n",
    "        for _ in range(1):\n",
    "            try_add_random_edge(G)\n",
    "    return G\n",
    "\n",
    "\n",
    "def random_weighted_graph(n_nodes=5, seed=None):\n",
    "    \"Create a random weighted undirected graph with given number of nodes\"\n",
    "    G = random_flow_network(n_nodes, seed)\n",
    "    G = G.to_undirected()\n",
    "    G = nx.relabel_nodes(G, {v: i for i, v in enumerate(G.nodes)})\n",
    "    return G"
   ]
  },
  {
   "cell_type": "markdown",
   "id": "corrected-advantage",
   "metadata": {
    "id": "instrumental-madagascar"
   },
   "source": [
    "## Exercise 2: Max flow / min cut\n",
    "\n",
    "Consider a directed, weighted graph $G=(V,E)$ with two marked vertices $s,t\\in V$ the _source_ and _sink (or target)_ respectively. The source has only _outgoing_ edges, and the sink has only _incoming_ edges. We furthermore asssume that all other vertices have both incoming and outgoing edges (so that the source and sink are unique). We call a directed weighted graph with a unique source and sink a _flow network_. Below is an example of a flow network. For more information about flow networks, [see the wikipedia page](https://en.wikipedia.org/wiki/Flow_network)."
   ]
  },
  {
   "cell_type": "code",
   "execution_count": 12,
   "id": "indie-analyst",
   "metadata": {
    "colab": {
     "base_uri": "https://localhost:8080/",
     "height": 391
    },
    "executionInfo": {
     "elapsed": 3696,
     "status": "ok",
     "timestamp": 1620760032948,
     "user": {
      "displayName": "Rik Voorhaar",
      "photoUrl": "https://lh3.googleusercontent.com/a-/AOh14GiARLX-61EWkT5u3TJ0aLe8HCXUEuzsxfIptxxWrw=s64",
      "userId": "13522764759478134685"
     },
     "user_tz": -120
    },
    "id": "growing-timothy",
    "outputId": "deca2b59-f81d-41d8-9930-774c949c461c"
   },
   "outputs": [
    {
     "data": {
      "image/png": "[encoded data removed]",
      "text/plain": [
       "<Figure size 360x360 with 1 Axes>"
      ]
     },
     "metadata": {},
     "output_type": "display_data"
    }
   ],
   "source": [
    "def simple_flow_network():\n",
    "    G = nx.DiGraph()\n",
    "    G.add_weighted_edges_from(\n",
    "        [\n",
    "            (\"s\", \"a\", 2),\n",
    "            (\"s\", \"b\", 1),\n",
    "            (\"a\", \"b\", 0.25),\n",
    "            (\"a\", \"c\", 0.5),\n",
    "            (\"b\", \"c\", 4),\n",
    "            (\"a\", \"t\", 1),\n",
    "            (\"c\", \"t\", 3.5),\n",
    "        ]\n",
    "    )\n",
    "    return G\n",
    "\n",
    "\n",
    "draw_flow_network(simple_flow_network())"
   ]
  },
  {
   "cell_type": "markdown",
   "id": "related-visibility",
   "metadata": {
    "id": "electoral-belly"
   },
   "source": [
    "Let $w\\colon E\\to\\mathbb R_+$ denote the map associating to each edge its weight. A _flow_ on a flow network is a function $f\\colon E\\to \\mathbb R_+$ such that:\n",
    "\n",
    "- _(Capacity constraint)_ $f(u\\to v) \\leq w(u\\to v)$ (the flow never exceeds the weight (capacity) of an edge).\n",
    "\n",
    "- _(Conservation of flow)_ For each node $v\\in V$, except the source and target, the incoming flow is the same as the outgoing flow: \n",
    "\n",
    "$$\\sum_{u\\to v\\in In(v)}f(u\\to v) = \\sum_{v\\to u\\in Out(v)}f(v\\to u)$$\n",
    "\n",
    "Here $In(v) = \\{(u,w)\\in E \\mid w=v\\}\\subset E$ denotes the set of incoming edges of $v$, and $Out(v)\\subset E$ is the set of outgoing edges of $v$.\n",
    "\n",
    "The maximum flow problem is then to maximimze the flow between source and target. By the conservation of flow, this is equivalent to maximizing the flow coming out of the source, or entering the sink. This gives the following linear program on $f\\colon E\\to \\mathbb R_+$:\n",
    "$$\n",
    "\\begin{array}{ll}\n",
    "\\text{Maximize} & \\sum_{e\\in Out(s)} f(e) \\\\ \n",
    "\\text{subject to} & 0\\leq f(e) \\leq w(e),\\quad \\forall e\\in E\\\\\n",
    "& \\sum_{u\\to v\\in In(v)}f(u\\to v) - \\sum_{v\\to u\\in Out(v)}f(v\\to u) = 0,\\quad \\forall v\\in V\\setminus\\{s,t\\}\n",
    "\\end{array}\n",
    "$$\n",
    "\n",
    "### Exercise 2a): Max flow\n",
    "\n",
    "> Write a function `max_flow(G)` that solves the maximum flow problem for a flow network `G`. The function should return the value of the maximum flow and a dictionary mapping edges of `G` to the amount of flow in that edge.\n",
    "\n",
    "___\n",
    "\n",
    "Hints:\n",
    "\n",
    "- `edge_dic` is a dictionary mapping an index $i=0,1,2,\\dots,|E|-1$ to an edge. \n",
    "\n",
    "- `flow` is a vector with length the number of edges in `G`. To access the flow associated to \n",
    "an edge `e=(u,v)` use `flow[edge_dic[e]]`. \n",
    "\n",
    "- To obtain a list of all the outgoing edges of a node `v` use `G.out_edges(v)`. Similarly `G.in_edges(v)` gives a list of all the incoming edges. \n",
    "\n",
    "- The objective can be obtained using a loop over `G.out_edges(\"s\")`. For the constraints you should loop over `G.nodes`, but be sure to exclude the nodes `\"s\"` and `\"t\"`."
   ]
  },
  {
   "cell_type": "code",
   "execution_count": 13,
   "id": "robust-failure",
   "metadata": {
    "executionInfo": {
     "elapsed": 3690,
     "status": "ok",
     "timestamp": 1620760032949,
     "user": {
      "displayName": "Rik Voorhaar",
      "photoUrl": "https://lh3.googleusercontent.com/a-/AOh14GiARLX-61EWkT5u3TJ0aLe8HCXUEuzsxfIptxxWrw=s64",
      "userId": "13522764759478134685"
     },
     "user_tz": -120
    },
    "id": "worthy-julian",
    "nbgrader": {
     "grade": true,
     "grade_id": "cell-90efe80685b4a6d1",
     "locked": false,
     "points": 0,
     "schema_version": 3,
     "solution": true,
     "task": false
    }
   },
   "outputs": [],
   "source": [
    "def max_flow(G):\n",
    "    \"\"\"Compute the maximum flow of a flow network.\n",
    "\n",
    "    We assume the source node is labeled 's' and the target node is labeled 't'.\n",
    "    We also assume the capacity of each edge is stored in attribute 'weight'.\"\"\"\n",
    "\n",
    "    edge_dic = {e: i for i, e in enumerate(G.edges)}\n",
    "    weights = np.fromiter(nx.get_edge_attributes(G, \"weight\").values(), float)\n",
    "\n",
    "    flow = cp.Variable(G.number_of_edges(), pos=True)\n",
    "\n",
    "    # BEGIN SOLUTION\n",
    "    objective = 0\n",
    "    for e in G.out_edges(\"s\"):\n",
    "        objective += flow[edge_dic[e]]\n",
    "    objective = cp.Maximize(objective)\n",
    "\n",
    "    constraints = [flow <= weights]\n",
    "    for v in G.nodes:\n",
    "        if v in (\"s\", \"t\"):\n",
    "            continue\n",
    "        in_sum = 0\n",
    "        for e in G.in_edges(v):\n",
    "            in_sum += flow[edge_dic[e]]\n",
    "        out_sum = 0\n",
    "        for e in G.out_edges(v):\n",
    "            out_sum += flow[edge_dic[e]]\n",
    "        constraints.append(in_sum - out_sum == 0)\n",
    "\n",
    "    problem = cp.Problem(objective, constraints)\n",
    "    # END SOLUTION\n",
    "\n",
    "    flow_value = problem.solve()\n",
    "\n",
    "    # map edges -> flow values\n",
    "    flow_dict = {e: f for e, f in zip(G.edges, flow.value)}\n",
    "\n",
    "    return flow_value, flow_dict"
   ]
  },
  {
   "cell_type": "code",
   "execution_count": 14,
   "id": "dedicated-mississippi",
   "metadata": {
    "colab": {
     "base_uri": "https://localhost:8080/",
     "height": 391
    },
    "executionInfo": {
     "elapsed": 4208,
     "status": "ok",
     "timestamp": 1620760033472,
     "user": {
      "displayName": "Rik Voorhaar",
      "photoUrl": "https://lh3.googleusercontent.com/a-/AOh14GiARLX-61EWkT5u3TJ0aLe8HCXUEuzsxfIptxxWrw=s64",
      "userId": "13522764759478134685"
     },
     "user_tz": -120
    },
    "id": "south-edition",
    "outputId": "c5c3d137-3612-4dea-d2d0-ee8239286fda"
   },
   "outputs": [
    {
     "data": {
      "image/png": "[encoded data removed]",
      "text/plain": [
       "<Figure size 360x360 with 1 Axes>"
      ]
     },
     "metadata": {},
     "output_type": "display_data"
    }
   ],
   "source": [
    "def draw_flow(G, flow_dict):\n",
    "    edges = list(G.edges)\n",
    "    pos = nx.circular_layout(G)\n",
    "    plt.figure(figsize=(5, 5))\n",
    "    nx.draw(G, pos, with_labels=True)\n",
    "    weights = nx.get_edge_attributes(G, \"weight\")\n",
    "    labels = {e: f\"{f:.2f}/{weights[e]:.2f}\" for e, f in flow_dict.items()}\n",
    "    nx.draw_networkx_edge_labels(G, pos, edge_labels=labels)\n",
    "\n",
    "\n",
    "G = simple_flow_network()\n",
    "flow, flow_dict = max_flow(G)\n",
    "draw_flow(G, flow_dict)"
   ]
  },
  {
   "cell_type": "code",
   "execution_count": 15,
   "id": "intimate-essay",
   "metadata": {
    "executionInfo": {
     "elapsed": 4700,
     "status": "ok",
     "timestamp": 1620760033970,
     "user": {
      "displayName": "Rik Voorhaar",
      "photoUrl": "https://lh3.googleusercontent.com/a-/AOh14GiARLX-61EWkT5u3TJ0aLe8HCXUEuzsxfIptxxWrw=s64",
      "userId": "13522764759478134685"
     },
     "user_tz": -120
    },
    "id": "combined-criterion"
   },
   "outputs": [],
   "source": [
    "def test_2a():\n",
    "    for i in range(4):\n",
    "        G = random_flow_network(5 + i, seed=i + 10)\n",
    "        flow, flow_dict = max_flow(G)\n",
    "\n",
    "        try:\n",
    "            flow_nx, flow_dict_nx = nx.maximum_flow(G, \"s\", \"t\", \"weight\")\n",
    "            weights = nx.get_edge_attributes(G, \"weight\")\n",
    "            for e in G.edges:\n",
    "                w = weights[e]\n",
    "                f = flow_dict[e]\n",
    "                assert -1e-6 <= f, \"Flow is negative\"\n",
    "                assert f <= w + 1e-6, \"Fow doesn't satisfy capacity constraint\"\n",
    "            for v in G.nodes:\n",
    "                if v in (\"s\", \"t\"):\n",
    "                    continue\n",
    "                incoming_flow = sum([flow_dict[e] for e in G.in_edges(v)], 0)\n",
    "                outgoing_flow = sum([flow_dict[e] for e in G.out_edges(v)], 0)\n",
    "                assert (\n",
    "                    np.abs(incoming_flow - outgoing_flow) < 1e-6\n",
    "                ), \"Conservation of flow is not satisfied\"\n",
    "            assert np.abs(flow - flow_nx) < 1e-6, \"The total flow is incorrect\"\n",
    "        except AssertionError:\n",
    "            print(\"something went wrong for the following graph\")\n",
    "            draw_flow(G, flow_dict)\n",
    "            raise\n",
    "\n",
    "\n",
    "test_2a()"
   ]
  },
  {
   "cell_type": "markdown",
   "id": "veterinary-instrumentation",
   "metadata": {
    "id": "exceptional-repair"
   },
   "source": [
    "Next we consider the dual of the max-flow problem, and we will show it can be interpretted as the minimum cut problem. We can write the max-flow problem as a standard LP like this:\n",
    "$$\n",
    "\\begin{array}{ll}\n",
    "\\text{Maximize} & \\begin{pmatrix}c&0\\end{pmatrix}^\\top \\begin{pmatrix}f\\\\ x\\end{pmatrix}\\\\\n",
    "\\text{Subject to} & \\begin{pmatrix}A&0\\\\ I&I\\end{pmatrix} \\begin{pmatrix}f\\\\x\\end{pmatrix}=\\begin{pmatrix}0\\\\w\\end{pmatrix}\\\\\n",
    "& \\begin{pmatrix}f\\\\x\\end{pmatrix}\\geq 0\n",
    "\\end{array}\n",
    "$$\n",
    "\n",
    "Here $w\\colon E\\to \\mathbb R$ is a weight vector, and the equality constraint tells us $Af=0$ and $f+x=w$, so that $x\\geq 0$ means $f\\leq w$. The vector $c\\colon E\\to \\mathbb R$ is defined by\n",
    "$$\n",
    "c[e] = \\begin{cases}1&e\\in Out(s)\\\\\n",
    "0&\\text{otherwise}\\end{cases}\n",
    "$$\n",
    "\n",
    "And the matrix $A\\colon (V\\setminus\\{s,t\\})\\times E\\to \\mathbb R$ is defined by\n",
    "$$\n",
    "A[v,e]=\\begin{cases}1 &e\\in Out(v)\\\\ -1&e\\in In(v)\\end{cases}\n",
    "$$\n",
    "\n",
    "The constraint $Af=0$ is therefore the flow conservation constraint. \n",
    "\n",
    "Now the dual of this problem is given by \n",
    "$$\n",
    "\\begin{array}{ll}\n",
    "\\text{Minimize} & w^\\top d \\\\ \n",
    "\\text{Subject to} & \\begin{pmatrix}A^\\top&I\\\\ 0&I\\end{pmatrix} \\begin{pmatrix}z\\\\d\\end{pmatrix}\\geq \\begin{pmatrix}c\\\\0\\end{pmatrix}\n",
    "\\end{array}\n",
    "$$\n",
    "\n",
    "where $d\\colon E\\to \\mathbb R$ and $z\\colon V\\setminus\\{s,t\\}\\to \\mathbb R$. For the edge $e=u\\to v$ we have\n",
    "$$\n",
    "(A^\\top z)[u\\to v] = \\sum_{a\\in V\\setminus \\{s,t\\}}A[u\\to v,\\,a]z[a]=\n",
    "\\begin{cases}z[v]&u=s\\\\-z[u]&v=t\\\\z[v]-z[u]&u\\neq s,\\,v\\neq t\\end{cases}\n",
    "$$\n",
    "\n",
    "The separate cases for $u=s$ and $v=t$ are because there are no flow conservation constraints for the source and sink nodes. Now summarizing this we can write the dual as (recall that $c[u\\to v]=1$ precisely if $u=s$)\n",
    "$$\n",
    "\\begin{array}{ll}\n",
    "\\text{Minimize} & w^\\top d \\\\ \n",
    "\\text{Subject to} & d[u\\to v]-z[u]+z[v]\\geq 0 &(u\\to v)\\in E,\\, u\\neq s,\\,v\\neq t\\\\\n",
    "& d[s\\to v]+z[v]\\geq 1 & (s\\to v)\\in E\\\\\n",
    "& d[u\\to t]-z[u]\\geq 0 & (u\\to t)\\in E,\\,u\\neq s\\\\\n",
    "& d[u\\to v]\\geq 0 & (u\\to v)\\in E\n",
    "\\end{array}\n",
    "$$\n",
    "\n",
    "Since we're minimizing $w^\\top d$, and $d\\geq 0$, we expect most values of $d$ to be zero. \n",
    "All values of $d$ can't be zero at the same time, since the the first inequality gives $z[v]\\geq z[u]$ if there is an edge $u\\to v$. By induction, $z[v]\\geq z[u]$ if there is a directed path from $u$ to $v$.\n",
    "\n",
    "However $z[v]\\geq 1$ for edges $s\\to v$ and $z[u]\\leq 0$ for edges $u\\to t$. Since the source and sink are connected, this gives a contradiction. Therefore for each path from the source to the sink, there must be an edge $u\\to v$ such that $d[u\\to v]>0$. \n",
    "\n",
    "Since $d[u\\to v]-z[u]+z[v]\\geq 0$, we see that in order to keep $d$ as small as possible we want to minimize $z[v]$ and maximize $z[u]$. This means that if $s\\to v$ then $z[v]=1$ and $u\\to t$ then $z[u]=0$. Assuming that the solution is unique, and there is no direct edge from source ot sink, one can then show by induction the network is split into two parts $V = S\\sqcup T$ with $s\\in S$ and $t\\in T$ such that \n",
    "$$\n",
    "z[u] = \\begin{cases}1&u\\in S\\\\0&u\\in T\\end{cases}\n",
    "$$\n",
    "\n",
    "and\n",
    "$$\n",
    "d[u\\to v] =\\begin{cases}1&u\\in S,\\,v\\in T\\\\ 0 & \\text{otherwise}\\end{cases}\n",
    "$$\n",
    "\n",
    "That is, $d$ is a _cut_, in the sense that it is nonzero precisely for those edges that bridge from $S$ to $T$. The objective of minimizing $w^\\top d$ is then equivalent to finding the _minimum cut_, i.e. the cut $V=S\\sqcup T$ such that the total weight of all the edges bridging $S$ and $T$ is minimal. \n",
    "\n",
    "### Exercise 2b)\n",
    "\n",
    "> Write a function `min_cut(G)` solving the minimum cut problem. The function should return the value of the minimum cut, the optimal values of `d`, and the optimal values of `z`. \n",
    "\n",
    "___\n",
    "\n",
    "Tips:\n",
    "\n",
    "- For convenience we take $z$ to be a vector of size $|V|$ instead of $|V|-2$ as implied by the optimization problem. This makes the code a little cleaner, and we can simply ignore the values of $z$ corresponding to $s$ and $t$, since they are meaningless.\n",
    "\n",
    "- Use `edge_dic[(u,v)]` to look up an index corresponding to an edge, and `node_dic[u]` to look up an index corresponding to a node.\n",
    "\n",
    "- You will need precisely one constraint per edge, and you are suggested to loop over all pairs `(u,v)` in `G.edges`. "
   ]
  },
  {
   "cell_type": "code",
   "execution_count": 16,
   "id": "medieval-office",
   "metadata": {
    "executionInfo": {
     "elapsed": 4698,
     "status": "ok",
     "timestamp": 1620760033971,
     "user": {
      "displayName": "Rik Voorhaar",
      "photoUrl": "https://lh3.googleusercontent.com/a-/AOh14GiARLX-61EWkT5u3TJ0aLe8HCXUEuzsxfIptxxWrw=s64",
      "userId": "13522764759478134685"
     },
     "user_tz": -120
    },
    "id": "incorporate-movie",
    "nbgrader": {
     "grade": true,
     "grade_id": "cell-c945e1808a2dea1e",
     "locked": false,
     "points": 0,
     "schema_version": 3,
     "solution": true,
     "task": false
    }
   },
   "outputs": [],
   "source": [
    "def min_cut(G):\n",
    "    edge_dic = {e: i for i, e in enumerate(G.edges)}\n",
    "    node_dic = {v: i for i, v in enumerate(G.nodes)}\n",
    "\n",
    "    d = cp.Variable(G.number_of_edges(), pos=True)\n",
    "    z = cp.Variable(G.number_of_nodes())\n",
    "    w = np.fromiter(nx.get_edge_attributes(G, \"weight\").values(), float)\n",
    "\n",
    "    # BEGIN SOLUTION\n",
    "\n",
    "    objective = cp.Minimize(w.T @ d)\n",
    "\n",
    "    constraints = []\n",
    "    for (u, v) in G.edges:\n",
    "        if u == \"s\":\n",
    "            constraints.append(d[edge_dic[(u, v)]] + z[node_dic[v]] >= 1)\n",
    "        elif v == \"t\":\n",
    "            constraints.append(d[edge_dic[(u, v)]] - z[node_dic[u]] >= 0)\n",
    "        else:\n",
    "            constraints.append(\n",
    "                d[edge_dic[(u, v)]] - z[node_dic[u]] + z[node_dic[v]] >= 0\n",
    "            )\n",
    "\n",
    "    problem = cp.Problem(objective, constraints)\n",
    "\n",
    "    # END SOLUTION\n",
    "\n",
    "    min_cut_value = problem.solve()\n",
    "    return min_cut_value, d.value, z.value"
   ]
  },
  {
   "cell_type": "code",
   "execution_count": 17,
   "id": "downtown-beads",
   "metadata": {
    "colab": {
     "base_uri": "https://localhost:8080/",
     "height": 303
    },
    "executionInfo": {
     "elapsed": 4967,
     "status": "ok",
     "timestamp": 1620760034244,
     "user": {
      "displayName": "Rik Voorhaar",
      "photoUrl": "https://lh3.googleusercontent.com/a-/AOh14GiARLX-61EWkT5u3TJ0aLe8HCXUEuzsxfIptxxWrw=s64",
      "userId": "13522764759478134685"
     },
     "user_tz": -120
    },
    "id": "universal-rotation",
    "outputId": "7e3ef3dc-1df0-4ace-be4d-e6b36274b09b"
   },
   "outputs": [
    {
     "data": {
      "image/png": "[encoded data removed]",
      "text/plain": [
       "<Figure size 360x360 with 1 Axes>"
      ]
     },
     "metadata": {},
     "output_type": "display_data"
    }
   ],
   "source": [
    "def draw_cut(G, V1):\n",
    "    \"\"\"Draw a cut given by subset V1 < V\"\"\"\n",
    "    pos = nx.circular_layout(G)\n",
    "    nodes = list(G.nodes)\n",
    "    V1 = [nodes[v] for v in V1]\n",
    "    plt.figure(figsize=(5, 5))\n",
    "\n",
    "    edge_labels = {\n",
    "        e: f\"{w:.2f}\" for e, w in nx.get_edge_attributes(G, \"weight\").items()\n",
    "    }\n",
    "    nodes_red = V1\n",
    "    nodes_blue = [v for v in G.nodes if v not in V1]\n",
    "    nx.draw_networkx_nodes(G, pos, nodelist=nodes_red, node_color=\"tab:red\")\n",
    "    nx.draw_networkx_nodes(G, pos, nodelist=nodes_blue, node_color=\"tab:blue\")\n",
    "    nx.draw_networkx_labels(G, pos)\n",
    "\n",
    "    edges_red = []\n",
    "    edges_blue = []\n",
    "    for u, v in G.edges:\n",
    "        if (u in V1 and v not in V1) or (v in V1 and u not in V1):\n",
    "            edges_red.append((u, v))\n",
    "        else:\n",
    "            edges_blue.append((u, v))\n",
    "    nx.draw_networkx_edges(G, pos, edgelist=edges_red, edge_color=\"tab:red\")\n",
    "    nx.draw_networkx_edges(G, pos, edgelist=edges_blue, edge_color=\"tab:blue\")\n",
    "    nx.draw_networkx_edge_labels(G, pos, edge_labels=edge_labels)\n",
    "\n",
    "\n",
    "G = simple_flow_network()\n",
    "min_cut_value, d, z = min_cut(G)\n",
    "cut = [0] + list(np.where(z > 0.5)[0])  # obtain the cut from z\n",
    "draw_cut(G, cut)"
   ]
  },
  {
   "cell_type": "code",
   "execution_count": 18,
   "id": "frank-howard",
   "metadata": {
    "executionInfo": {
     "elapsed": 4962,
     "status": "ok",
     "timestamp": 1620760034244,
     "user": {
      "displayName": "Rik Voorhaar",
      "photoUrl": "https://lh3.googleusercontent.com/a-/AOh14GiARLX-61EWkT5u3TJ0aLe8HCXUEuzsxfIptxxWrw=s64",
      "userId": "13522764759478134685"
     },
     "user_tz": -120
    },
    "id": "wound-burlington"
   },
   "outputs": [],
   "source": [
    "def test_2b():\n",
    "    for i in range(4):\n",
    "        G = random_flow_network(5 + i, seed=i + 10)\n",
    "        min_cut_value, d, z = min_cut(G)\n",
    "        S = set(v for i, v in enumerate(G.nodes) if z[i] > 0.1)\n",
    "        S.add(\"s\")\n",
    "        min_cut_value_nx, (S_nx, T_nx) = nx.minimum_cut(G, \"s\", \"t\", capacity=\"weight\")\n",
    "        try:\n",
    "            min_cut_value, flow_dict_nx = nx.maximum_flow(G, \"s\", \"t\", \"weight\")\n",
    "            weights = nx.get_edge_attributes(G, \"weight\")\n",
    "            assert S == S_nx, f\"S should be {S_nx}, but is {S}\"\n",
    "            assert (\n",
    "                np.abs(min_cut_value - min_cut_value_nx) < 1e-6\n",
    "            ), \"The minimum cut value is not correct\"\n",
    "        except AssertionError:\n",
    "            print(\"something went wrong for the following graph\")\n",
    "            cut = [0] + list(np.where(z > 0.5)[0])\n",
    "            draw_cut(G, cut)\n",
    "            raise\n",
    "\n",
    "\n",
    "test_2b()"
   ]
  },
  {
   "cell_type": "markdown",
   "id": "royal-lincoln",
   "metadata": {
    "id": "charitable-wisconsin"
   },
   "source": [
    "## Exercise 3: Maximum cut\n",
    "\n",
    "Unlike the minimum cut problem, the _maximum_ cut problem is NP hard. We will first see how to solve it using brute force methods for small graphs. Then we will consider a convex relaxation of the maximum cut problem, and see how well it can be used to approximate the true maximum cut. \n",
    "\n",
    "To stay consistent with the lectures, we will now restrict ourselves to _undirected_ graphs. Recall that for $V_1\\subset V$ we define the cut value to be \n",
    "$$\n",
    "    w(V_1) = \\sum_{\\{u\\leftrightarrow v\\in E\\mid u\\in V_1,\\,v\\notin V_1\\}} w[u\\leftrightarrow v]\n",
    "$$\n",
    "\n",
    "One way find the maximum cut is to simply loop over all subsets $V_1\\subset V$ and evaluate the cut value. Since the number of subsets is $2^{|V|}$ this is an exponential-time algorithm, but it is still quite fast for graphs with up to 20 or so nodes.\n",
    "\n",
    "### Exercise 3a): Brute force max cut\n",
    "\n",
    "> Write a function `max_cut_brute_force(G)` that solves the max-cut problem by brute force. It should return the subset $V_1\\subset V$ giving the optimal cut as well as the value of the optimal cut.\n",
    "\n",
    "___\n",
    "\n",
    "Tips:\n",
    "\n",
    "- Use the function [subsets](https://docs.sympy.org/latest/modules/utilities/iterables.html#sympy.utilities.iterables.subsets) imported below to generate an iterable with all the subsets of `G.nodes`. \n",
    "\n",
    "- `weights` defined below is a dictionary mapping elements of `G.edges` to the associated weight.\n",
    "\n",
    "- For an edge `(u,v)`, do not just check that $u\\in V_1,v\\notin V_1$. The edge is also part of the cut if $v\\in V_1,u\\notin V_1$.\n",
    "\n",
    "- Using the function `nx.cut_size` to compute the value of a cut **is considered cheating.**"
   ]
  },
  {
   "cell_type": "code",
   "execution_count": 19,
   "id": "expressed-words",
   "metadata": {
    "colab": {
     "base_uri": "https://localhost:8080/",
     "height": 319
    },
    "executionInfo": {
     "elapsed": 5429,
     "status": "ok",
     "timestamp": 1620760034716,
     "user": {
      "displayName": "Rik Voorhaar",
      "photoUrl": "https://lh3.googleusercontent.com/a-/AOh14GiARLX-61EWkT5u3TJ0aLe8HCXUEuzsxfIptxxWrw=s64",
      "userId": "13522764759478134685"
     },
     "user_tz": -120
    },
    "id": "occasional-mouse",
    "nbgrader": {
     "grade": true,
     "grade_id": "cell-f11baab92e9134a4",
     "locked": false,
     "points": 0,
     "schema_version": 3,
     "solution": true,
     "task": false
    },
    "outputId": "5a3b0d32-036f-41e8-819c-f9e2f3367f6f"
   },
   "outputs": [
    {
     "data": {
      "image/png": "[encoded data removed]",
      "text/plain": [
       "<Figure size 360x360 with 1 Axes>"
      ]
     },
     "metadata": {},
     "output_type": "display_data"
    }
   ],
   "source": [
    "from sympy.utilities.iterables import subsets\n",
    "\n",
    "G = random_weighted_graph(n_nodes=16, seed=179)\n",
    "\n",
    "\n",
    "def max_cut_brute_force(G):\n",
    "    weights = nx.get_edge_attributes(G, \"weight\")\n",
    "\n",
    "    # BEGIN SOLUTION\n",
    "    cut_value = -np.inf\n",
    "    cut = None\n",
    "    for subset in subsets(G.nodes):\n",
    "        weight = 0\n",
    "        for (u, v) in G.edges:\n",
    "            if (u in subset and v not in subset) or (v in subset and u not in subset):\n",
    "                weight += weights[(u, v)]\n",
    "        if weight > cut_value:\n",
    "            cut_value = weight\n",
    "            cut = subset\n",
    "    # END SOLUTION\n",
    "\n",
    "    return cut, cut_value\n",
    "\n",
    "\n",
    "G = random_weighted_graph(n_nodes=6, seed=179)\n",
    "cut, cut_value = max_cut_brute_force(G)\n",
    "\n",
    "draw_cut(G, cut)\n",
    "plt.title(f\"max cut value: {cut_value:.3f}\");"
   ]
  },
  {
   "cell_type": "code",
   "execution_count": 20,
   "id": "finnish-opportunity",
   "metadata": {
    "executionInfo": {
     "elapsed": 5425,
     "status": "ok",
     "timestamp": 1620760034717,
     "user": {
      "displayName": "Rik Voorhaar",
      "photoUrl": "https://lh3.googleusercontent.com/a-/AOh14GiARLX-61EWkT5u3TJ0aLe8HCXUEuzsxfIptxxWrw=s64",
      "userId": "13522764759478134685"
     },
     "user_tz": -120
    },
    "id": "6RR33z8zExSo"
   },
   "outputs": [],
   "source": [
    "def max_cut_randomized(G, n=100):\n",
    "    num_nodes = G.number_of_nodes()\n",
    "    nodes = np.array(G.nodes)\n",
    "    subsets = np.random.randint(2, size=(n, num_nodes), dtype=bool)\n",
    "    best_weight = -np.inf\n",
    "    for subset in subsets:\n",
    "        partition = nodes[subset]\n",
    "        best_weight = max(best_weight, nx.cut_size(G, partition, weight=\"weight\"))\n",
    "    return best_weight\n",
    "\n",
    "\n",
    "def test_3a():\n",
    "    for i in range(4, 10):\n",
    "        try:\n",
    "            G = random_weighted_graph(n_nodes=i, seed=179 + i)\n",
    "            cut, cut_value = max_cut_brute_force(G)\n",
    "            cut_value_verify = nx.cut_size(G, cut, weight=\"weight\")\n",
    "            assert (\n",
    "                np.abs(cut_value - cut_value_verify) < 1e-8\n",
    "            ), \"The cut value does not correspond to the cut\"\n",
    "            cut_value_random = max_cut_randomized(G)\n",
    "            assert cut_value_random - 1e-8 <= cut_value, \"The cut value is not maximal\"\n",
    "        except AssertionError:\n",
    "            print(\"Something went wrong for the graph shown below\")\n",
    "            draw_cut(G, cut)\n",
    "            raise\n",
    "\n",
    "\n",
    "test_3a()"
   ]
  },
  {
   "cell_type": "markdown",
   "id": "grand-station",
   "metadata": {
    "id": "QuT9Znc7nGFi"
   },
   "source": [
    "Let $W_{ij}$ be the weight matrix of the graph. Recall from the lectures that the max-cut problem can be rewritten as follows:\n",
    "$$\n",
    "\\max_{(i,j)\\,\\text{is cut}} W_{ij} = \\max_{\\{x_i^2=1\\}}\\frac14 \\sum_{i,j}W_{ij}(1-x_ix_j) =\\frac14\\max_{\\{x_i^2=1\\}} \\operatorname{tr}(W\\mathbf 1)-\\operatorname{tr}(Wxx^\\top)\n",
    "$$\n",
    "\n",
    "with $\\mathbf 1$ a $|V|\\times |V|$ matrix consisting only of ones. The objective is an SDP objective, but the feasible set (the set of rank-one matrices with entries $\\pm1$) is not convex. If we make the feasible set convex by taking the convex hull, and ignore the constant term we obtain the SDP\n",
    "$$\n",
    "\\begin{array}{ll}\n",
    "\\text{Minimize} & \\operatorname{tr}(WX)\\\\\n",
    "\\text{Subject to} & X_{ii} = 1, & i=1,\\dots,|V|\\\\\n",
    "& X\\succeq 0\n",
    "\\end{array}\n",
    "$$\n",
    "\n",
    "Denote the optimal value of $X$ in this SDP by $X^*$. We then obtain an upper bound on the true maximum cut value by computing \n",
    "$$\n",
    "\\text{MAXCUT} \\leq \\frac14 \\left(\\operatorname{tr}(W(1-X^*)\\right)\n",
    "$$\n",
    "\n",
    "This doesn't give us an actual cut, just an upper bound on the value. We can extract a cut from $X^*$ by taking a rank-one approximation $X^*\\simeq xx^\\top$ using a singular value decomposition (SVD). (The [Eckart-Young Theorem](https://en.wikipedia.org/wiki/Low-rank_approximation#Basic_low-rank_approximation_problem) tells us that the best rank-$r$ approximation of a matrix is given by a truncated SVD). Then we can say that \n",
    "$$\n",
    "V_1 = \\{1\\leq i\\leq |V|\\mid x_i\\leq 0\\},\\qquad V_2 = \\{1\\leq i\\leq |V|\\mid x_i>0\\}\n",
    "$$\n",
    "\n",
    "This cut can then be used to give a _lower bound_ on the actual max cut value. If the lower bound and upper bound are equal we know that we actually found the true max cut. This only tends to happen for small graphs.\n",
    "\n",
    "### Exercise 3b)\n",
    "\n",
    "> Write a function `max_cut_approx(G)` that approximates the max-cut problem using the SDP relaxation. It should return the approximated cut, together with the lower bound and upper bound of the cut value. For the cut you can return eiher $V_1$ or $V_2$.\n",
    "\n",
    "___\n",
    "\n",
    "Tips:\n",
    "\n",
    "- You can use `X>>0` for the PSD constraint $X\\succeq 0$. Use [cp.diag](https://www.cvxpy.org/api_reference/cvxpy.atoms.affine.html#diag) to get the diagonal of a matrix, and [cp.trace](https://www.cvxpy.org/api_reference/cvxpy.atoms.affine.html#trace) for the trace.\n",
    "\n",
    "- Use `U,S,V = np.linalg.svd(A)` to obtain the singular value of a matrix, [see also the documentation.](https://numpy.org/doc/stable/reference/generated/numpy.linalg.svd.html). This satisfies `A = U@np.diag(S)@V`, with `U` and `V` orthogonal. You then need to take the first column of `U` (or first row of `V`) and multiply it by the _square root_ of the first singular value (stored in `S`).\n",
    "\n",
    "- To obtain all the indices of array satisfying some condition, you can use [np.where](https://numpy.org/doc/stable/reference/generated/numpy.where.html). For example `np.where(A == 0)[0]` gives the indices of `A` that are zero. Note the `[0]` at the end; `np.where` always returns a tuple with one element.\n",
    "\n",
    "- To compute the value of a cut you can use [nx.cut_size](https://networkx.org/documentation/stable/reference/algorithms/generated/networkx.algorithms.cuts.cut_size.html), specifically `nx.cut_size(G, cut, weight='weight')`, where `cut` is a set of vertices. You can also reuse code from the previous exercise to compute the cut value.\n",
    "\n",
    "- You can ignore the warning `WARN: m less than n, problem likely degenerate` if you get it. Probably CVXPY gives this warning because the PSD matrix `X` is of low rank.\n"
   ]
  },
  {
   "cell_type": "code",
   "execution_count": 21,
   "id": "banned-chile",
   "metadata": {
    "colab": {
     "base_uri": "https://localhost:8080/",
     "height": 337
    },
    "executionInfo": {
     "elapsed": 5927,
     "status": "ok",
     "timestamp": 1620760035223,
     "user": {
      "displayName": "Rik Voorhaar",
      "photoUrl": "https://lh3.googleusercontent.com/a-/AOh14GiARLX-61EWkT5u3TJ0aLe8HCXUEuzsxfIptxxWrw=s64",
      "userId": "13522764759478134685"
     },
     "user_tz": -120
    },
    "id": "WE0ka7lAvwfM",
    "nbgrader": {
     "grade": true,
     "grade_id": "cell-e3bc1c831a86f249",
     "locked": false,
     "points": 0,
     "schema_version": 3,
     "solution": true,
     "task": false
    },
    "outputId": "a2d5221d-f980-4679-ed8a-c6ef8494225e"
   },
   "outputs": [
    {
     "name": "stdout",
     "output_type": "stream",
     "text": [
      "WARN: m less than n, problem likely degenerate\n"
     ]
    },
    {
     "data": {
      "image/png": "[encoded data removed]",
      "text/plain": [
       "<Figure size 360x360 with 1 Axes>"
      ]
     },
     "metadata": {},
     "output_type": "display_data"
    }
   ],
   "source": [
    "def max_cut_approx(G):\n",
    "    N = G.number_of_nodes()\n",
    "\n",
    "    # Compute the weight matrix\n",
    "    weight = nx.get_edge_attributes(G, \"weight\")\n",
    "    W = np.zeros((N, N))\n",
    "    for (i, j), w in weight.items():\n",
    "        W[i, j] = w\n",
    "        W[j, i] = w\n",
    "\n",
    "    X = cp.Variable((N, N))\n",
    "\n",
    "    # BEGIN SOLUTION\n",
    "\n",
    "    objective = cp.Minimize(cp.trace(W @ X))\n",
    "    constraints = [X >> 0, cp.diag(X) == 1]\n",
    "\n",
    "    problem = cp.Problem(objective, constraints)\n",
    "    opt_val = problem.solve()\n",
    "\n",
    "    upper_bound = (np.sum(W) - opt_val) / 4\n",
    "\n",
    "    U, S, V = np.linalg.svd(X.value)\n",
    "    guess = U[:, 0] * np.sqrt(S[0])\n",
    "    cut = np.where(guess > 0)[0]\n",
    "\n",
    "    lower_bound = nx.cut_size(G, cut, weight=\"weight\")\n",
    "\n",
    "    # END SOLUTION\n",
    "\n",
    "    return cut, lower_bound, upper_bound\n",
    "\n",
    "\n",
    "G = random_weighted_graph(n_nodes=5, seed=179)\n",
    "cut, lower_bound, upper_bound = max_cut_approx(G)\n",
    "\n",
    "draw_cut(G, cut)\n",
    "plt.title(f\"Lower bound: {lower_bound:.3f}, Upper bound: {upper_bound:.3f}\");"
   ]
  },
  {
   "cell_type": "code",
   "execution_count": 22,
   "id": "raised-optimum",
   "metadata": {
    "executionInfo": {
     "elapsed": 6241,
     "status": "ok",
     "timestamp": 1620760035543,
     "user": {
      "displayName": "Rik Voorhaar",
      "photoUrl": "https://lh3.googleusercontent.com/a-/AOh14GiARLX-61EWkT5u3TJ0aLe8HCXUEuzsxfIptxxWrw=s64",
      "userId": "13522764759478134685"
     },
     "user_tz": -120
    },
    "id": "yUAhUvyGKpGw"
   },
   "outputs": [],
   "source": [
    "from IPython.utils import io\n",
    "\n",
    "\n",
    "def test_3b():\n",
    "    try:\n",
    "        for i in range(4, 10):\n",
    "            with io.capture_output():\n",
    "                G = random_weighted_graph(n_nodes=i, seed=179 + i)\n",
    "                cut, lower_bound, upper_bound = max_cut_approx(G)\n",
    "            assert (\n",
    "                lower_bound <= upper_bound + 1e-10\n",
    "            ), \"The lower bound should be less than the upper bound\"\n",
    "            cut_value_verify = nx.cut_size(G, cut, weight=\"weight\")\n",
    "            assert (\n",
    "                np.abs(cut_value_verify - lower_bound) < 1e-8\n",
    "            ), \"The lower bound should be the cut value of the returned cut\"\n",
    "            cut_value_random = max_cut_randomized(G)\n",
    "            assert (\n",
    "                cut_value_random - 1e-8 <= upper_bound\n",
    "            ), \"The upper bound is not bigger than the actual maximum cut\"\n",
    "\n",
    "    except AssertionError:\n",
    "        print(\"Something went wrong for the graph shown below\")\n",
    "        draw_cut(G, cut)\n",
    "        raise\n",
    "    gap = np.inf\n",
    "    for _ in range(5):\n",
    "        with io.capture_output():\n",
    "            G = random_weighted_graph(n_nodes=4)\n",
    "            cut, lower_bound, upper_bound = max_cut_approx(G)\n",
    "        gap = min(gap, abs(lower_bound - upper_bound))\n",
    "    assert (\n",
    "        gap < 1e-4\n",
    "    ), \"For small graphs the lower bound should be optimal, check the cut is properly generated\"\n",
    "\n",
    "\n",
    "test_3b()"
   ]
  }
 ],
 "metadata": {
  "celltoolbar": "Create Assignment",
  "colab": {
   "collapsed_sections": [],
   "name": "week11.ipynb",
   "provenance": []
  },
  "kernelspec": {
   "display_name": "Python 3",
   "language": "python",
   "name": "python3"
  },
  "language_info": {
   "codemirror_mode": {
    "name": "ipython",
    "version": 3
   },
   "file_extension": ".py",
   "mimetype": "text/x-python",
   "name": "python",
   "nbconvert_exporter": "python",
   "pygments_lexer": "ipython3",
   "version": "3.8.8"
  }
 },
 "nbformat": 4,
 "nbformat_minor": 5
}
