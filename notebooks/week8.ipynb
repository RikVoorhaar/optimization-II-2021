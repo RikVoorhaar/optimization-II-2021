{
 "cells": [
  {
   "cell_type": "markdown",
   "id": "aging-plane",
   "metadata": {
    "id": "played-oxide"
   },
   "source": [
    "[![Open in Colab](https://colab.research.google.com/assets/colab-badge.svg)](https://colab.research.google.com/github/RikVoorhaar/optimization-II-2021/blob/master/notebooks/week8.ipynb)"
   ]
  },
  {
   "cell_type": "markdown",
   "id": "amazing-voltage",
   "metadata": {
    "id": "aerial-spectrum"
   },
   "source": [
    "# Week 8"
   ]
  },
  {
   "cell_type": "markdown",
   "id": "animal-windows",
   "metadata": {
    "id": "cutting-breakfast"
   },
   "source": [
    "## Exercise 1\n",
    "<div class=\"alert alert-info\">\n",
    "Exercise\n",
    "\n",
    "Derive the Lagrange dual of the following problem:\n",
    "$$\n",
    "\\begin{array}{l l}\n",
    "    \\text{minimize} & \\sum_i^n\\phi(x_i)\\\\\n",
    "    \\text{subject to} & Ax=b\n",
    "\\end{array}\n",
    "$$\n",
    "    \n",
    "with $x\\in \\mathbb R^n$, $A\\in \\mathbb R^{m \\times n}$, $b\\in \\mathbb R^m$, and $\\phi$ is defined by a parameter $c>0$ as follows\n",
    "$$\n",
    "    \\phi\\colon(-c,c)\\to \\mathbb R_+,\\ x\\mapsto \\frac{|x|}{c-|x|}.\n",
    "$$\n",
    "\n",
    "Hint: The Lagrangian should decouple into $n$ seperate terms of form ($u,y\\in\\mathbb R$)\n",
    "$$\n",
    "f(u,y) = \\frac{|u|}{c-|u|}+yu\n",
    "$$\n",
    "\n",
    "To compute $\\inf_uf(u,y)$ consider the cases where the infimum is achieved for $u<0$, $u=0$ and $u>0$ seperately.\n",
    "    \n",
    "</div>\n",
    "\n",
    "We plot the function $\\phi$ for $c=1$ below. Near $x=0$ it looks like $|x|$, and near $|x|=c$ it has a vertical asymptote. This function can therefore be used as a penalty which promotes sparsity or robustness (like the usual $|x|$ penalty), and at the same time it forces the constraint $|x|<c$. "
   ]
  },
  {
   "cell_type": "code",
   "execution_count": 1,
   "id": "deluxe-population",
   "metadata": {
    "id": "soviet-glance",
    "outputId": "e9fc793c-e1e6-46de-b534-cac5bb1bb978"
   },
   "outputs": [
    {
     "data": {
      "image/png": "[encoded data removed]",
      "text/plain": [
       "<Figure size 576x288 with 1 Axes>"
      ]
     },
     "metadata": {
      "needs_background": "light"
     },
     "output_type": "display_data"
    }
   ],
   "source": [
    "import numpy as np\n",
    "import matplotlib.pyplot as plt\n",
    "\n",
    "\n",
    "def phi(u, c):\n",
    "    return np.abs(u) / (c - np.abs(u))\n",
    "\n",
    "\n",
    "c = 1\n",
    "epsilon = 1e-8\n",
    "x = np.linspace(-c + epsilon, c - epsilon, 100)\n",
    "y = phi(x, c)\n",
    "\n",
    "plt.figure(figsize=(8, 4))\n",
    "plt.ylim(0, 5)\n",
    "plt.title(\"Plot of $\\phi(x)$ for $c=1$\")\n",
    "plt.axvline(-c, c=\"k\", ls=\"--\")\n",
    "plt.axvline(c, c=\"k\", ls=\"--\")\n",
    "plt.plot(x, y);"
   ]
  },
  {
   "cell_type": "markdown",
   "id": "moderate-revelation",
   "metadata": {
    "id": "comprehensive-california"
   },
   "source": [
    "## Exercise 2\n",
    "<div class=\"alert alert-info\">\n",
    "Exercise\n",
    "    \n",
    "We want to estimate the covariance matrix $\\Sigma\\in S_{++}^n$ of a multivariate normal distribution with mean $\\mu\\in \\mathbb R^n$ from data. Given data $\\mathbf x=(x_1,\\dots,x_N)\\in \\mathbb R^{n\\times N}$, this means we want to maximize the likelihood of $\\mathbf x$ as a function of $\\Sigma$. That is, we want to solve the following maximization problem:\n",
    "    \n",
    "$$\n",
    "\\begin{array}{l l}\n",
    "    \\text{maximize} & \\prod_{i=1}^N (2\\pi)^{-n/2}(\\det \\Sigma)^{-1/2} \\exp \\left( -\\frac12 (x_i-\\mu)^\\top \\Sigma^{-1} (x_i-\\mu)\\right)\\\\\n",
    "    \\text{subject to} & \\Sigma\\succ 0\n",
    "\\end{array}\n",
    "$$\n",
    "\n",
    "</div>\n",
    "\n",
    "### Exercise 2a)\n",
    "<div class=\"alert alert-info\">\n",
    "Exercise\n",
    "\n",
    "Show that the problem above is equivalent to \n",
    "$$\n",
    "\\begin{array}{l l}\n",
    "\\text{minimize} & -\\frac{N}{2} \\log\\det \\Sigma^{-1} +\\frac12 \\langle A,\\,\\Sigma^{-1}\\rangle \\\\\n",
    "\\text{subject to} & \\Sigma\\succ 0\n",
    "\\end{array}\n",
    "$$\n",
    "\n",
    "Where $A\\in\\mathbb S^n$ is a symmetric matrix. Recall that we proved in week 4 that $-\\log\\det$ is a convex function, so this is a convex problem in the variable $\\Sigma^{-1}$.\n",
    "</div>"
   ]
  },
  {
   "cell_type": "markdown",
   "id": "worse-scottish",
   "metadata": {
    "id": "bacterial-kernel"
   },
   "source": [
    "### Exercise 2b)\n",
    "<div class=\"alert alert-info\">\n",
    "Exercise\n",
    "\n",
    "Recall from exercise 4 of week 4 that for $X\\succeq 0$ and $Y$ symmetric, we have\n",
    "$$\n",
    "    \\log \\det (X+tY) = \\log\\det(X) + \\log\\det(I+tX^{-1/2}YX^{-1/2}).\n",
    "$$\n",
    "    \n",
    "Using the Taylor series of $\\log(1+x)$ and the fact that $\\det(I+tA) = 1+\\operatorname{tr} (tA) + o(t^2)$, show that the directional derivative of $\\log \\det$ satisfies\n",
    "$$\n",
    "  \\left.\\frac{\\mathrm d}{\\mathrm dt}\\right|_{t=0}\\log \\det (X+tY) = \\operatorname{tr}(X^{-1}Y)\n",
    "$$\n",
    "\n",
    "    \n",
    "</div>"
   ]
  },
  {
   "cell_type": "markdown",
   "id": "threaded-scanning",
   "metadata": {
    "id": "junior-central"
   },
   "source": [
    "### Exercise 2c)\n",
    "<div class=\"alert alert-info\">\n",
    "Exercise\n",
    "\n",
    "Show that $(X+tY)^{-1} = X^{-1}(I+tYX^{-1})^{-1}$. Then use the power series $(1-x)^{-1} = \\sum_{n=0}^\\infty x^n$ to show that\n",
    "$$\n",
    "\\left.\\frac{\\mathrm d}{\\mathrm dt}\\right|_{t=0}\\operatorname{tr} (A(X+tY)^{-1}) = -\\operatorname{tr}(X^{-1}AX^{-1}Y).\n",
    "$$\n",
    "    \n",
    "\n",
    "</div>\n"
   ]
  },
  {
   "cell_type": "markdown",
   "id": "nasty-emergency",
   "metadata": {
    "id": "automotive-roots"
   },
   "source": [
    "### Exercise 2d)\n",
    "<div class=\"alert alert-info\">\n",
    "Exercise\n",
    "\n",
    "Assume $A\\succ0$. Solve the minimization problem\n",
    "$$\n",
    "\\begin{array}{l l}\n",
    "\\text{minimize} & \\frac{N}{2} \\log\\det \\Sigma +\\frac12 \\langle A,\\,\\Sigma^{-1}\\rangle \\\\\n",
    "\\text{subject to} & \\Sigma\\succ 0\n",
    "\\end{array}\n",
    "$$\n",
    "    \n",
    "First solve the unconstrained problem by computing the directional derivatives and setting them to zero. Show that the resulting solution $\\Sigma^*$ satisfies $\\Sigma^*\\succ 0$.\n",
    "    \n",
    "</div>\n"
   ]
  },
  {
   "cell_type": "markdown",
   "id": "viral-courtesy",
   "metadata": {
    "id": "statutory-brunei"
   },
   "source": [
    "### Exercise 2e)\n",
    "<div class=\"alert alert-info\">\n",
    "Exercise\n",
    "\n",
    "Assume $A\\succ 0$. Write down the Lagrangian of \n",
    "$$\n",
    "\\begin{array}{l l}\n",
    "\\text{minimize} & \\frac{N}{2} \\log\\det \\Sigma +\\frac12 \\langle A,\\,\\Sigma^{-1}\\rangle \\\\\n",
    "\\text{subject to} & \\Sigma\\succ 0\n",
    "\\end{array}\n",
    "$$\n",
    "    \n",
    "Show that the critical points of the Lagrangian can be obtained by solving a quadratic matrix equation:\n",
    "$$\n",
    "X^2+aX+Y = 0\n",
    "$$\n",
    "    \n",
    "Hint: $\\Sigma$ is a critical point of $L(\\Sigma,\\Lambda)$ if\n",
    "$$\n",
    "\\left.\\frac{\\mathrm d}{\\mathrm dt}\\right|_{t=0} L(\\Sigma+tY,\\Lambda) = 0,\\qquad \\forall Y\\in\\mathbb S^n\n",
    "$$\n",
    "    \n",
    "This gives a matrix equation for the minimum. You can transform it to the required form by multiplying on the left and on the right by the symmetric square root of $A$, that is, $A^{\\frac12}$.\n",
    "\n",
    "</div>\n"
   ]
  },
  {
   "cell_type": "markdown",
   "id": "appointed-lincoln",
   "metadata": {
    "id": "first-serum"
   },
   "source": [
    "### Exercise 2f)\n",
    "<div class=\"alert alert-info\">\n",
    "Exercise\n",
    "\n",
    "Let $X,Y$ be symmetric matrices, and consider the matrix equation $X^2+aX+Y$.\n",
    "\n",
    "Like in the proof of the quadratic formula, we can complete the square. Find coefficients $\\alpha,\\beta\\in\\mathbb R$ such that\n",
    "$$\n",
    "(X+\\alpha I)^2 = \\beta I - Y \n",
    "$$\n",
    "    \n",
    "Find the condition on $Y$ such that the quadratic matrix equation has a solution and give a formula for the solution.\n",
    "    \n",
    "</div>\n"
   ]
  },
  {
   "cell_type": "markdown",
   "id": "unique-testing",
   "metadata": {
    "id": "middle-latest"
   },
   "source": [
    "## Exercise 3\n",
    "<div class=\"alert alert-info\">\n",
    "Exercise\n",
    "\n",
    "Consider the following convex problem  \n",
    "$$\n",
    "\\begin{array}{ll}\n",
    "\\text{Minimize} & e^{-x}\\\\\n",
    "\\text{Subject to} & x^2 / y \\leq 0\n",
    "\\end{array}\n",
    "$$\n",
    "\n",
    "We consider this problem on the half-space domain $\\mathcal D = \\{ (x,y)\\in \\mathbb R^2\\mid y>0\\}$. \n",
    "    \n",
    "</div>\n"
   ]
  },
  {
   "cell_type": "markdown",
   "id": "south-welcome",
   "metadata": {
    "id": "employed-membership"
   },
   "source": [
    "### Exercise 3a)\n",
    "<div class=\"alert alert-info\">\n",
    "Exercise\n",
    "\n",
    "Find the feasible set and find the optimal value for the problem above.\n",
    "    \n",
    "</div>\n"
   ]
  },
  {
   "cell_type": "markdown",
   "id": "white-jacket",
   "metadata": {
    "id": "steady-destination"
   },
   "source": [
    "### Exercise 3b)\n",
    "<div class=\"alert alert-info\">\n",
    "Exercise\n",
    "\n",
    "Show that the problem does not satisfy the (weak) Slater condition.\n",
    "    \n",
    "</div>\n"
   ]
  },
  {
   "cell_type": "markdown",
   "id": "hundred-kennedy",
   "metadata": {
    "id": "simplified-dream"
   },
   "source": [
    "### Exercise 3c)\n",
    "<div class=\"alert alert-info\">\n",
    "Exercise\n",
    "\n",
    "Show that the optimal value of the dual of the problem is $0$. \n",
    "    \n",
    "</div>\n"
   ]
  },
  {
   "cell_type": "markdown",
   "id": "noticed-overhead",
   "metadata": {
    "id": "wicked-kitty"
   },
   "source": [
    "## Exercise 4\n",
    "\n",
    "### Exercise 4a)\n",
    "<div class=\"alert alert-info\">\n",
    "Exercise\n",
    "\n",
    "Let $A\\in \\mathbb R^{n\\times m}$, $x\\in\\mathbb R^n$, $b\\in\\mathbb R^m$. Find the dual of the following problem\n",
    "$$\n",
    "\\begin{array}{ll}\n",
    "\\text{minimize} & \\frac12 \\|x\\|^2\\\\\n",
    "\\text{subject to} & Ax=b\n",
    "\\end{array}\n",
    "$$\n",
    "    \n",
    "</div>\n"
   ]
  },
  {
   "cell_type": "markdown",
   "id": "alleged-scout",
   "metadata": {
    "id": "talented-group"
   },
   "source": [
    "### Exercise 4b)\n",
    "<div class=\"alert alert-info\">\n",
    "Exercise\n",
    "\n",
    "The problem of a) is equivalent to\n",
    "$$\n",
    "\\begin{array}{ll}\n",
    "\\text{minimize} & \\|x\\|\\\\\n",
    "\\text{subject to} & Ax=b\n",
    "\\end{array}\n",
    "$$\n",
    "    \n",
    "Find the dual of this problem. \n",
    "\n",
    "Hint: first try to minimize the Lagrangian for a fixed value of $\\|x\\|$. Use this to write the dual function as an infimum over a scalar parameter $t\\geq 0$.\n",
    "    \n",
    "</div>"
   ]
  }
 ],
 "metadata": {
  "colab": {
   "collapsed_sections": [],
   "name": "hw08.ipynb",
   "provenance": []
  },
  "kernelspec": {
   "display_name": "Python 3",
   "language": "python",
   "name": "python3"
  },
  "language_info": {
   "codemirror_mode": {
    "name": "ipython",
    "version": 3
   },
   "file_extension": ".py",
   "mimetype": "text/x-python",
   "name": "python",
   "nbconvert_exporter": "python",
   "pygments_lexer": "ipython3",
   "version": "3.8.8"
  }
 },
 "nbformat": 4,
 "nbformat_minor": 5
}