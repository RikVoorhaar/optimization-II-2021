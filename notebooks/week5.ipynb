{
 "cells": [
  {
   "cell_type": "markdown",
   "id": "soviet-basin",
   "metadata": {
    "id": "developed-anger"
   },
   "source": [
    "[![Open in Colab](https://colab.research.google.com/assets/colab-badge.svg)](https://colab.research.google.com/github/RikVoorhaar/optimization-II-2021/blob/master/notebooks/week5.ipynb)"
   ]
  },
  {
   "cell_type": "markdown",
   "id": "satisfied-dealer",
   "metadata": {
    "id": "speaking-grammar"
   },
   "source": [
    "# Week 5\n",
    "\n",
    "This is the second Python programming homework for this course. You can do this homework either on Google colab, or on your own machine (after installing conda). Some general instructions for the exercises:\n",
    "\n",
    "- In the description of every exercise we mention which functions you should use, and there will be a link to the relevant documentation. You are strongly encouraged to read the documentation, especially if you are not sure what the function does. \n",
    "\n",
    "- Each exersice consists of finishing some partially written code. The code you wrote is then automatically tested using a few `assert` statements. This is for your convenience, and you are requested __not to alter the tests__. If your code conforms to the instructions, and none of the tests throw an error, your answer is very likely to be correct. \n",
    "\n",
    "- It is possible to solve each exercise in no more than 10 lines of code, and most only need 2-3 lines. If your solution is much longer, you should try to make it shorter. In particular, don't forget that using vectorized `numpy` and `scipy` functions tends to produce shorter and much faster code than using nested Python `for` loops. \n",
    "\n",
    "- Before handing in, be sure to restart the IPython kernel (in colab: Runtime $\\to$ Run all) and run the entire notebook top-to-bottom and check that none of the cells throw an error. \n",
    "\n",
    "Now we begin by running the cell below. Google colab by default uses an outdated version of CVXPY, and so we will need to update it. Additionally, we need to install `yfinance` to access stock market data for exercise 4. This may take about a minute, but this is only performed once per session. If you're running this notebook on a local python installation, make sure that this cell does not throw any errors. If it does, you will need to install additional packages. You can do this by using `pip` from the command line."
   ]
  },
  {
   "cell_type": "code",
   "execution_count": 1,
   "id": "veterinary-creativity",
   "metadata": {
    "colab": {
     "base_uri": "https://localhost:8080/"
    },
    "executionInfo": {
     "elapsed": 64966,
     "status": "ok",
     "timestamp": 1616859461748,
     "user": {
      "displayName": "Rik Voorhaar",
      "photoUrl": "https://lh3.googleusercontent.com/a-/AOh14GiARLX-61EWkT5u3TJ0aLe8HCXUEuzsxfIptxxWrw=s64",
      "userId": "13522764759478134685"
     },
     "user_tz": -60
    },
    "id": "driven-henry",
    "outputId": "40fb2a3b-3db2-4b07-bb95-d3f14777cf30"
   },
   "outputs": [],
   "source": [
    "from importlib_metadata import version\n",
    "\n",
    "if version('cvxpy')<'1.1.0':\n",
    "    !pip install --upgrade cvxpy\n",
    "\n",
    "try:\n",
    "    import yfinance as yf\n",
    "except ModuleNotFoundError:\n",
    "    !pip install yfinance\n",
    "    import yfinance as yf\n",
    "import cvxpy as cp\n",
    "import matplotlib\n",
    "import matplotlib.pyplot as plt\n",
    "\n",
    "matplotlib.rcParams['figure.figsize'] = (9, 6)\n",
    "import numpy as np\n",
    "import pandas as pd\n",
    "import scipy"
   ]
  },
  {
   "cell_type": "markdown",
   "id": "separate-castle",
   "metadata": {
    "id": "foster-damages"
   },
   "source": [
    "## Exercise 1\n",
    "\n",
    "Consider $A\\in\\mathbb{R}^{m\\times n}$. Define the following _infinity norm_ of $A$:\n",
    "$$\n",
    "\\left\\|A\\right\\|_{\\infty}:=\\max_{i=1,\\ldots,m}\\sum_{j=1}^n\\left|A_{ij}\\right|\\,.\n",
    "$$\n",
    "Observe that $\\left\\|A\\right\\|_{\\infty}$ is the $\\ell_\\infty$-norm of the vector that consists of the $\\ell_1$-norm of the columns of $A$.\n",
    "\n",
    "Assume that $A\\in\\mathbb{R}^{m\\times n}$ is fixed. Assume also that $k$ matrices $B^{(1)}, B^{(2)},\\ldots,B^{(k)}\\in\\mathbb{R}^{m\\times n}$ are given. We want to approximate as best as possible (in this infinity norm) the matrix $A$ using a linear combination of the matrices $B^{(i)}$. In other words, we want to find the scalars $x^{(1)},x^{(2)},\\ldots, x^{(k)}$ solving the minimization problem  \n",
    "$$\n",
    "\\begin{array}{ll}\n",
    "\\mbox{minimize} & \\left\\|A-x^{(1)}B^{(1)}-x^{(2)}B^{(2)}-\\ldots-x^{(k)}B^{(k)}\\right\\|_{\\infty}\\\\\n",
    "\t& x^{(1)}, x^{(2)},\\ldots, x^{(k)}\\in\\mathbb{R}\\,.\n",
    "\\end{array}\n",
    "$$\n",
    "\n",
    "### Exercise 1a)\n",
    "\n",
    "> - Prove that the minimization problem above is equivalent to the following linear program. Type your solution in a Markdown cell below.\n",
    "\n",
    "$$\n",
    "\\begin{array}{ll}\t\n",
    "\t\\mbox{minimize} &t\\\\\n",
    "\t\\mbox{subject to} & -S\\leq A-x^{(1)}B^{(1)}-\\ldots-x^{(k)}B^{(k)}\\leq S\\\\\n",
    "\t\t& S\\mathbf 1\\leq t\\mathbf 1\\,,\\quad i=1,\\ldots, n\n",
    "\t\\end{array}\n",
    "$$\n",
    "\n",
    "where $S$ is an $m\\times n$ matrix and $\\mathbf 1 = (1,\\dots,1)^T$.\n",
    "\n",
    "___  "
   ]
  },
  {
   "cell_type": "markdown",
   "id": "abandoned-probability",
   "metadata": {
    "id": "spatial-complement",
    "nbgrader": {
     "grade": true,
     "grade_id": "cell-fe7fbc5d8e892b32",
     "locked": false,
     "points": 0,
     "schema_version": 3,
     "solution": true,
     "task": false
    }
   },
   "source": [
    "_Type your solution of the problem in this markdown cell (double click to edit it)._ You can use $\\LaTeX$ by encapsulating expressions in dollar signs, e.g.: `$e^x=\\sum_{n=0}^\\infty \\frac{x}{n!}$` gives $e=\\sum_{n=0}^\\infty \\frac{1}{n!}$. Using two dollar signs displays the math on a seperate line. E.g. `$$ e^x=\\sum_{n=0}^\\infty \\frac{x}{n!} $$`:\n",
    "$$\n",
    "    e^x=\\sum_{n=0}^\\infty \\frac{x}{n!}\n",
    "$$\n",
    "\n",
    "___  \n",
    "\n",
    "BEGIN SOLUTION\n",
    "\n",
    "Note first of all that the problem is equivalent to\n",
    "$$\n",
    "\\begin{array}{ll}\t\n",
    "\t\\mbox{minimize} &t\\\\\n",
    "\t\\mbox{subject to} & \\max_{i} \\sum_j |A_{ij}-x^{(1)}B^{(1)}_{ij}-x^{(2)}B^{(2)}_{ij}-\\ldots-x^{(k)}B^{(k)}_{ij}| \\leq t\\\\\n",
    "\t\\end{array}\n",
    "$$\n",
    "\n",
    "Then the constraint can be further relaxed by adding an additional variable $S$, with\n",
    "$$\n",
    "t\\geq \\sum_{j=1}^nS_{ij}\\,,\\quad \\forall i=1,2,\\ldots,m\\,.\n",
    "$$\n",
    "\n",
    "Then this gives the minimization problem\n",
    "$$\n",
    "\\begin{array}{ll}\t\n",
    "\t\\mbox{minimize} &t\\\\\n",
    "\t\\mbox{subject to} & |A_{ij}-x^{(1)}B^{(1)}_{ij}-x^{(2)}B^{(2)}_{ij}-\\ldots-x^{(k)}B^{(k)}_{ij}|\\leq S_{ij}\\quad \\forall i,j\\\\\n",
    "    & t\\geq \\sum_{j=1}^nS_{ij} \\quad \\forall i\n",
    "\t\\end{array}\n",
    "$$\n",
    "\n",
    "We see that $t\\geq \\sum_jS_{ij}$ is equivalent to $t\\mathbf 1\\geq S\\mathbf 1$. Using the fact that $|a|\\leq b$ is equivalent to $-b\\leq a\\leq b$, then results in the required problem.\n",
    "\n",
    "END SOLUTION"
   ]
  },
  {
   "cell_type": "markdown",
   "id": "described-powell",
   "metadata": {
    "id": "verified-musician"
   },
   "source": [
    "### Exercise 1b)\n",
    "\n",
    "\n",
    "> Complete the code for the function `approximate_matrix` below that solves the LP version of problem (1) using CVXPY.  \n",
    "\n",
    "___  \n",
    "\n",
    "_Hint:_ the expression $A-x^{(1)}B^{(1)}-x^{(2)}B^{(2)}-\\ldots-x^{(k)}B^{(k)}$ can easily be obtained using a for loop over `range(k)`."
   ]
  },
  {
   "cell_type": "code",
   "execution_count": 4,
   "id": "british-ethernet",
   "metadata": {
    "colab": {
     "base_uri": "https://localhost:8080/"
    },
    "executionInfo": {
     "elapsed": 504,
     "status": "ok",
     "timestamp": 1616859559039,
     "user": {
      "displayName": "Rik Voorhaar",
      "photoUrl": "https://lh3.googleusercontent.com/a-/AOh14GiARLX-61EWkT5u3TJ0aLe8HCXUEuzsxfIptxxWrw=s64",
      "userId": "13522764759478134685"
     },
     "user_tz": -60
    },
    "id": "precise-cleanup",
    "nbgrader": {
     "grade": false,
     "grade_id": "cell-f05422197604a1f1",
     "locked": false,
     "schema_version": 3,
     "solution": true,
     "task": false
    },
    "outputId": "4f06541d-c53a-44c8-bb5d-f88fec650b3b"
   },
   "outputs": [
    {
     "data": {
      "text/plain": [
       "array([ 0.05630201,  0.14055521, -0.04789529, -0.11040376,  0.04549557])"
      ]
     },
     "execution_count": 4,
     "metadata": {
      "tags": []
     },
     "output_type": "execute_result"
    }
   ],
   "source": [
    "def generate_matrices(m, n, k):\n",
    "    \"\"\"Generate a random Gaussian (m,n) matrix A and a list of k (m,n) matrices B\"\"\"\n",
    "    np.random.seed(179)\n",
    "    A = np.random.normal(size=(m, n))\n",
    "    B = np.random.normal(size=(k, m, n))\n",
    "    return A, B\n",
    "\n",
    "\n",
    "def approximate_matrix(A, B):\n",
    "    m, n = A.shape\n",
    "    k = len(B)\n",
    "    t = cp.Variable()\n",
    "    S = cp.Variable((m, n))\n",
    "    x = cp.Variable(k)\n",
    "\n",
    "    # BEGIN SOLUTION\n",
    "\n",
    "    residual = A\n",
    "    for i in range(k):\n",
    "        residual -= x[i] * B[i]\n",
    "    one = np.ones(n)\n",
    "    #constraints = [t >= cp.sum(S, axis=1), -S <= residual, residual <= S]\n",
    "    constraints = [t >= S@one, -S <= residual, residual <= S]\n",
    "\n",
    "    problem = cp.Problem(cp.Minimize(t), constraints)\n",
    "    problem.solve()\n",
    "\n",
    "    # END SOLUTION\n",
    "\n",
    "    return x.value\n",
    "\n",
    "\n",
    "A, B = generate_matrices(10, 10, 5)\n",
    "\n",
    "approximate_matrix(A, B)"
   ]
  },
  {
   "cell_type": "code",
   "execution_count": null,
   "id": "devoted-credits",
   "metadata": {
    "id": "heavy-upset",
    "nbgrader": {
     "grade": true,
     "grade_id": "cell-3297746a02ad158d",
     "locked": true,
     "points": 0,
     "schema_version": 3,
     "solution": false,
     "task": false
    }
   },
   "outputs": [],
   "source": [
    "def exercise1_tests():\n",
    "    A, _ = generate_matrices(10, 20, 1)\n",
    "    x = approximate_matrix(A, [A])[0]\n",
    "    assert (\n",
    "        np.abs(x - 1) < 1e-8\n",
    "    ), f\"If B = [A], then optimal solution is x = [1], which has zero error. Instead we got x={x}\"\n",
    "\n",
    "    A, B = generate_matrices(5, 5, 30)\n",
    "    x = approximate_matrix(A, B)\n",
    "    error = np.linalg.norm(A - np.einsum(\"i,ijk->jk\", x, B))\n",
    "    assert (\n",
    "        np.abs(error) < 1e-8\n",
    "    ), f\"\"\"If k>m*n then we can write A as a linear combination of matrices B, and we expect very\n",
    "    small error, instead we got an error of {error}\"\"\"\n",
    "\n",
    "    A, B = generate_matrices(10, 10, 5)\n",
    "    x = approximate_matrix(A, B)\n",
    "    error = np.linalg.norm(A - np.einsum(\"i,ijk->jk\", x, B))\n",
    "    assert (\n",
    "        np.abs(error - 10.11507336) < 1e-4\n",
    "    ), f\"\"\"For m=n=10, k=5 we expected an error of about 10.115, but we got {error}\"\"\"\n",
    "    assert (\n",
    "        np.abs(np.sum(x) - 0.08405374) < 1e-4\n",
    "    ), f\"\"\"For m=n=10, k=5 we expected the sum of x to be about 0.0840, but we got {np.sum(x)}\"\"\"\n",
    "\n",
    "\n",
    "exercise1_tests()"
   ]
  },
  {
   "cell_type": "markdown",
   "id": "forty-bankruptcy",
   "metadata": {
    "id": "level-polyester"
   },
   "source": [
    "## Exercise 2\n",
    "\n",
    "### Exercise 2a)\n",
    "\n",
    "> Complete the code for the function `approx_ker(A,b)` that solves the following problem using CVXPY:\n",
    "\n",
    "$$\n",
    "\\begin{array}{ll}\n",
    "\\text{minimize} & \\|x-b\\|_2\\\\\n",
    "\\text{subject to} & x\\in \\operatorname{ker}(A)\n",
    "\\end{array}\n",
    "$$  \n",
    "\n",
    "___  "
   ]
  },
  {
   "cell_type": "code",
   "execution_count": null,
   "id": "dangerous-barcelona",
   "metadata": {
    "colab": {
     "base_uri": "https://localhost:8080/"
    },
    "executionInfo": {
     "elapsed": 64801,
     "status": "ok",
     "timestamp": 1616506592120,
     "user": {
      "displayName": "Rik Voorhaar",
      "photoUrl": "https://lh3.googleusercontent.com/a-/AOh14GiARLX-61EWkT5u3TJ0aLe8HCXUEuzsxfIptxxWrw=s64",
      "userId": "13522764759478134685"
     },
     "user_tz": -60
    },
    "id": "together-bible",
    "nbgrader": {
     "grade": false,
     "grade_id": "cell-6e33870173168594",
     "locked": false,
     "schema_version": 3,
     "solution": true,
     "task": false
    },
    "outputId": "393f1a14-1ff5-45bb-812e-f5ad9c3e9262"
   },
   "outputs": [
    {
     "data": {
      "text/plain": [
       "array([ 0.16147945,  0.05509066, -0.03413101, -0.03432299, -0.23935239,\n",
       "       -1.07462564, -1.12959667,  0.62264873, -0.31671902,  0.32842675])"
      ]
     },
     "execution_count": 4,
     "metadata": {
      "tags": []
     },
     "output_type": "execute_result"
    }
   ],
   "source": [
    "def approx_ker(A, b):\n",
    "    n, m = A.shape\n",
    "    x = cp.Variable(m)\n",
    "\n",
    "    # BEGIN SOLUTION\n",
    "\n",
    "    objective = cp.Minimize(cp.norm(x - b))\n",
    "    constraints = [A @ x == 0]\n",
    "    problem = cp.Problem(objective, constraints)\n",
    "    problem.solve()\n",
    "\n",
    "    # END SOLUTION\n",
    "\n",
    "    return x.value\n",
    "\n",
    "\n",
    "A = np.random.normal(size=(5, 10))\n",
    "b = np.random.normal(size=10)\n",
    "approx_ker(A, b)"
   ]
  },
  {
   "cell_type": "code",
   "execution_count": null,
   "id": "facial-karma",
   "metadata": {
    "id": "valuable-bearing",
    "nbgrader": {
     "grade": true,
     "grade_id": "cell-effdf58a31747b38",
     "locked": true,
     "points": 0,
     "schema_version": 3,
     "solution": false,
     "task": false
    }
   },
   "outputs": [],
   "source": [
    "def exercise2a_test():\n",
    "    A = np.random.normal(size=(5, 10))\n",
    "    U, S, V = np.linalg.svd(A)\n",
    "    b = V[-1]\n",
    "    x = approx_ker(A, b)\n",
    "    error = np.linalg.norm(A @ x)\n",
    "    assert error < 1e-8, f\"\"\"x is not in the kernel of A\"\"\"\n",
    "    error = np.linalg.norm(b - x)\n",
    "    assert (\n",
    "        error < 1e-8\n",
    "    ), f\"\"\"If b is in the kernel of A we expect b=x, but instead b-x had norm {error}\"\"\"\n",
    "\n",
    "    A = np.random.normal(size=(5, 5))\n",
    "    b = np.random.normal(size=5)\n",
    "    x = approx_ker(A, b)\n",
    "    error = np.linalg.norm(x)\n",
    "    assert (\n",
    "        error < 1e-8\n",
    "    ), f\"\"\"If A has full rank then ker A = {{0}}, so x=0 is the only feasible point. \n",
    "    Instead x had norm {error}\"\"\"\n",
    "\n",
    "    np.random.seed(179)\n",
    "    A = np.random.normal(size=(6, 10))\n",
    "    b = np.random.normal(size=10)\n",
    "    x = approx_ker(A, b)\n",
    "    error = np.linalg.norm(A @ x)\n",
    "    assert error < 1e-8, f\"\"\"x is not in the kernel of A\"\"\"\n",
    "    assert (\n",
    "        np.abs(np.sum(x) + 0.2034392) < 1e-4\n",
    "    ), f\"\"\"For this particular problem we expect x to have sum of about -0.2034392,\n",
    "    but instead we got {np.sum(x)}\"\"\"\n",
    "\n",
    "\n",
    "exercise2a_test()"
   ]
  },
  {
   "cell_type": "markdown",
   "id": "brilliant-proceeding",
   "metadata": {
    "id": "demographic-apple"
   },
   "source": [
    "\n",
    "### Exercise 2b)\n",
    "\n",
    "> Complete the code for the function `approx_range(A,b)` that solves the following problem using CVXPY:\n",
    "\n",
    "$$\n",
    "\\begin{array}{ll}\n",
    "\\text{minimize} & \\|x-b\\|_2\\\\\n",
    "\\text{subject to} & x\\in \\operatorname{range}(A^T)\n",
    "\\end{array}\n",
    "$$  \n",
    "\n",
    "_Hint: Introduce an auxillary variable_ $y$ _to enforce the constraint and convert the problem to a quadratic program_  \n",
    "\n",
    "____"
   ]
  },
  {
   "cell_type": "code",
   "execution_count": null,
   "id": "killing-frequency",
   "metadata": {
    "colab": {
     "base_uri": "https://localhost:8080/"
    },
    "executionInfo": {
     "elapsed": 64797,
     "status": "ok",
     "timestamp": 1616506592121,
     "user": {
      "displayName": "Rik Voorhaar",
      "photoUrl": "https://lh3.googleusercontent.com/a-/AOh14GiARLX-61EWkT5u3TJ0aLe8HCXUEuzsxfIptxxWrw=s64",
      "userId": "13522764759478134685"
     },
     "user_tz": -60
    },
    "id": "moderate-edmonton",
    "nbgrader": {
     "grade": false,
     "grade_id": "cell-242be43cd88ab0f9",
     "locked": false,
     "schema_version": 3,
     "solution": true,
     "task": false
    },
    "outputId": "0a2497fd-442d-4751-9ef4-af15103cc778"
   },
   "outputs": [
    {
     "data": {
      "text/plain": [
       "array([ 0.63830346,  0.01429447, -0.31453574,  0.02350188,  0.3601437 ,\n",
       "       -0.02786351,  0.61436183, -0.90955392,  0.12100159,  0.2211234 ])"
      ]
     },
     "execution_count": 6,
     "metadata": {
      "tags": []
     },
     "output_type": "execute_result"
    }
   ],
   "source": [
    "def approx_range(A, b):\n",
    "    n, m = A.shape\n",
    "    x = cp.Variable(m)\n",
    "\n",
    "    # BEGIN SOLUTION\n",
    "\n",
    "    y = cp.Variable(n)\n",
    "    objective = cp.Minimize(cp.norm(x - b))\n",
    "    constraints = [A.T @ y == x]\n",
    "    problem = cp.Problem(objective, constraints)\n",
    "    problem.solve()\n",
    "\n",
    "    # END SOLUTION\n",
    "\n",
    "    return x.value\n",
    "\n",
    "\n",
    "A = np.random.normal(size=(5, 10))\n",
    "b = np.random.normal(size=10)\n",
    "approx_range(A, b)"
   ]
  },
  {
   "cell_type": "code",
   "execution_count": null,
   "id": "banned-appointment",
   "metadata": {
    "id": "subjective-immune",
    "nbgrader": {
     "grade": true,
     "grade_id": "cell-e4d2635b60e605bd",
     "locked": true,
     "points": 0,
     "schema_version": 3,
     "solution": false,
     "task": false
    }
   },
   "outputs": [],
   "source": [
    "def exercise2b_test():\n",
    "    A = np.random.normal(size=(3, 8))\n",
    "    b = A.T @ np.random.normal(size=3)\n",
    "    x = approx_range(A, b)\n",
    "    error = np.linalg.norm(b - x)\n",
    "    assert (\n",
    "        error < 1e-8\n",
    "    ), f\"\"\"If b is the range of A.T then x=b is a solution, instead the norm of x-b is {error}\"\"\"\n",
    "\n",
    "    np.random.seed(179)\n",
    "    A = np.random.normal(size=(5, 10))\n",
    "    b = np.random.normal(size=10)\n",
    "    x = approx_range(A, b)\n",
    "\n",
    "    error = np.linalg.norm(np.linalg.lstsq(A.T, x, rcond=None)[1])\n",
    "    assert error < 1e-8, f\"\"\"x is not the in range of A.T\"\"\"\n",
    "    error = np.linalg.norm(b - x)\n",
    "    assert (\n",
    "        np.abs(error - 3.383908) < 1e-4\n",
    "    ), f\"\"\"Expected error for this problem is about 3.383908, but we got {error}\"\"\"\n",
    "\n",
    "\n",
    "exercise2b_test()"
   ]
  },
  {
   "cell_type": "markdown",
   "id": "novel-system",
   "metadata": {
    "id": "polished-announcement"
   },
   "source": [
    "## Exercise 3\n",
    "\n",
    "Consider two closed convex sets $S_1,S_2\\subset\\mathbb{R}^n$. Consider the problem $(\\star)$:\n",
    "$$\n",
    "\\begin{array}{ll}\n",
    "\\text{Minimize} & \\|x_1-x_2\\|_2\\\\\n",
    "\\text{Subject to} & x_1\\in S_1,\\quad x_2\\in S_2\n",
    "\\end{array}\n",
    "$$\n",
    "\n",
    "we will solve this problem for different convex sets. \n",
    "\n",
    "### Exercise 3a)\n",
    "\n",
    "\n",
    ">Take as convex sets two lines:  \n",
    "$$\n",
    "S_i = \\ell_i = \\{a_i + tu_i\\mid t\\in \\mathbb R\\}, \\qquad a_i,u_i\\in \\mathbb R^n\n",
    "$$  \n",
    "\n",
    "> Complete the code for the function `min_distance_lines(a1,u1,a2,u2)` which solves problem ($\\star$) in the case both convex sets are lines. It should return the two minimizing points on the respective lines $\\{\\texttt{a1}+t\\cdot \\texttt{u1} \\mid t\\in \\mathbb R\\}$ and  $\\{\\texttt{a2}+t\\cdot \\texttt{u2} \\mid t\\in \\mathbb R\\}$.  \n",
    "\n",
    "___"
   ]
  },
  {
   "cell_type": "code",
   "execution_count": null,
   "id": "municipal-clothing",
   "metadata": {
    "colab": {
     "base_uri": "https://localhost:8080/",
     "height": 519
    },
    "executionInfo": {
     "elapsed": 65030,
     "status": "ok",
     "timestamp": 1616506592360,
     "user": {
      "displayName": "Rik Voorhaar",
      "photoUrl": "https://lh3.googleusercontent.com/a-/AOh14GiARLX-61EWkT5u3TJ0aLe8HCXUEuzsxfIptxxWrw=s64",
      "userId": "13522764759478134685"
     },
     "user_tz": -60
    },
    "id": "latin-potter",
    "nbgrader": {
     "grade": false,
     "grade_id": "cell-8b977bcf0a7d0f70",
     "locked": false,
     "schema_version": 3,
     "solution": true,
     "task": false
    },
    "outputId": "8039f99f-03af-4fca-ece9-cd8bb8673afd"
   },
   "outputs": [
    {
     "data": {
      "text/plain": [
       "(-4.358788460393554, 5.641211539606446)"
      ]
     },
     "execution_count": 8,
     "metadata": {
      "tags": []
     },
     "output_type": "execute_result"
    },
    {
     "data": {
      "image/png": "[encoded data removed]",
      "text/plain": [
       "<Figure size 576x576 with 1 Axes>"
      ]
     },
     "metadata": {
      "needs_background": "light",
      "tags": []
     },
     "output_type": "display_data"
    }
   ],
   "source": [
    "def min_distance_lines(a1, u1, a2, u2):\n",
    "\n",
    "    # BEGIN SOLUTION\n",
    "\n",
    "    s = cp.Variable()\n",
    "    t = cp.Variable()\n",
    "\n",
    "    objective = cp.Minimize(cp.norm(a1 + u1 * s - (a2 + u2 * t)))\n",
    "    problem = cp.Problem(objective, [])\n",
    "    problem.solve()\n",
    "\n",
    "    x = a1 + u1 * s.value\n",
    "    y = a2 + u2 * t.value\n",
    "\n",
    "    # END SOLUTION\n",
    "\n",
    "    return x, y\n",
    "\n",
    "\n",
    "# If your result is correct, then we should see a single dot right on the intersection of two lines\n",
    "\n",
    "a1, u1, a2, u2 = np.random.normal(size=(4, 2))\n",
    "x, y = min_distance_lines(a1, u1, a2, u2)\n",
    "\n",
    "fig = plt.figure(figsize=(8, 8))\n",
    "\n",
    "\n",
    "def plot_line(a, u, length=100, c=\"k\"):\n",
    "    \"\"\"Plot a line given by a+t*u\"\"\"\n",
    "    plt.plot(\n",
    "        [a[0] - length * u[0], a[0] + length * u[0]],\n",
    "        [a[1] - length * u[1], a[1] + length * u[1]],\n",
    "        c=c,\n",
    "    )\n",
    "\n",
    "\n",
    "plot_line(a1, u1, c=\"b\")\n",
    "plot_line(a2, u2, c=\"r\")\n",
    "plt.title(r\"Plot of intersection of two lines in $\\mathbb{R}^2$\")\n",
    "plt.plot([x[0], y[0]], [x[1], y[1]], \"ok\", markersize=10)\n",
    "plt.xlim(-5 + x[0], 5 + x[0])  # Set plot limits to crop the two lines\n",
    "plt.ylim(-5 + x[1], 5 + x[1])\n",
    "# The plot is centered around x"
   ]
  },
  {
   "cell_type": "code",
   "execution_count": null,
   "id": "searching-voltage",
   "metadata": {
    "id": "plain-washington",
    "nbgrader": {
     "grade": true,
     "grade_id": "cell-c1d08d5dc386850d",
     "locked": true,
     "points": 0,
     "schema_version": 3,
     "solution": false,
     "task": false
    }
   },
   "outputs": [],
   "source": [
    "def exercise3a_test():\n",
    "    np.random.seed(179)\n",
    "\n",
    "    def is_on_line(x, a, u):\n",
    "        d = x - a\n",
    "        d = d * np.linalg.norm(u) / np.linalg.norm(d)\n",
    "        d *= np.sign(d[0] / u[0])\n",
    "        return np.linalg.norm(d - u) < 1e-8\n",
    "\n",
    "    for n in range(2, 5):  # try for n = 2, 3, 4\n",
    "        a1, u1, a2, u2 = np.random.normal(size=(4, n))\n",
    "        x, y = min_distance_lines(a1, u1, a2, u2)\n",
    "\n",
    "        assert is_on_line(x, a1, u1), \"x is not on the line\"\n",
    "        assert is_on_line(y, a2, u2), \"y is not on the line\"\n",
    "        assert (\n",
    "            np.abs(np.dot(x - y, u1)) < 1e-4\n",
    "        ), \"x-y should be orthogonal to both lines\"\n",
    "        assert (\n",
    "            np.abs(np.dot(x - y, u2)) < 1e-4\n",
    "        ), \"x-y should be orthogonal to both lines\"\n",
    "\n",
    "\n",
    "exercise3a_test()"
   ]
  },
  {
   "cell_type": "markdown",
   "id": "jewish-forestry",
   "metadata": {
    "id": "crazy-necessity"
   },
   "source": [
    "### Exercise 3b)\n",
    "\n",
    "> Take as first convex set a line:  \n",
    "$$S_1 = \\ell = \\{a + tu\\mid t\\in \\mathbb R\\}, \\qquad a,u\\in \\mathbb R^n.$$  \n",
    "\n",
    "> Take as second convex set an ellipsoid:\n",
    "$$\n",
    "    S_2 = \\mathcal E = \\{x\\in\\mathbb R^n \\mid \\|x-c\\|_P \\leq 1 \\},\\qquad c\\in \\mathbb R^n, \\qquad P \\in S^n_+\n",
    "$$  \n",
    "\n",
    "> That is, the ellipsoid defined by an $n\\times n$ symmetric positive definite matrix $P$, centered around the point $c\\in\\mathbb R^n$. Recall that $\\|x\\|_P = \\sqrt{x^TPx}$.  \n",
    "\n",
    "> Complete the code for the function `min_distance_line_ellipsoid(a,u,c,P)` which solves problem ($\\star$) in the case both convex sets are lines. It should return the two minimizing points on respectively the line $\\ell$ and the ellipsoid $\\mathcal E$.  \n",
    "\n",
    "___  \n",
    "\n",
    "Tip: Use [cp.quad_form(x,P)](https://www.cvxpy.org/api_reference/cvxpy.atoms.other_atoms.html#quad-form) to compute $\\|x\\|_P$."
   ]
  },
  {
   "cell_type": "code",
   "execution_count": null,
   "id": "specific-peninsula",
   "metadata": {
    "id": "incident-pioneer",
    "nbgrader": {
     "grade": false,
     "grade_id": "cell-903939db8afd91f2",
     "locked": false,
     "schema_version": 3,
     "solution": true,
     "task": false
    },
    "tags": []
   },
   "outputs": [],
   "source": [
    "def min_distance_line_ellipsoid(a, u, c, P):\n",
    "\n",
    "    # BEGIN SOLUTION\n",
    "    n = len(a)\n",
    "    t = cp.Variable()\n",
    "    y = cp.Variable(n)\n",
    "\n",
    "    objective = cp.Minimize(cp.norm(a + t * u - y))\n",
    "    constraints = [cp.quad_form(y - c, P) <= 1]\n",
    "    problem = cp.Problem(objective, constraints)\n",
    "    problem.solve()\n",
    "\n",
    "    x = a + t.value * u\n",
    "    return x, y.value\n",
    "\n",
    "    # END SOLUTION\n",
    "\n",
    "\n",
    "def random_positive_definite(n):\n",
    "    \"\"\"Random positive definite matrix with eigenvalues in [0.5, 1]\"\"\"\n",
    "    eigs = np.random.uniform(low=0.5, high=1, size=n)\n",
    "    Q, _ = np.linalg.qr(np.random.normal(size=(n, n)))  # random orthogonal matrix\n",
    "    P = Q.T @ np.diag(eigs) @ Q\n",
    "    return P\n",
    "\n",
    "\n",
    "n = 2\n",
    "a, u, c = np.random.normal(size=(3, n))\n",
    "c *= 5\n",
    "P = random_positive_definite(n)\n",
    "\n",
    "x, y = min_distance_line_ellipsoid(a, u, c, P)"
   ]
  },
  {
   "cell_type": "code",
   "execution_count": null,
   "id": "wound-genesis",
   "metadata": {
    "colab": {
     "base_uri": "https://localhost:8080/",
     "height": 483
    },
    "executionInfo": {
     "elapsed": 65478,
     "status": "ok",
     "timestamp": 1616506592817,
     "user": {
      "displayName": "Rik Voorhaar",
      "photoUrl": "https://lh3.googleusercontent.com/a-/AOh14GiARLX-61EWkT5u3TJ0aLe8HCXUEuzsxfIptxxWrw=s64",
      "userId": "13522764759478134685"
     },
     "user_tz": -60
    },
    "id": "obvious-silicon",
    "outputId": "e44c9c46-60d4-4f24-a711-e27fe689f29e",
    "tags": []
   },
   "outputs": [
    {
     "data": {
      "image/png": "[encoded data removed]",
      "text/plain": [
       "<Figure size 576x576 with 1 Axes>"
      ]
     },
     "metadata": {
      "needs_background": "light",
      "tags": []
     },
     "output_type": "display_data"
    }
   ],
   "source": [
    "# This is some code to plot the situation in 2D.\n",
    "# Run this cell multiple times to get different configurations.\n",
    "\n",
    "n = 2\n",
    "a, u, c = np.random.normal(size=(3, n))\n",
    "c *= 5\n",
    "P = random_positive_definite(n)\n",
    "x, y = min_distance_line_ellipsoid(a, u, c, P)\n",
    "\n",
    "\n",
    "def plot_line(a, u, length=100, c=\"k\"):\n",
    "    \"\"\"Plot a line given by a+t*u\"\"\"\n",
    "    u = u / np.linalg.norm(u)\n",
    "    plt.plot(\n",
    "        [a[0] - length * u[0], a[0] + length * u[0]],\n",
    "        [a[1] - length * u[1], a[1] + length * u[1]],\n",
    "        c=c,\n",
    "    )\n",
    "\n",
    "\n",
    "plt.figure(figsize=(8, 8))\n",
    "\n",
    "# Plot the lines, the points x,y and c\n",
    "plot_line(a, u)\n",
    "plt.plot([x[0], y[0]], [x[1], y[1]], \"ok\", markersize=10)\n",
    "\n",
    "# Plot an ellipse by applying P^{-1/2} to a circle and adding +c\n",
    "# this is the formula derived in homework week 1.3\n",
    "P_sqrt = scipy.linalg.sqrtm(P)\n",
    "P_sqrt_inv = np.linalg.inv(P_sqrt)\n",
    "alpha = np.linspace(0, np.pi * 2, 100)\n",
    "circle = np.stack([np.cos(alpha), np.sin(alpha)])\n",
    "ellipse = P_sqrt_inv @ circle\n",
    "ellipse = (c + ellipse.T).T\n",
    "plt.plot(ellipse[0], ellipse[1])\n",
    "\n",
    "\n",
    "plt_lims = max(5, np.linalg.norm(x - y) * 2)\n",
    "plt.xlim(c[0] - plt_lims, c[0] + plt_lims)\n",
    "plt.ylim(c[1] - plt_lims, c[1] + plt_lims);"
   ]
  },
  {
   "cell_type": "code",
   "execution_count": null,
   "id": "essential-concentration",
   "metadata": {
    "id": "advanced-cinema",
    "nbgrader": {
     "grade": true,
     "grade_id": "cell-6679e601faef5abb",
     "locked": true,
     "points": 0,
     "schema_version": 3,
     "solution": false,
     "task": false
    }
   },
   "outputs": [],
   "source": [
    "def exercise3b_test():\n",
    "    np.random.seed(179)\n",
    "\n",
    "    def is_on_line(x, a, u):\n",
    "        d = x - a\n",
    "        d = d * np.linalg.norm(u) / np.linalg.norm(d)\n",
    "        d *= np.sign(d[0] / u[0])\n",
    "        return np.linalg.norm(d - u) < 1e-8\n",
    "\n",
    "    def is_in_ellipse(x, c, P):\n",
    "        P_norm = np.sqrt((x - c).T @ P @ (x - c))\n",
    "        return P_norm < 1 + 1e-4\n",
    "\n",
    "    def is_on_ellipse_boundary(x, c, P):\n",
    "        P_norm = np.sqrt((x - c).T @ P @ (x - c))\n",
    "        return np.abs(P_norm - 1) < 1e-4\n",
    "\n",
    "    for n in range(2, 5):  # try for n = 2, 3, 4\n",
    "        for _ in range(10):  # repeat 10 times\n",
    "            a, u, c = np.random.normal(size=(3, n))\n",
    "            u = u / np.linalg.norm(u)\n",
    "            P = random_positive_definite(n)\n",
    "            x, y = min_distance_line_ellipsoid(a, u, c, P)\n",
    "\n",
    "            assert is_on_line(x, a, u), \"x is not on the line\"\n",
    "            assert is_in_ellipse(y, c, P), \"y is not in the ellipse\"\n",
    "\n",
    "            if is_on_ellipse_boundary(y, c, P):\n",
    "                assert (\n",
    "                    np.abs(np.dot(x - y, u)) < 1e-4\n",
    "                ), \"x-y should be orthogonal to the line if y is on the boundary\"\n",
    "            else:\n",
    "                assert (\n",
    "                    np.linalg.norm(x - y) < 1e-4\n",
    "                ), \"if y is not on the boundary, then x=y\"\n",
    "\n",
    "\n",
    "exercise3b_test()"
   ]
  },
  {
   "cell_type": "markdown",
   "id": "spiritual-federation",
   "metadata": {
    "id": "solar-fishing"
   },
   "source": [
    "## Exercise 4\n",
    "\n",
    "\n",
    "A _financial index_ is a weighted sum of stocks used to represent the overall performance of an entire market or sector. It is close to impossible to invest in stocks in such that you _consistently_ gain money at a higher rate than an index. Therefore for long-term investing it can be a good idea to try to match (_track_) an index. (_Disclaimer: This is not investment advice_)\n",
    "\n",
    "An index can consist of many different stocks, and the composition can change over time. Hence if we want to track an index, it's more efficient to invest in a smaller number of stocks. In this exercise we will try to track the EURONEXT 100 index using two different sets of stocks. One list consists of several large American and European companies. The other consists of stocks trending on [/r/wallstreetbets](https://www.reddit.com/r/wallstreetbets/) (this subreddit made headlines in January for causing the [GameStop short squeeze](https://en.wikipedia.org/wiki/GameStop_short_squeeze)).\n",
    "\n",
    "First of all we will download and process timeseries of stock data. We will use the Python package `yfinance` to download financial data from [Yahoo Finance](https://finance.yahoo.com/). We download two datasets, one with 'normal' stocks and one with 'meme' stocks. We will get data from between 2018-01 and 2021-03."
   ]
  },
  {
   "cell_type": "code",
   "execution_count": null,
   "id": "alike-banking",
   "metadata": {
    "colab": {
     "base_uri": "https://localhost:8080/"
    },
    "executionInfo": {
     "elapsed": 67263,
     "status": "ok",
     "timestamp": 1616506594608,
     "user": {
      "displayName": "Rik Voorhaar",
      "photoUrl": "https://lh3.googleusercontent.com/a-/AOh14GiARLX-61EWkT5u3TJ0aLe8HCXUEuzsxfIptxxWrw=s64",
      "userId": "13522764759478134685"
     },
     "user_tz": -60
    },
    "id": "finnish-catalog",
    "outputId": "48d381bd-aa31-418e-8ac2-043d2c46d922"
   },
   "outputs": [
    {
     "name": "stdout",
     "output_type": "stream",
     "text": [
      "[*********************100%***********************]  1 of 1 completed\n",
      "[*********************100%***********************]  7 of 7 completed\n",
      "[*********************100%***********************]  6 of 6 completed\n"
     ]
    }
   ],
   "source": [
    "index_ticker = \"^N100\"\n",
    "normal_tickers = {\n",
    "    \"AIR.PA\": \"Airbus\",\n",
    "    \"NSRGY\": \"Nestle\",\n",
    "    \"GOOG\": \"Alphabet\",\n",
    "    \"MSFT\": \"Microsoft\",\n",
    "    \"CS\": \"Credit Suisse\",\n",
    "    \"ING\": \"ING\",\n",
    "    \"RDSB.AS\": \"Shell\",\n",
    "}\n",
    "meme_tickers = {\n",
    "    \"GME\": \"Gamestop\",\n",
    "    \"TSLA\": \"Tesla\",\n",
    "    \"AMC\": \"AMC Entertainment\",\n",
    "    \"EXPR\": \"Express\",\n",
    "    \"KOSS\": \"Koss\",\n",
    "    \"NOK\": \"Nokia\",\n",
    "}\n",
    "\n",
    "start_date = \"2018-01-02\"\n",
    "end_date = \"2021-2-21\"\n",
    "date_range = pd.date_range(start_date, end_date)\n",
    "\n",
    "# Download the data for the EURONEXT 100 index\n",
    "data_index = yf.download(index_ticker, start=start_date, end=end_date)\n",
    "data_index = data_index.reindex(date_range, fill_value=np.nan)\n",
    "\n",
    "# Download the data for each of the normal tickers\n",
    "data_normal = yf.download(\n",
    "    \" \".join(normal_tickers),\n",
    "    start=start_date,\n",
    "    end=end_date,\n",
    "    interval=\"1d\",\n",
    "    group_by=\"ticker\",\n",
    ")\n",
    "\n",
    "data_normal = data_normal.reindex(date_range, fill_value=np.nan)\n",
    "# Download the data for each of the meme tickers\n",
    "data_meme = yf.download(\n",
    "    \" \".join(meme_tickers),\n",
    "    start=start_date,\n",
    "    end=end_date,\n",
    "    interval=\"1d\",\n",
    "    group_by=\"ticker\",\n",
    ")\n",
    "data_meme = data_meme.reindex(date_range, fill_value=np.nan)"
   ]
  },
  {
   "cell_type": "markdown",
   "id": "affected-tuition",
   "metadata": {
    "id": "hungarian-cancer"
   },
   "source": [
    "The two datasets are _Pandas dataframes_. Like numpy arrays, these are very frequently used objects to work with data in Python. Unlike a numpy array, a dataframe can store different types of data in the same object. For example, one column may consist of strings, another of dates and yet another of floating point numbers. Furthermore, Pandas can be used to perform advanced kinds of data manipulation very easily.\n",
    "\n",
    "For each _key_ in the dictionary `normal_tickers` or `meme_tickers`, there is one DataFrame stored in `data_normal` (resp. `data_meme`). For example below we see `data_meme[\"GME\"]`, which is the data corresponding to the GameStop stock."
   ]
  },
  {
   "cell_type": "code",
   "execution_count": null,
   "id": "pharmaceutical-boating",
   "metadata": {
    "colab": {
     "base_uri": "https://localhost:8080/",
     "height": 419
    },
    "executionInfo": {
     "elapsed": 67516,
     "status": "ok",
     "timestamp": 1616506594865,
     "user": {
      "displayName": "Rik Voorhaar",
      "photoUrl": "https://lh3.googleusercontent.com/a-/AOh14GiARLX-61EWkT5u3TJ0aLe8HCXUEuzsxfIptxxWrw=s64",
      "userId": "13522764759478134685"
     },
     "user_tz": -60
    },
    "id": "israeli-uncle",
    "outputId": "0f5142a0-3da8-4f98-a05d-60adab896845"
   },
   "outputs": [
    {
     "data": {
      "text/html": [
       "<div>\n",
       "<style scoped>\n",
       "    .dataframe tbody tr th:only-of-type {\n",
       "        vertical-align: middle;\n",
       "    }\n",
       "\n",
       "    .dataframe tbody tr th {\n",
       "        vertical-align: top;\n",
       "    }\n",
       "\n",
       "    .dataframe thead th {\n",
       "        text-align: right;\n",
       "    }\n",
       "</style>\n",
       "<table border=\"1\" class=\"dataframe\">\n",
       "  <thead>\n",
       "    <tr style=\"text-align: right;\">\n",
       "      <th></th>\n",
       "      <th>Open</th>\n",
       "      <th>High</th>\n",
       "      <th>Low</th>\n",
       "      <th>Close</th>\n",
       "      <th>Adj Close</th>\n",
       "      <th>Volume</th>\n",
       "    </tr>\n",
       "  </thead>\n",
       "  <tbody>\n",
       "    <tr>\n",
       "      <th>2018-01-02</th>\n",
       "      <td>17.959999</td>\n",
       "      <td>18.290001</td>\n",
       "      <td>17.780001</td>\n",
       "      <td>18.260000</td>\n",
       "      <td>15.953856</td>\n",
       "      <td>2832700.0</td>\n",
       "    </tr>\n",
       "    <tr>\n",
       "      <th>2018-01-03</th>\n",
       "      <td>18.290001</td>\n",
       "      <td>18.370001</td>\n",
       "      <td>17.920000</td>\n",
       "      <td>18.200001</td>\n",
       "      <td>15.901433</td>\n",
       "      <td>3789200.0</td>\n",
       "    </tr>\n",
       "    <tr>\n",
       "      <th>2018-01-04</th>\n",
       "      <td>18.200001</td>\n",
       "      <td>18.379999</td>\n",
       "      <td>17.959999</td>\n",
       "      <td>18.320000</td>\n",
       "      <td>16.006279</td>\n",
       "      <td>2781300.0</td>\n",
       "    </tr>\n",
       "    <tr>\n",
       "      <th>2018-01-05</th>\n",
       "      <td>18.379999</td>\n",
       "      <td>18.730000</td>\n",
       "      <td>18.219999</td>\n",
       "      <td>18.680000</td>\n",
       "      <td>16.320812</td>\n",
       "      <td>3019000.0</td>\n",
       "    </tr>\n",
       "    <tr>\n",
       "      <th>2018-01-06</th>\n",
       "      <td>NaN</td>\n",
       "      <td>NaN</td>\n",
       "      <td>NaN</td>\n",
       "      <td>NaN</td>\n",
       "      <td>NaN</td>\n",
       "      <td>NaN</td>\n",
       "    </tr>\n",
       "    <tr>\n",
       "      <th>...</th>\n",
       "      <td>...</td>\n",
       "      <td>...</td>\n",
       "      <td>...</td>\n",
       "      <td>...</td>\n",
       "      <td>...</td>\n",
       "      <td>...</td>\n",
       "    </tr>\n",
       "    <tr>\n",
       "      <th>2021-02-17</th>\n",
       "      <td>49.770000</td>\n",
       "      <td>51.189999</td>\n",
       "      <td>44.560001</td>\n",
       "      <td>45.939999</td>\n",
       "      <td>45.939999</td>\n",
       "      <td>9186800.0</td>\n",
       "    </tr>\n",
       "    <tr>\n",
       "      <th>2021-02-18</th>\n",
       "      <td>48.490002</td>\n",
       "      <td>48.869999</td>\n",
       "      <td>40.650002</td>\n",
       "      <td>40.689999</td>\n",
       "      <td>40.689999</td>\n",
       "      <td>23990600.0</td>\n",
       "    </tr>\n",
       "    <tr>\n",
       "      <th>2021-02-19</th>\n",
       "      <td>41.279999</td>\n",
       "      <td>43.889999</td>\n",
       "      <td>38.500000</td>\n",
       "      <td>40.590000</td>\n",
       "      <td>40.590000</td>\n",
       "      <td>14828200.0</td>\n",
       "    </tr>\n",
       "    <tr>\n",
       "      <th>2021-02-20</th>\n",
       "      <td>NaN</td>\n",
       "      <td>NaN</td>\n",
       "      <td>NaN</td>\n",
       "      <td>NaN</td>\n",
       "      <td>NaN</td>\n",
       "      <td>NaN</td>\n",
       "    </tr>\n",
       "    <tr>\n",
       "      <th>2021-02-21</th>\n",
       "      <td>NaN</td>\n",
       "      <td>NaN</td>\n",
       "      <td>NaN</td>\n",
       "      <td>NaN</td>\n",
       "      <td>NaN</td>\n",
       "      <td>NaN</td>\n",
       "    </tr>\n",
       "  </tbody>\n",
       "</table>\n",
       "<p>1147 rows × 6 columns</p>\n",
       "</div>"
      ],
      "text/plain": [
       "                 Open       High        Low      Close  Adj Close      Volume\n",
       "2018-01-02  17.959999  18.290001  17.780001  18.260000  15.953856   2832700.0\n",
       "2018-01-03  18.290001  18.370001  17.920000  18.200001  15.901433   3789200.0\n",
       "2018-01-04  18.200001  18.379999  17.959999  18.320000  16.006279   2781300.0\n",
       "2018-01-05  18.379999  18.730000  18.219999  18.680000  16.320812   3019000.0\n",
       "2018-01-06        NaN        NaN        NaN        NaN        NaN         NaN\n",
       "...               ...        ...        ...        ...        ...         ...\n",
       "2021-02-17  49.770000  51.189999  44.560001  45.939999  45.939999   9186800.0\n",
       "2021-02-18  48.490002  48.869999  40.650002  40.689999  40.689999  23990600.0\n",
       "2021-02-19  41.279999  43.889999  38.500000  40.590000  40.590000  14828200.0\n",
       "2021-02-20        NaN        NaN        NaN        NaN        NaN         NaN\n",
       "2021-02-21        NaN        NaN        NaN        NaN        NaN         NaN\n",
       "\n",
       "[1147 rows x 6 columns]"
      ]
     },
     "execution_count": 14,
     "metadata": {
      "tags": []
     },
     "output_type": "execute_result"
    }
   ],
   "source": [
    "data_meme[\"GME\"]"
   ]
  },
  {
   "cell_type": "markdown",
   "id": "aggregate-admission",
   "metadata": {
    "id": "deadly-morrison"
   },
   "source": [
    "If we want to access a column of `data_normal[\"GME\"]` we can do that like this:"
   ]
  },
  {
   "cell_type": "code",
   "execution_count": null,
   "id": "indie-excitement",
   "metadata": {
    "colab": {
     "base_uri": "https://localhost:8080/"
    },
    "executionInfo": {
     "elapsed": 67511,
     "status": "ok",
     "timestamp": 1616506594865,
     "user": {
      "displayName": "Rik Voorhaar",
      "photoUrl": "https://lh3.googleusercontent.com/a-/AOh14GiARLX-61EWkT5u3TJ0aLe8HCXUEuzsxfIptxxWrw=s64",
      "userId": "13522764759478134685"
     },
     "user_tz": -60
    },
    "id": "transparent-milton",
    "outputId": "386df8ed-a1ac-40a7-ab36-58605c045b2a"
   },
   "outputs": [
    {
     "data": {
      "text/plain": [
       "2018-01-02    17.959999\n",
       "2018-01-03    18.290001\n",
       "2018-01-04    18.200001\n",
       "2018-01-05    18.379999\n",
       "2018-01-06          NaN\n",
       "                ...    \n",
       "2021-02-17    49.770000\n",
       "2021-02-18    48.490002\n",
       "2021-02-19    41.279999\n",
       "2021-02-20          NaN\n",
       "2021-02-21          NaN\n",
       "Freq: D, Name: Open, Length: 1147, dtype: float64"
      ]
     },
     "execution_count": 15,
     "metadata": {
      "tags": []
     },
     "output_type": "execute_result"
    }
   ],
   "source": [
    "data_meme[\"GME\"][\"Open\"]"
   ]
  },
  {
   "cell_type": "markdown",
   "id": "domestic-mailman",
   "metadata": {
    "id": "vocal-sport"
   },
   "source": [
    "The result is a _pandas Series_. Like a pandas dataframe, it also stores an Index column, in this case a date. They are essentially one-dimensional dataframes. "
   ]
  },
  {
   "cell_type": "markdown",
   "id": "flying-roads",
   "metadata": {
    "id": "hungarian-heading"
   },
   "source": [
    "### Exercise 4a)\n",
    "\n",
    "To properly compare different stocks we will need the time series to be normalized such that each starts with $1.0$ at the starting date. Furthermore we need to choose a column to work with. In this case we will work with the column which gives the price of the stock at _closing time_ of the stock exchange. Finally, the data may contain some missing values, which we want to replace. Some values may be missing because the stock exchange is not open on holidays.\n",
    "\n",
    "___    \n",
    "> Complete the code for the function `prepare_timeseries(ticker_data)` which takes as input a pandas dataframe associated to a ticker. It should take the column describing the price at closing of the stock exchange, normalized such that the first entry is 1.0.\n",
    ">  \n",
    "> Fill in the missing (NaN) values using [forward filling](https://pandas.pydata.org/docs/reference/api/pandas.DataFrame.fillna.html), which replaces a missing value with the previous value in the column.\n",
    ">  \n",
    "> The final result should be a pandas Series with the same index as the Dataframe we started with.  \n",
    "\n",
    "___  "
   ]
  },
  {
   "cell_type": "code",
   "execution_count": null,
   "id": "respiratory-athens",
   "metadata": {
    "id": "special-engine",
    "nbgrader": {
     "grade": false,
     "grade_id": "cell-77f378064dfa0f93",
     "locked": false,
     "schema_version": 3,
     "solution": true,
     "task": false
    }
   },
   "outputs": [],
   "source": [
    "def prepare_timeseries(ticker_data):\n",
    "\n",
    "    # BEGIN SOLUTION\n",
    "\n",
    "    time_series = ticker_data[\"Close\"]\n",
    "    time_series = time_series.fillna(method=\"ffill\")\n",
    "    return time_series / time_series[0]\n",
    "\n",
    "    # END SOLUTION\n",
    "\n",
    "\n",
    "# Apply `prepare_timeseries` to all of the dataframes in data_normal\n",
    "# The columns of the resulting dataframe are the names of the stocks\n",
    "stocks_normal = pd.DataFrame(\n",
    "    {\n",
    "        name: prepare_timeseries(data_normal[tick])\n",
    "        for tick, name in normal_tickers.items()\n",
    "    }\n",
    ")\n",
    "\n",
    "# Apply `prepare_timeseries` to all of the dataframes in data_meme\n",
    "# The columns of the resulting dataframe are the names of the stocks\n",
    "stocks_meme = pd.DataFrame(\n",
    "    {name: prepare_timeseries(data_meme[tick]) for tick, name in meme_tickers.items()}\n",
    ")\n",
    "\n",
    "index = prepare_timeseries(data_index)"
   ]
  },
  {
   "cell_type": "code",
   "execution_count": null,
   "id": "double-recycling",
   "metadata": {
    "id": "hired-drama",
    "nbgrader": {
     "grade": true,
     "grade_id": "cell-e509cd454ad577f1",
     "locked": true,
     "points": 0,
     "schema_version": 3,
     "solution": false,
     "task": false
    }
   },
   "outputs": [],
   "source": [
    "def exercise4a_tests():\n",
    "    for data, mean_correct in zip(\n",
    "        [stocks_normal, stocks_meme, index], [1.0581217250, 1.1118380976, 1.0030688361]\n",
    "    ):\n",
    "        assert (\n",
    "            np.sum(data.isna().to_numpy()) == 0\n",
    "        ), \"The result still contains missing values\"\n",
    "\n",
    "        assert (\n",
    "            np.linalg.norm(data.to_numpy()[0] - 1) < 1e-8\n",
    "        ), \"The result isn't correctly normalized\"\n",
    "        mean = np.mean(data.to_numpy())\n",
    "        assert (\n",
    "            np.abs(mean - mean_correct) < 1e-8\n",
    "        ), f\"\"\"The mean of the result is wrong. We got {mean:.10f} instead of expected {mean_correct:.10f}.\n",
    "        Check you filled the missing values in the right way, and that you used the right column\"\"\"\n",
    "\n",
    "\n",
    "exercise4a_tests()"
   ]
  },
  {
   "cell_type": "markdown",
   "id": "vital-bottom",
   "metadata": {
    "id": "empirical-conference"
   },
   "source": [
    "### Exercise 4b)\n",
    "\n",
    "Now we will try to use these two different sets of stocks to match the EURONEXT 100 index. Let $y\\in \\mathbb R^N$ denote the tracker timeseries, and let $X\\in\\mathbb R^{N\\times m}$ denote the timeseries of all other stocks. Then we try to find a vector $c\\in \\mathbb R^m$ giving the convex combination of stocks to choose to best match $y$. This is a quadratic program, called the _index tracking problem_:\n",
    "\n",
    "$$\n",
    "    \\begin{array}{ll}\n",
    "    \\text{Minimize} & \\|Xc-y\\|_2\\\\\n",
    "    \\text{Subject to} & \\sum_{i=1}^mc = 1,\\quad c\\geq 0\n",
    "    \\end{array}\n",
    "$$\n",
    "\n",
    "___  \n",
    "> Complete the code for the functioon `fit_tracker(stocks_data)`, which takes as input either the dataset `stocks_normal` or `stocks_meme`, and as output gives the vector $c$ solving the index tracking problem.\n",
    "\n",
    "___  \n",
    "\n",
    "Hints:\n",
    "- You can turn a DataFrame to a numpy array using `.to_numpy()`. CVXPY in principle only supports numpy arrays "
   ]
  },
  {
   "cell_type": "code",
   "execution_count": null,
   "id": "fatty-validity",
   "metadata": {
    "id": "fifth-irish",
    "nbgrader": {
     "grade": false,
     "grade_id": "cell-1ad9e1012b8f5aef",
     "locked": false,
     "schema_version": 3,
     "solution": true,
     "task": false
    }
   },
   "outputs": [],
   "source": [
    "def fit_tracker(stocks_data):\n",
    "\n",
    "    # BEGIN SOLUTION\n",
    "\n",
    "    X = stocks_data.to_numpy()\n",
    "    y = index.to_numpy()\n",
    "\n",
    "    m = X.shape[-1]\n",
    "\n",
    "    c = cp.Variable(m)\n",
    "    objective = cp.Minimize(cp.norm(X @ c - y))\n",
    "    constraints = [c >= 0, c.T @ np.ones(m) == 1]\n",
    "    problem = cp.Problem(objective, constraints)\n",
    "    problem.solve()\n",
    "\n",
    "    return c.value\n",
    "\n",
    "    # END SOLUTION\n",
    "\n",
    "\n",
    "normal_tracker = pd.Series(fit_tracker(stocks_normal), index=stocks_normal.columns)\n",
    "meme_tracker = pd.Series(fit_tracker(stocks_meme), index=stocks_meme.columns)"
   ]
  },
  {
   "cell_type": "code",
   "execution_count": null,
   "id": "acquired-defendant",
   "metadata": {
    "colab": {
     "base_uri": "https://localhost:8080/",
     "height": 621
    },
    "executionInfo": {
     "elapsed": 68101,
     "status": "ok",
     "timestamp": 1616506595464,
     "user": {
      "displayName": "Rik Voorhaar",
      "photoUrl": "https://lh3.googleusercontent.com/a-/AOh14GiARLX-61EWkT5u3TJ0aLe8HCXUEuzsxfIptxxWrw=s64",
      "userId": "13522764759478134685"
     },
     "user_tz": -60
    },
    "id": "assumed-feeding",
    "outputId": "2e0d571f-2e12-4234-ed00-fa5e4932817e"
   },
   "outputs": [
    {
     "name": "stdout",
     "output_type": "stream",
     "text": [
      "Optimal distribution of 'normal' stocks\n",
      "--------------------\n"
     ]
    },
    {
     "data": {
      "text/plain": [
       "Airbus           0.071718\n",
       "Nestle           0.142132\n",
       "Alphabet         0.083037\n",
       "Microsoft        0.122017\n",
       "Credit Suisse    0.231720\n",
       "ING              0.039679\n",
       "Shell            0.309695\n",
       "dtype: float64"
      ]
     },
     "metadata": {
      "tags": []
     },
     "output_type": "display_data"
    },
    {
     "name": "stdout",
     "output_type": "stream",
     "text": [
      "\n",
      "Optimal distribution of 'meme' stocks\n",
      "--------------------\n"
     ]
    },
    {
     "data": {
      "text/plain": [
       "Gamestop             4.365797e-11\n",
       "Tesla                3.428337e-02\n",
       "AMC Entertainment    2.754243e-10\n",
       "Express              1.405493e-01\n",
       "Koss                 3.363947e-11\n",
       "Nokia                8.251674e-01\n",
       "dtype: float64"
      ]
     },
     "metadata": {
      "tags": []
     },
     "output_type": "display_data"
    },
    {
     "data": {
      "image/png": "[encoded data removed]",
      "text/plain": [
       "<Figure size 864x432 with 1 Axes>"
      ]
     },
     "metadata": {
      "needs_background": "light",
      "tags": []
     },
     "output_type": "display_data"
    }
   ],
   "source": [
    "print(\"Optimal distribution of 'normal' stocks\\n\" + \"-\" * 20)\n",
    "display(normal_tracker)\n",
    "print(\"\\nOptimal distribution of 'meme' stocks\\n\" + \"-\" * 20)\n",
    "display(meme_tracker)\n",
    "\n",
    "plt.figure(figsize=(12,6))\n",
    "plt.plot(stocks_normal @ fit_tracker(stocks_normal), label=\"Normal stocks tracker\")\n",
    "plt.plot(stocks_meme @ fit_tracker(stocks_meme), label=\"Meme stocks tracker\")\n",
    "plt.plot(index, label=\"EURONEXT 100 index\")\n",
    "plt.title(\"Comparison of performance of Normal and Meme tracker\")\n",
    "plt.legend();"
   ]
  },
  {
   "cell_type": "code",
   "execution_count": null,
   "id": "lesser-excerpt",
   "metadata": {
    "id": "meaning-radio",
    "nbgrader": {
     "grade": true,
     "grade_id": "cell-c1609df31df3eb4b",
     "locked": true,
     "points": 0,
     "schema_version": 3,
     "solution": false,
     "task": false
    }
   },
   "outputs": [],
   "source": [
    "def exercise4b_tests():\n",
    "    for stocks_data, mean_true, error_true in zip(\n",
    "        [stocks_normal, stocks_meme],\n",
    "        [0.1428571428571, 0.166666666],\n",
    "        [0.0002199384890, 0.02959994779],\n",
    "    ):\n",
    "        tracker = fit_tracker(stocks_data)\n",
    "        assert np.abs(1 - tracker.sum()) < 1e-4, \"The output should sum to one\"\n",
    "        assert np.all(meme_tracker >= 0), \"The output should be positive\"\n",
    "        mean = tracker.mean()\n",
    "        assert (\n",
    "            np.abs(mean - mean_true) < 1e-4\n",
    "        ), f\"\"\"The mean value is {mean:.6f}, but should be {mean_true:.6f}\"\"\"\n",
    "        error = np.mean((stocks_data @ tracker - index) ** 2)\n",
    "        assert (\n",
    "            np.abs(error - error_true) < 1e-4\n",
    "        ), f\"\"\"The mean squared error is {error:.4e}, but it should be {error_true:.4e}\"\"\"\n",
    "\n",
    "\n",
    "exercise4b_tests()"
   ]
  }
 ],
 "metadata": {
  "celltoolbar": "Create Assignment",
  "colab": {
   "collapsed_sections": [],
   "name": "week5.ipynb",
   "provenance": []
  },
  "kernelspec": {
   "display_name": "Python 3",
   "language": "python",
   "name": "python3"
  },
  "language_info": {
   "codemirror_mode": {
    "name": "ipython",
    "version": 3
   },
   "file_extension": ".py",
   "mimetype": "text/x-python",
   "name": "python",
   "nbconvert_exporter": "python",
   "pygments_lexer": "ipython3",
   "version": "3.8.8"
  }
 },
 "nbformat": 4,
 "nbformat_minor": 5
}
