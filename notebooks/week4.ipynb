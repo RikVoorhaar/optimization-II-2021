{
 "cells": [
  {
   "cell_type": "markdown",
   "id": "liable-tunisia",
   "metadata": {},
   "source": [
    "[![Open in Colab](https://colab.research.google.com/assets/colab-badge.svg)](https://colab.research.google.com/github/RikVoorhaar/optimization-II-2021/blob/master/notebooks/week4.ipynb)"
   ]
  },
  {
   "cell_type": "markdown",
   "id": "communist-volleyball",
   "metadata": {},
   "source": [
    "# Week 4"
   ]
  },
  {
   "cell_type": "markdown",
   "id": "accessory-deadline",
   "metadata": {},
   "source": [
    "## Exercise 1\n",
    "<div class=\"alert alert-info\">\n",
    "Exercise\n",
    "    \n",
    "Let $g:\\mathbb{R}\\rightarrow \\mathbb{R}$ be a convex, monotonically non-decreasing function and let $f:C\\subset\\mathbb{R}^n\\rightarrow \\mathbb{R}$ be a convex function defined\n",
    "on the convex set $C\\subset \\mathbb R^n$.\n",
    "\n",
    "</div>"
   ]
  },
  {
   "cell_type": "markdown",
   "id": "distinct-cancer",
   "metadata": {},
   "source": [
    "### Exercise 1a)\n",
    "<div class=\"alert alert-info\">\n",
    "Exercise\n",
    "    \n",
    "Show that the composition $h(x)=g(f(x))$ is a convex function.\n",
    "\n",
    "</div>"
   ]
  },
  {
   "cell_type": "markdown",
   "id": "harmful-stocks",
   "metadata": {},
   "source": [
    "Recall that $g$ non-decreasing means that if $x\\leq y$ then $g(x)\\leq g(y)$. \n",
    "\n",
    "Let $x,y\\in C$ and consider $\\lambda\\in[0,1]$. By convexity of $f$:\n",
    "\t$$\n",
    "\t\tf(\\lambda x+(1 -\\lambda )y)\\leq \\lambda f(x)+(1-\\lambda)f(y).\n",
    "\t$$\n",
    "\n",
    "Since $g$ is non-decreasing:\n",
    "\t$$\n",
    "    \\begin{align}\n",
    "\t\tg\\left(f(\\lambda x+(1 -\\lambda )y)\\right)\t&\\leq  g\\left(\\lambda f(x)+(1-\\lambda)f(y)\\right)\\\\\n",
    "        &\\leq \\lambda g(f(x))+(1-\\lambda)g(f(y)),\n",
    "    \\end{align}\n",
    "\t$$\n",
    "\n",
    "where in the last step we used the convexity of $g$. This tells us precisely that $h=g\\circ f$ is convex."
   ]
  },
  {
   "cell_type": "markdown",
   "id": "frank-connecticut",
   "metadata": {},
   "source": [
    "### Exercise 1b)\n",
    "<div class=\"alert alert-info\">\n",
    "Exercise\n",
    "    \n",
    "Use the previous result to show that the function \n",
    "    $$\n",
    "    h\\colon \\mathbb R^n\\to \\mathbb R,\\qquad x\\mapsto \\exp\\left(\\beta x^TQx\\right),\n",
    "    $$\n",
    "    \n",
    "where $\\beta>0$ and $Q$ symmetric positive definite matrix, is a convex function\n",
    "    \n",
    "</div>"
   ]
  },
  {
   "cell_type": "markdown",
   "id": "aware-clearing",
   "metadata": {},
   "source": [
    "Since $Q$ is symmetric positive definite so is $\\beta Q$, and hence the map $x\\mapsto \\beta x^T Q x$ is convex. Not that $\\exp$ is strictly increasing, and hence in particular non-decreasing. Therefore by _a)_ we have that $h$ is convex."
   ]
  },
  {
   "cell_type": "markdown",
   "id": "numeric-elizabeth",
   "metadata": {},
   "source": [
    "### Exercise 1c)\n",
    "<div class=\"alert alert-info\">\n",
    "Exercise\n",
    "    \n",
    "If we ask $g$ to be just convex the result of _a)_ could be no longer valid. Find an\n",
    "example of two convex functions $g, f$ such that their composition is not convex.\n",
    "\n",
    "</div>"
   ]
  },
  {
   "cell_type": "markdown",
   "id": "hazardous-revelation",
   "metadata": {},
   "source": [
    "Take any function $f$ which is convex, but _not_ concave, e.g. $f(x) = x^2$. Then pick $g(x) = -x$. We then have that $h=g\\circ f$ is concave but _not_ convex."
   ]
  },
  {
   "cell_type": "markdown",
   "id": "humanitarian-central",
   "metadata": {},
   "source": [
    "## Exercise 2\n",
    "<div class=\"alert alert-info\">\n",
    "Exercise\n",
    "    \n",
    "Let $\\alpha_1,\\alpha_2,\\ldots,\\alpha_n>0$ be scalars such that $\\sum_{i=1}^n\\alpha_i=1$.\n",
    "    \n",
    "Show that for all $(x_1,\\dots,x_n)\\in \\mathbb R^n$ we have the following inequality:\n",
    "$$\n",
    "\tx_1^{\\alpha_1}x_2^{\\alpha_2}\\cdots x_n^{\\alpha_n}\\leq \\alpha_1 x_1+\\alpha_2 x_2+\\ldots+\\alpha_n x_n\\,.\n",
    "$$\n",
    "\n",
    "_Hint: Use_  $\\log$.\n",
    "\n",
    "</div>"
   ]
  },
  {
   "cell_type": "markdown",
   "id": "statistical-bread",
   "metadata": {},
   "source": [
    "If $x_i=0$ for some $i$, then the inequality is trivial. Assume therefore that $x_i\\neq 0$ for all $i$.\n",
    "\n",
    "Recall that $\\log$ is concave, therefore:\n",
    "\t$$\n",
    "    \\begin{align}\n",
    "\t\t\\log\\left(\\sum_{i=1}^n\\alpha_i x_i\\right)&\\geq \\sum_{i=1}^n\\alpha_i \\log(x_i)\\\\\n",
    "        &=\\sum_{i=1}^n\\log(x_i^{\\alpha_i})\\\\\n",
    "        &=\\log\\left(\\prod_{i=1}^n x_i^{\\alpha_i}\\right)\n",
    "    \\end{align}\n",
    "\t$$\n",
    "\n",
    "Since $\\exp$ is monotonically increasing, we can apply it on both sides of the inequality to obtain the desired result. "
   ]
  },
  {
   "cell_type": "markdown",
   "id": "ranging-anthropology",
   "metadata": {},
   "source": [
    "## Exercise 3\n",
    "<div class=\"alert alert-info\">\n",
    "Exercise\n",
    "    \n",
    "Let $C\\subset\\mathbb{R}^n$ be closed and convex, and let\n",
    "$\\left\\|\\cdot\\right\\|$ be the Euclidean norm. \n",
    "    \n",
    "In <a href=\"https://optimization-ii-2021.readthedocs.io/en/latest/nblinks/week1.html#Exercise-3\">Homework 1.3a)</a> you proved that for every $x\\in\n",
    "\\mathbb{R}^n$ there exists a unique point $z\\in C$ that minimizes the distance $\\left\\|x-z\\right\\|$.\n",
    "Let us define\n",
    "$$\n",
    "\t\\mathcal P_C\\colon \\mathbb R^n\\to C,\\qquad\\mathcal P_C(x)=\\operatorname{argmin}_{z\\in C}\\left\\|z-x\\right\\|.\n",
    "$$\n",
    "\n",
    "That is, $\\mathcal P_C$ is the projection onto $C$, giving the closest approximation of $x$ by any element in $C$.\n",
    "\n",
    "</div>"
   ]
  },
  {
   "cell_type": "markdown",
   "id": "embedded-revolution",
   "metadata": {},
   "source": [
    "### Exercise 3a)\n",
    "<div class=\"alert alert-info\">\n",
    "Exercise\n",
    "    \n",
    "Show that for $x\\in\\mathbb{R}^n$ a point $z\\in C$ satisfies $z = \\mathcal P_C(x)$ if and only\n",
    "if\n",
    "$$\n",
    "\t(y-z)^T(x-z)\\leq 0\\,,\\quad \\forall y\\in C\\,;\n",
    "$$\n",
    "\n",
    "</div>"
   ]
  },
  {
   "cell_type": "markdown",
   "id": "covered-chancellor",
   "metadata": {},
   "source": [
    "Notice that the function $f(z)=\\frac12\\left\\|z-x\\right\\|^2$, $z\\in C$ is convex. Then, from the\n",
    "sufficient and necessary optimality conditions for convex optimization, a point $z\\in C$ is a\n",
    "minimizer of $f$ if and only if\n",
    "$$\n",
    "\t\\nabla f(z)^T(y-z)\\geq 0\\,,\\quad \\forall y\\in C\\,.\n",
    "$$\n",
    "\n",
    "Since $\\nabla f(z)=(z-x)$, and $f$ clearly has the same minimizer as $z\\mapsto \\|z-x\\|$, we obtain the result."
   ]
  },
  {
   "cell_type": "markdown",
   "id": "ready-rescue",
   "metadata": {},
   "source": [
    "### Exercise 3b)\n",
    "<div class=\"alert alert-info\">\n",
    "Exercise\n",
    "    \n",
    "Show that $\\mathcal P_C$ is continuous and _non-expansive_. That is show that the following inequality holds:\n",
    "$$\n",
    "\t\\left\\|\\mathcal P_C(x)-\\mathcal P_C(y)\\right\\|\\leq \\left\\|x-y\\right\\|\\,,\\quad \\forall x,y\\in\\mathbb{R}^n.\n",
    "$$\n",
    "\n",
    "</div>"
   ]
  },
  {
   "cell_type": "markdown",
   "id": "national-surgery",
   "metadata": {},
   "source": [
    "By the Cauchy-Schwarz inequality it is enough to show that\n",
    "$$\n",
    "    \\|\\mathcal P_C(x)-\\mathcal P_C(Y)\\|^2 \\leq \\left\\langle\\mathcal P_C(x)-\\mathcal P_C(y),\\,x-y \\right\\rangle\n",
    "$$\n",
    "\n",
    "This is because CS inequality tells us that \n",
    "$$\n",
    "\\left\\langle\\mathcal P_C(x)-\\mathcal P_C(y),\\,x-y \\right\\rangle\\leq \\left\\|\\mathcal P_C(x)-\\mathcal P_C(y)\\right\\|\\left\\|x-y\\right\\|.\n",
    "$$\n",
    "\n",
    "Using the optimality condition of _3a)_ with $x=x$, $y=\\mathcal P_C(y)$ and $z=\\mathcal P_C(x)$, we obtain\n",
    "$$\n",
    "    \\left\\langle\\mathcal P_C(y)-\\mathcal P_C(x),\\,x-\\mathcal P_C(x)\\right\\rangle\\leq 0.\n",
    "$$\n",
    "\n",
    "Reversing the roles of $x$ and $y$ we also get\n",
    "$$\n",
    "    \\left\\langle\\mathcal P_C(x)-\\mathcal P_C(y),\\,y-\\mathcal P_C(y) \\right\\rangle\\leq 0.\n",
    "$$\n",
    "\n",
    " Adding these two inequalities we get\n",
    "$$\n",
    "\t\\left\\langle\\mathcal P_C(x)-\\mathcal P_C(y),\\,-(x-\\mathcal P_C(x))+y-\\mathcal P_C(y)\\right\\rangle\\leq 0.\n",
    "$$\n",
    "\n",
    "We can rearange the terms of this inequality to obtain:\n",
    "$$\n",
    "\\|P_C(x)-\\mathcal P_C(y)\\|^2-\\left\\langle\\mathcal P_C(x)-\\mathcal P_C(y),\\,x-y\\right\\rangle\\leq 0.\n",
    "$$\n",
    "\n",
    "By the remark at the start of the proof this gives the desired result."
   ]
  },
  {
   "cell_type": "markdown",
   "id": "impossible-detail",
   "metadata": {},
   "source": [
    "## Exercise 4\n",
    "<div class=\"alert alert-info\">\n",
    "Exercise\n",
    "    \n",
    "Consider the function\n",
    "$$\n",
    "    f\\colon S_+^n\\to \\mathbb R,\\qquad f(X) = \\log \\det (X),\n",
    "$$\n",
    "    \n",
    "where $S_+^n$ denotes the set of $n\\times n$ symmetric positive definite matrices. We want to show that $f$ is concave by showing that for each $X,Y\\in S_+^n$ the following function is concave:\n",
    "$$\n",
    "g\\colon S_+^n\\to \\mathbb R,\\qquad g(t) = \\log \\det (X+tY)\n",
    "$$\n",
    "\n",
    "</div>"
   ]
  },
  {
   "cell_type": "markdown",
   "id": "classical-illness",
   "metadata": {},
   "source": [
    "### Exercise 4a)\n",
    "<div class=\"alert alert-info\">\n",
    "Exercise\n",
    "\n",
    "If $X$ has eigenvalues $\\lambda_1,\\dots,\\lambda_n >0$, then show that \n",
    "$$\n",
    "\\log\\det X = \\sum_i\\log \\lambda_i\n",
    "$$\n",
    "\n",
    "</div>"
   ]
  },
  {
   "cell_type": "markdown",
   "id": "oriented-boring",
   "metadata": {},
   "source": [
    "Let $X = QDQ^{-1}$ be the eigenvalue decomposition of $X$. We then have that\n",
    "$$\n",
    "\\begin{align}\n",
    "\\log\\det X &= \\log \\det QDQ^{-1} = \\log \\det(D)\\\\\n",
    "&=\\log\\prod_i\\lambda_i=\\sum_i\\log\\lambda_i\n",
    "\\end{align}\n",
    "$$\n",
    "\n"
   ]
  },
  {
   "cell_type": "markdown",
   "id": "thirty-sailing",
   "metadata": {},
   "source": [
    "### Exercise 4b)\n",
    "<div class=\"alert alert-info\">\n",
    "Exercise\n",
    "\n",
    "Show that \n",
    "$$\n",
    "\\log \\det (X+tY) = \\log\\det(X)+\\log\\det(I+tZ),\n",
    "$$\n",
    "    \n",
    "for some $Z\\in S_+^n$.\n",
    "    \n",
    "_Hint: Conjugate_ $(X+tY)$ _by_ $I = X^{1/2}X^{-1/2}$, _where_ $X=X^{1/2}X^{1/2}$. \n",
    "    \n",
    "</div>"
   ]
  },
  {
   "cell_type": "markdown",
   "id": "attractive-northern",
   "metadata": {},
   "source": [
    "We have\n",
    "$$\n",
    "\\begin{align}\n",
    "\\log \\det (X+tY) &= \\log\\det(X+(X^{1/2}X^{-1/2})tY(X^{-1/2}X^{1/2}))\\\\\n",
    "&= \\log\\det (X^{1/2}(I +t X^{-1/2}YX^{-1/2})X^{1/2})\\\\\n",
    "&= \\log\\left(\\det (X^{1/2})\\det(I +t X^{-1/2}YX^{-1/2})\\det(X^{1/2})\\right)\\\\\n",
    "&= \\log \\det(X) + \\log\\det(I +t X^{-1/2}YX^{-1/2})\n",
    "\\end{align}\n",
    "$$\n",
    "\n",
    "Note that if $X=QDQ^T$ then $X^{-1/2} = QD^{-1/2}Q^T$. so $X^{-1/2}$ is symmetric. We thus have that for any nonzero $x\\in \\mathbb R^n$:\n",
    "$$\n",
    "x^T(X^{-1/2}YX^{-1/2})x = (X^{-1/2}x)^TY(X^{-1/2}x) > 0\n",
    "$$\n",
    "\n",
    "Moreover since $X^{-1/2}$ is symmetric, $Z^T = Z$, and we conclude that $Z= X^{-1/2}YX^{-1/2}\\in S_+^n$ is symmetric positive definite. \n",
    "\n",
    "Note that in general if $X$ is symmetric and $A\\in S_+^n$, then $XAX\\in S_+^n$. If $A,B\\in S_+^n$ then $AB\\in S_+^n$ if and only if $AB=BA$, so we couldn't just take $Z=YX^{-1}$!"
   ]
  },
  {
   "cell_type": "markdown",
   "id": "engaged-visitor",
   "metadata": {},
   "source": [
    "### Exercise 4c)\n",
    "<div class=\"alert alert-info\">\n",
    "Exercise\n",
    "    \n",
    "Let $\\mu_1,\\dots,\\mu_n$ be the eigenvalues of $Z$. Show that the eigenvalues of $I+tZ$ are given by $1+t\\mu_1,\\dots,1+t\\mu_n$.\n",
    "\n",
    "\n",
    "</div>"
   ]
  },
  {
   "cell_type": "markdown",
   "id": "dried-rates",
   "metadata": {},
   "source": [
    "If $Z = QDQ^{-1}$ is the eigenvalue decomposition of $Z$, then \n",
    "$$\n",
    "I+tZ = Q(I+tD)Q^{-1}\n",
    "$$\n",
    "\n",
    "Hence the eigenvalues of $I+tZ$ are $1+t\\mu_1,\\dots,1+t\\mu_n$.\n",
    "\n",
    "The crucial property here is that $I$ and $Z$ commute. In general if $A,B$ symmetric and $AB=BA$ commute, then we can simultaneously diagonalize them: $A = UD_1U^T, \\, B=UD_2 U^T$ with $U$ orthogonal and $D_i$ diagonal, so that $A+B = U(D_1+D_2)U^T$. This means that if two symmetric matrices commute, then the eigenvalues of $A+B$ are the sums of the respective eigenvalues. "
   ]
  },
  {
   "cell_type": "markdown",
   "id": "corporate-heart",
   "metadata": {},
   "source": [
    "### Exercise 4d)\n",
    "<div class=\"alert alert-info\">\n",
    "Exercise\n",
    "    \n",
    "Show that $g''(t) < 0$ for all $t\\in \\mathbb R$ and conclude that $f=\\log\\det$ is concave. \n",
    "\n",
    "</div>"
   ]
  },
  {
   "cell_type": "markdown",
   "id": "studied-support",
   "metadata": {},
   "source": [
    "We have that\n",
    "$$\n",
    "g(t) = \\sum_i\\log(1+t\\mu_i)+\\text{Constant}\n",
    "$$\n",
    "\n",
    "Hence:\n",
    "$$\n",
    "g'(t) = \\sum_i \\frac{\\mu_i}{1+t\\mu_i},\n",
    "$$\n",
    "\n",
    "and consequently,\n",
    "$$\n",
    "g''(t)  =\\sum_i \\frac{-\\mu_i^2}{(t+t\\mu_i)^2} < 0\n",
    "$$\n",
    "\n",
    "Hence $g(t)$ is concave. Since this holds for all $X,Y\\in S_+^n$ we also conclude that $f=\\log\\det$ is concave. "
   ]
  }
 ],
 "metadata": {
  "kernelspec": {
   "display_name": "Python 3",
   "language": "python",
   "name": "python3"
  },
  "language_info": {
   "codemirror_mode": {
    "name": "ipython",
    "version": 3
   },
   "file_extension": ".py",
   "mimetype": "text/x-python",
   "name": "python",
   "nbconvert_exporter": "python",
   "pygments_lexer": "ipython3",
   "version": "3.8.8"
  }
 },
 "nbformat": 4,
 "nbformat_minor": 5
}
