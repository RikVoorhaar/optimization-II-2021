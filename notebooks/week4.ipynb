{
 "cells": [
  {
   "cell_type": "markdown",
   "id": "smooth-chaos",
   "metadata": {},
   "source": [
    "[![Open in Colab](https://colab.research.google.com/assets/colab-badge.svg)](https://colab.research.google.com/github/RikVoorhaar/optimization-II-2021/blob/master/notebooks/week4.ipynb)"
   ]
  },
  {
   "cell_type": "markdown",
   "id": "prescribed-copper",
   "metadata": {},
   "source": [
    "# Week 4"
   ]
  },
  {
   "cell_type": "markdown",
   "id": "boring-balloon",
   "metadata": {},
   "source": [
    "## Exercise 1\n",
    "<div class=\"alert alert-info\">\n",
    "Exercise\n",
    "    \n",
    "Let $g:\\mathbb{R}\\rightarrow \\mathbb{R}$ be a convex, monotonically non-decreasing function and let $f:C\\subset\\mathbb{R}^n\\rightarrow \\mathbb{R}$ be a convex function defined\n",
    "on the convex set $C\\subset \\mathbb R^n$.\n",
    "\n",
    "</div>"
   ]
  },
  {
   "cell_type": "markdown",
   "id": "lined-liberty",
   "metadata": {},
   "source": [
    "### Exercise 1a)\n",
    "<div class=\"alert alert-info\">\n",
    "Exercise\n",
    "    \n",
    "Show that the composition $h(x)=g(f(x))$ is a convex function.\n",
    "\n",
    "</div>"
   ]
  },
  {
   "cell_type": "markdown",
   "id": "armed-sudan",
   "metadata": {},
   "source": [
    "### Exercise 1b)\n",
    "<div class=\"alert alert-info\">\n",
    "Exercise\n",
    "    \n",
    "Use the previous result to show that the function \n",
    "    $$\n",
    "    h\\colon \\mathbb R^n\\to \\mathbb R,\\qquad x\\mapsto \\exp\\left(\\beta x^TQx\\right),\n",
    "    $$\n",
    "where $\\beta>0$ and $Q$ symmetric positive definite matrix, is a convex function\n",
    "    \n",
    "</div>"
   ]
  },
  {
   "cell_type": "markdown",
   "id": "brutal-wheat",
   "metadata": {},
   "source": [
    "### Exercise 1c)\n",
    "<div class=\"alert alert-info\">\n",
    "Exercise\n",
    "    \n",
    "If we ask $g$ to be just convex the result of _a)_ could be no longer valid. Find an\n",
    "example of two convex functions $g, f$ such that their composition is not convex.\n",
    "\n",
    "</div>"
   ]
  },
  {
   "cell_type": "markdown",
   "id": "suitable-weekly",
   "metadata": {},
   "source": [
    "## Exercise 2\n",
    "<div class=\"alert alert-info\">\n",
    "Exercise\n",
    "    \n",
    "Let $\\alpha_1,\\alpha_2,\\ldots,\\alpha_n>0$ be scalars such that $\\sum_{i=1}^n\\alpha_i=1$.\n",
    "    \n",
    "Show that for all $(x_1,\\dots,x_n)\\in \\mathbb R^n$ we have the following inequality:\n",
    "$$\n",
    "\tx_1^{\\alpha_1}x_2^{\\alpha_2}\\cdots x_n^{\\alpha_n}\\leq \\alpha_1 x_1+\\alpha_2 x_2+\\ldots+\\alpha_n x_n\\,.\n",
    "$$\n",
    "\n",
    "_Hint: Use _ $\\log$.\n",
    "\n",
    "</div>"
   ]
  },
  {
   "cell_type": "markdown",
   "id": "tutorial-trail",
   "metadata": {},
   "source": [
    "## Exercise 3\n",
    "<div class=\"alert alert-info\">\n",
    "Exercise\n",
    "    \n",
    "Let $C\\subset\\mathbb{R}^n$ be closed and convex, and let\n",
    "$\\left\\|\\cdot\\right\\|$ be the Euclidean norm. \n",
    "    \n",
    "In <a href=\"https://optimization-ii-2021.readthedocs.io/en/latest/nblinks/week1.html#Exercise-3\">Homework 1.3a)</a> you proved that for every $x\\in\n",
    "\\mathbb{R}^n$ there exists a unique point $z\\in C$ that minimizes the distance $\\left\\|x-z\\right\\|$.\n",
    "Let us define\n",
    "$$\n",
    "\t\\mathcal P_C\\colon \\mathbb R^n\\to C,\\qquad\\mathcal P_C(x)=\\operatorname{argmin}_{z\\in C}\\left\\|z-x\\right\\|.\n",
    "$$\n",
    "\n",
    "That is, $\\mathcal P_C$ is the projection onto $C$, giving the closest approximation of $x$ by any element in $C$.\n",
    "\n",
    "</div>"
   ]
  },
  {
   "cell_type": "markdown",
   "id": "nominated-security",
   "metadata": {},
   "source": [
    "### Exercise 3a)\n",
    "<div class=\"alert alert-info\">\n",
    "Exercise\n",
    "    \n",
    "Show that for $x\\in\\mathbb{R}^n$ a point $z\\in C$ satisfies $z = \\mathcal P_C(x)$ if and only\n",
    "if\n",
    "$$\n",
    "\t(y-z)^T(x-z)\\leq 0\\,,\\quad \\forall y\\in C\\,;\n",
    "$$\n",
    "\n",
    "</div>"
   ]
  },
  {
   "cell_type": "markdown",
   "id": "fancy-enhancement",
   "metadata": {},
   "source": [
    "### Exercise 3b)\n",
    "<div class=\"alert alert-info\">\n",
    "Exercise\n",
    "    \n",
    "Show that $\\mathcal P_C$ is continuous and _non-expansive_. That is show that the following inequality holds:\n",
    "$$\n",
    "\t\\left\\|\\mathcal P_C(x)-\\mathcal P_C(y)\\right\\|\\leq \\left\\|x-y\\right\\|\\,,\\quad \\forall x,y\\in\\mathbb{R}^n.\n",
    "$$\n",
    "\n",
    "</div>"
   ]
  },
  {
   "cell_type": "markdown",
   "id": "historic-stuart",
   "metadata": {},
   "source": [
    "## Exercise 4\n",
    "<div class=\"alert alert-info\">\n",
    "Exercise\n",
    "    \n",
    "Consider the function\n",
    "$$\n",
    "    f\\colon S_+^n\\to \\mathbb R,\\qquad f(X) = \\log \\det (X),\n",
    "$$\n",
    "    \n",
    "where $S_+^n$ denotes the set of $n\\times n$ symmetric positive definite matrices. We want to show that $f$ is concave by showing that for each $X,Y\\in S_+^n$ the following function is concave:\n",
    "$$\n",
    "g\\colon J\\to \\mathbb R,\\qquad g(t) = \\log \\det (X+tY).\n",
    "$$\n",
    "where $J = \\{t\\in \\mathbb R \\mid X+tY\\in S_+^n\\}$\n",
    "\n",
    "</div>"
   ]
  },
  {
   "cell_type": "markdown",
   "id": "cloudy-industry",
   "metadata": {},
   "source": [
    "### Exercise 4a)\n",
    "<div class=\"alert alert-info\">\n",
    "Exercise\n",
    "\n",
    "If $X$ has eigenvalues $\\lambda_1,\\dots,\\lambda_n >0$, then show that \n",
    "$$\n",
    "\\log\\det X = \\sum_i\\log \\lambda_i\n",
    "$$\n",
    "\n",
    "</div>"
   ]
  },
  {
   "cell_type": "markdown",
   "id": "elementary-bridges",
   "metadata": {},
   "source": [
    "### Exercise 4b)\n",
    "<div class=\"alert alert-info\">\n",
    "Exercise\n",
    "\n",
    "Show that \n",
    "$$\n",
    "\\log \\det (X+tY) = \\log\\det(X)+\\log\\det(I+tZ),\n",
    "$$\n",
    "    \n",
    "for some $Z\\in S_+^n$.\n",
    "    \n",
    "_Hint: Conjugate_ $(X+tY)$ _by_ $I = X^{1/2}X^{-1/2}$, _where_ $X=X^{1/2}X^{1/2}$. \n",
    "    \n",
    "</div>"
   ]
  },
  {
   "cell_type": "markdown",
   "id": "instrumental-preserve",
   "metadata": {},
   "source": [
    "### Exercise 4c)\n",
    "<div class=\"alert alert-info\">\n",
    "Exercise\n",
    "    \n",
    "Let $\\mu_1,\\dots,\\mu_n$ be the eigenvalues of $Z$. Show that the eigenvalues of $I+tZ$ are given by $1+t\\mu_1,\\dots,1+t\\mu_n$.\n",
    "\n",
    "\n",
    "</div>"
   ]
  },
  {
   "cell_type": "markdown",
   "id": "southwest-migration",
   "metadata": {},
   "source": [
    "### Exercise 4d)\n",
    "<div class=\"alert alert-info\">\n",
    "Exercise\n",
    "    \n",
    "Show that $g''(t) < 0$ for all $t\\in J = \\{t\\in \\mathbb R \\mid X+tY\\in S_+^n\\}$ and conclude that $f=\\log\\det$ is concave. \n",
    "\n",
    "</div>"
   ]
  }
 ],
 "metadata": {
  "kernelspec": {
   "display_name": "Python 3",
   "language": "python",
   "name": "python3"
  },
  "language_info": {
   "codemirror_mode": {
    "name": "ipython",
    "version": 3
   },
   "file_extension": ".py",
   "mimetype": "text/x-python",
   "name": "python",
   "nbconvert_exporter": "python",
   "pygments_lexer": "ipython3",
   "version": "3.8.8"
  }
 },
 "nbformat": 4,
 "nbformat_minor": 5
}
