{
 "cells": [
  {
   "cell_type": "markdown",
   "metadata": {},
   "source": [
    "[![Open in Colab](https://colab.research.google.com/assets/colab-badge.svg)](https://colab.research.google.com/github/RikVoorhaar/optimization-II-2021/blob/master/notebooks/week2.ipynb)"
   ]
  },
  {
   "cell_type": "markdown",
   "metadata": {},
   "source": [
    "# Week 2"
   ]
  },
  {
   "cell_type": "markdown",
   "metadata": {},
   "source": [
    "## Exercise 1\n",
    "<div class=\"alert alert-info\">\n",
    "Exercise\n",
    "\n",
    "Let $S\\subset \\mathbb{R}^n$ be a closed convex set and let $f$ be function $f(x)=Ax+b$, with $A\\in\\mathbb{R}^{n\\times n}$, and $b\\in\\mathbb{R}^n$.\n",
    "</div>"
   ]
  },
  {
   "cell_type": "markdown",
   "metadata": {},
   "source": [
    "### Exercise 1a)\n",
    "<div class=\"alert alert-info\">\n",
    "Exercise\n",
    "\n",
    "Prove that $f(S)=\\left\\{f(x)\\,|\\, x\\in S\\right\\}$ is convex.\n",
    "</div>"
   ]
  },
  {
   "cell_type": "markdown",
   "metadata": {},
   "source": [
    "Let $z=f(x)\\in f(S)$ and $w=f(y)\\in f(S)$. Then for $\\lambda \\in [0,1]$ we have\n",
    "$$\n",
    "    \\lambda f(x)+(1-\\lambda) f(y)=f(\\lambda x+(1-\\lambda y)\n",
    "$$\n",
    "\n",
    "By convexity of $S$ we have that $\\lambda x+(1-\\lambda y)\\in S$, and hence $f(S)$ is convex."
   ]
  },
  {
   "cell_type": "markdown",
   "metadata": {},
   "source": [
    "### Exercise 1b)\n",
    "<div class=\"alert alert-info\">\n",
    "Exercise\n",
    "\n",
    "Prove that $f^{-1}(S)=\\left\\{x\\in\\mathbb{R}^n\\,|\\,f(x)\\in S\\right\\}$ is convex.\n",
    "    \n",
    "</div>"
   ]
  },
  {
   "cell_type": "markdown",
   "metadata": {},
   "source": [
    "Suppose $f(x),f(y)\\in S$. Then \n",
    "$$f(\\lambda x+(1-\\lambda)y) = \\lambda f(x) +(1-\\lambda)f(y),$$\n",
    "\n",
    "which is again in $S$ by convexity. Hence $f^{-1}(S)$ is convex."
   ]
  },
  {
   "cell_type": "markdown",
   "metadata": {},
   "source": [
    "### Exercise 1c)\n",
    "<div class=\"alert alert-info\">\n",
    "Exercise\n",
    "\n",
    "Suppose $T\\subset \\mathbb{R}^n$ is convex. Prove that the Minkowski sum $S+T=\\left\\{x+y\\,|\\,x\\in S\\,,y\\in T\\right\\}$ is also convex.\n",
    "    \n",
    "</div>"
   ]
  },
  {
   "cell_type": "markdown",
   "metadata": {},
   "source": [
    "Fix the points $s_1+t_1,s_2+t_2\\in S+T$, with $s_i\\in S, t_i\\in T$, $i=1,2$. Choose $\\lambda\\in(0,1)$ and consider the point\n",
    "$$\n",
    "z=\\lambda(s_1+t_1)+(1-\\lambda)(s_2+t_2)=\\lambda s_1+(1-\\lambda)s_2+ \\lambda t_1+(1-\\lambda)t_2\t\\,.\n",
    "$$\n",
    "\n",
    "Since $\\lambda s_1+(1-\\lambda)s_2\\in S$ and $\\lambda t_1+ (1-\\lambda)t_2\\in T$ by convexity of $S$ and $T$ respectively, $z\\in S+T$."
   ]
  },
  {
   "cell_type": "markdown",
   "metadata": {},
   "source": [
    "## Exercise 2\n",
    "<div class=\"alert alert-info\">\n",
    "Exercise\n",
    "    \n",
    "Let $\\Omega$ be a convex set. Show that $f\\colon \\Omega\\to \\mathbb R$ is convex if and only if $\\operatorname{epi}(f)$ is convex.\n",
    "\n",
    "</div>"
   ]
  },
  {
   "cell_type": "markdown",
   "metadata": {},
   "source": [
    "Recall $\\operatorname{epi}(f) = \\{(x,t)\\in \\Omega\\times \\mathbb R\\mid f(x)\\leq t\\}$\n",
    "\n",
    "\"$\\Leftarrow$\" Let $x,y\\in \\Omega$, then in particular $(x,f(x)),\\,(y,f(y))\\in \\operatorname{epi}(f)$. Let $t\\in (0,1)$, then by convexity of the epigraph we have that\n",
    "$$\n",
    "    (tx+(1-t)y,\\,tf(x)+(1-t)f(y))\\in \\operatorname{epi}(f)\n",
    "$$\n",
    "\n",
    "This means that\n",
    "$$\n",
    "    f(tx+(1-t)y)\\leq tf(x)+(1-t)f(y)\n",
    "$$\n",
    "\n",
    "which is the definition of convexity. \n",
    "\n",
    "\"$\\Rightarrow$\" Suppose that $f$ is convex and let $(x,a)$, $(y,b)\\in \\operatorname{epi}(f)$, and $t\\in (0,1)$. Then we have that $f(x)\\leq a$ and $f(y)\\leq b$. We then consider the convex combination \n",
    "$$z_t=(tx+(1-t)y, ta+(1-t)b)\n",
    "$$\n",
    "\n",
    "By convexity,\n",
    "$$f(tx+(1-t)y)\\leq tf(x)+(1-t)f(y)\\leq ta+(1-t)b$$\n",
    "\n",
    "Inspecting the first and last inequalities tells us that, $z_t\\in \\operatorname{epi}(f)$, and hence $\\operatorname{epi}(f)$ is convex."
   ]
  },
  {
   "cell_type": "markdown",
   "metadata": {},
   "source": [
    "## Exercise 3\n",
    "<div class=\"alert alert-info\">\n",
    "Exercise\n",
    "    \n",
    "For a compact set $S \\subset \\mathbb{R}^{n}$ with $n\\in\\mathbb{N}$, show that $\\operatorname{conv}(S)$, the convex hull of $S$, is a compact set.  \n",
    "\n",
    "Hint: recall that if $S\\subset\\mathbb{R}^n$ then every $x\\in \\operatorname{conv}(S)$ can be written as a convex combination of $n+1$ points of $S$ (Carathéodory's Theorem).\n",
    "\n",
    "</div>"
   ]
  },
  {
   "cell_type": "markdown",
   "metadata": {},
   "source": [
    "Let $\\{x_k\\}_{k\\in \\mathbb N}\\subset \\operatorname{conv}(S)$ be a sequence, then we will show it has a convergent subsequence with limit in $\\operatorname{conv}(S)$, i.e. we will show that $\\operatorname{conv}(S)$ is sequentially compact which is equivalent to compactness for metric spaces. \n",
    "\n",
    "By Carathéodory's theorem for each $x_k$ there are $y_k^i\\in S$ and $\\alpha_k^i\\in[0,1]$ such that $\\sum_{i=0}^n\\alpha_k^iy_k^i=x_k$. This defines a sequence\n",
    "$$\n",
    "z_k = (y_k^0,\\alpha_k^0,\\dots,y_k^n,\\alpha_k^n) \\in (S\\times[0,1])^{n+1}\n",
    "$$\n",
    "\n",
    "Since $S$ and $[0,1]$ are compact, so is $(S\\times [0,1])^{n+1}$, and hence $z_k$ has a convergent subsequence $\\{z_{k_m}\\}$. Clearly the map \n",
    "$$\n",
    "    f\\colon(S\\times[0,1])^{n+1}\\to \\operatorname{conv}(S),\\qquad (y^0,\\alpha^0,\\dots,y^n,\\alpha^n)\\mapsto \\sum_{i=0}^n\\alpha^iy^i\n",
    "$$\n",
    "\n",
    "is continuous, hence $f(z_{k_m})=x_{k_m}$ defines a convergent subsequence of $\\{x_k\\}$, and we conclude that $\\operatorname{conv}(S)$ is indeed compact."
   ]
  },
  {
   "cell_type": "markdown",
   "metadata": {},
   "source": [
    "## Exercise 4\n",
    "<div class=\"alert alert-info\">\n",
    "Exercise\n",
    "\n",
    "For $n\\in\\mathbb{N}$, $A\\in\\mathbb{R}^{n \\times n}$, $b\\in\\mathbb{R}^n$ and $c\\in\\mathbb{R}$, let us consider the function $f:\\mathbb{R}^n \\rightarrow \\mathbb{R}$ given by\n",
    "\n",
    "$$\n",
    "f(x) = \\frac12 \\, x^{\\top} \\!\\! A \\, x - b^{\\top} \\! x + c\n",
    "\\quad\\text{for all}\\quad\n",
    "x\\in\\mathbb{R}^n\n",
    "$$\n",
    "\n",
    "and the unconstrained-optimization problem\n",
    "\n",
    "$$\\tag{$*$}\n",
    "\\min_{x\\in\\mathbb{R}^n} f(x)\n",
    "\\, .\n",
    "$$\n",
    "    \n",
    "</div>"
   ]
  },
  {
   "cell_type": "markdown",
   "metadata": {},
   "source": [
    "### Exercise 4a)\n",
    "<div class=\"alert alert-info\">\n",
    "Exercise\n",
    "\n",
    "Assume that $A$ is indefinite. Show that the problem has no solution.\n",
    "    \n",
    "</div>"
   ]
  },
  {
   "cell_type": "markdown",
   "metadata": {},
   "source": [
    "Since $A$ is indefinite, there exists $x\\in\\mathbb{R}^n$ such that $\\mu=-x^{\\top}A x > 0$\n",
    "and, thus,\n",
    "$$\n",
    "f(tx) = -\\frac{\\mu}{2} \\, t^2 - t \\, (b^{\\top} \\! x) + c\n",
    "$$\n",
    "\n",
    "is not bounded from below with respect to $t\\in\\mathbb{R}$. As a result, the infimum of $f$ on $\\mathbb{R}^n$ is not attained and problem ($*$) has no solution."
   ]
  },
  {
   "cell_type": "markdown",
   "metadata": {},
   "source": [
    "### Exercise 4b)\n",
    "<div class=\"alert alert-info\">\n",
    "Exercise\n",
    "\n",
    "Let $A$ be positive definite. Show that the problem is uniquely solvable. Obtain the solution for given $A$, $b$ and $c$.\n",
    "   \n",
    "</div>"
   ]
  },
  {
   "cell_type": "markdown",
   "metadata": {},
   "source": [
    "Differentiation yields\n",
    "$$\n",
    "\\nabla f (x) = A x - b\n",
    "\\quad\\text{and}\\quad\n",
    "\\nabla^2 f(x) = A     \n",
    "$$\n",
    "\n",
    "for all $x\\in\\mathbb{R}^n$.\n",
    "\n",
    "Since $A$ is positive definite, $f$ is strongly convex with a positive parameter, and the first-order necessary condition $Ax=b$ is sufficient for $x$ to be the solution of problem ($*$). Every positive-definite matrix is invertible, so the solution is unique and equals $x=A^{-1}b$."
   ]
  },
  {
   "cell_type": "markdown",
   "metadata": {},
   "source": [
    "### Exercise 4c)\n",
    "<div class=\"alert alert-info\">\n",
    "Exercise\n",
    "\n",
    "When $A$ is positive semi-definite but not positive definite, find an example where the problem $(*)$ admits\n",
    "    \n",
    "- no solution;\n",
    "- several solutions.\n",
    "    \n",
    "</div>"
   ]
  },
  {
   "cell_type": "markdown",
   "metadata": {},
   "source": [
    "First case: The matrix $A=0$ is positive semi-definite, but then problem $(*)$ with $b\\neq 0$ has no solution since $f$ is not bounded from below.\n",
    "\n",
    "Second case: The matrix\n",
    "$$\n",
    "A  =\n",
    "\\begin{pmatrix}\n",
    "1 & 1 \\\\\n",
    "1 & 1 \\\\\n",
    "\\end{pmatrix}\n",
    "$$\n",
    "\n",
    "is positive semi-definite, but then the solution set of problem $(*)$ with $b=0$ is\n",
    "$$\n",
    "\\big\\{x\\in\\mathbb{R}^2: \\; x_1+x_2=0\\big\\}\n",
    "\\, .\n",
    "$$"
   ]
  },
  {
   "cell_type": "markdown",
   "metadata": {},
   "source": [
    "## Exercise 5\n",
    "<div class=\"alert alert-info\">\n",
    "Exercise\n",
    "    \n",
    "For $m\\in\\mathbb{N}$ such that $m \\geq n$, a matrix $M\\in\\mathbb{R}^{m \\times n}$ and a vector $u\\in\\mathbb{R}^m$, consider the least-squares problem\n",
    "\n",
    "\n",
    "$$\\tag{$**$}\n",
    "\\min_{x\\in\\mathbb{R}^n} \\|Mx-u\\|_2\n",
    "\\, .\n",
    "$$\n",
    "\n",
    "</div>"
   ]
  },
  {
   "cell_type": "markdown",
   "metadata": {},
   "source": [
    "### Exercise 5a)\n",
    "<div class=\"alert alert-info\">\n",
    "Exercise\n",
    "\n",
    "Demonstrate that problem $(**)$ is a problem of type $(*)$ defined in Exercise 4.\n",
    "\n",
    "What is the matrix $A$ and the vectors $b,c$ in this case?\n",
    "\n",
    "</div>"
   ]
  },
  {
   "cell_type": "markdown",
   "metadata": {},
   "source": [
    "The problem $(**)$ is equivalent to minimizing\n",
    "$$\n",
    "\\|Mx-u\\|^2_2 = (Mx-u)^\\top (Mx-u) = x^\\top M^\\top Mx-2 u^\\top M x+u^\\top u\n",
    "$$\n",
    "\n",
    "That is, problem $(*)$ with $A=2M^\\top M$, $b=2M^\\top u$ and $c=u^\\top u$. "
   ]
  },
  {
   "cell_type": "markdown",
   "metadata": {},
   "source": [
    "### Exercise 5b)\n",
    "<div class=\"alert alert-info\">\n",
    "Exercise\n",
    "\n",
    "Show that the matrix $A$ of part a) is always positive semidefinite. Show that problem $(**)$ always admits a solution. \n",
    "    \n",
    "(Remark: this is not a contradiction to 4c) )\n",
    "    \n",
    "</div>\n",
    "\n",
    "$A=2M^\\top M$ which is always positive semidefinite. The problem can be reprased as $\\min_{y\\in \\operatorname{im}M}\\|y-u\\|$. In exercise 3 of week 1 we showed this problem has a unique solution granted $\\operatorname{im}M$ is convex and closed, but any linear subspace is convex and closed.\n",
    "\n",
    "This doesn't contradict problem 4c), because here the vector $b$ is given, whereas in problem 4c) we were free to choose it."
   ]
  },
  {
   "cell_type": "markdown",
   "metadata": {},
   "source": [
    "### Exercise 5c)\n",
    "<div class=\"alert alert-info\">\n",
    "Exercise\n",
    "\n",
    "Now suppose that $M$ has full rank. Show that the solution is then unique, and give an explicit formula for the solution.\n",
    "\n",
    "</div>"
   ]
  },
  {
   "cell_type": "markdown",
   "metadata": {},
   "source": [
    "If $M$ has full rank then $M^\\top M$ is in fact positive definite. The solution is therefore unique by exercise 4 b). The solution is then $x=A^{-1}b$, i.e. $x=(M^\\top M)^{-1}Mu$. \n",
    "\n",
    "Note that $M^\\dagger:=(M^\\top M)^{-1}M$ is the Moore-Penrose pseudoinverse of $M$, and even if $M$ is not of full rank we can still define this pseudoinverse such that in particular $x=M^\\dagger u$ solves $(**)$. "
   ]
  }
 ],
 "metadata": {
  "kernelspec": {
   "display_name": "Python 3",
   "language": "python",
   "name": "python3"
  },
  "language_info": {
   "codemirror_mode": {
    "name": "ipython",
    "version": 3
   },
   "file_extension": ".py",
   "mimetype": "text/x-python",
   "name": "python",
   "nbconvert_exporter": "python",
   "pygments_lexer": "ipython3",
   "version": "3.8.8"
  }
 },
 "nbformat": 4,
 "nbformat_minor": 4
}
