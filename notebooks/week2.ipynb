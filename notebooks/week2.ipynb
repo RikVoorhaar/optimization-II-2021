{
 "cells": [
  {
   "cell_type": "markdown",
   "metadata": {},
   "source": [
    "[![Open in Colab](https://colab.research.google.com/assets/colab-badge.svg)](https://colab.research.google.com/github/RikVoorhaar/optimization-II-2021/blob/master/notebooks/week2.ipynb)"
   ]
  },
  {
   "cell_type": "markdown",
   "metadata": {},
   "source": [
    "# Week 2"
   ]
  },
  {
   "cell_type": "markdown",
   "metadata": {},
   "source": [
    "## Exercise 1\n",
    "<div class=\"alert alert-info\">\n",
    "Exercise\n",
    "\n",
    "Let $S\\subset \\mathbb{R}^n$ be a closed convex set and let $f$ be function $f(x)=Ax+b$, with $A\\in\\mathbb{R}^{n\\times n}$, and $b\\in\\mathbb{R}^n$.\n",
    "</div>"
   ]
  },
  {
   "cell_type": "markdown",
   "metadata": {},
   "source": [
    "### Exercise 1a)\n",
    "<div class=\"alert alert-info\">\n",
    "Exercise\n",
    "\n",
    "Prove that $f(S)=\\left\\{f(x)\\,|\\, x\\in S\\right\\}$ is convex.\n",
    "</div>"
   ]
  },
  {
   "cell_type": "markdown",
   "metadata": {},
   "source": [
    "### Exercise 1b)\n",
    "<div class=\"alert alert-info\">\n",
    "Exercise\n",
    "\n",
    "Prove that $f^{-1}(S)=\\left\\{x\\in\\mathbb{R}^n\\,|\\,f(x)\\in S\\right\\}$ is convex.\n",
    "    \n",
    "</div>"
   ]
  },
  {
   "cell_type": "markdown",
   "metadata": {},
   "source": [
    "### Exercise 1c)\n",
    "<div class=\"alert alert-info\">\n",
    "Exercise\n",
    "\n",
    "Suppose $T\\subset \\mathbb{R}^n$ is convex. Prove that the Minkowski sum $S+T=\\left\\{x+y\\,|\\,x\\in S\\,,y\\in T\\right\\}$ is also convex.\n",
    "    \n",
    "</div>"
   ]
  },
  {
   "cell_type": "markdown",
   "metadata": {},
   "source": [
    "## Exercise 2\n",
    "<div class=\"alert alert-info\">\n",
    "Exercise\n",
    "    \n",
    "Let $\\Omega$ be a convex set. Show that $f\\colon \\Omega\\to \\mathbb R$ is convex if and only if $\\operatorname{epi}(f)$ is convex.\n",
    "\n",
    "</div>"
   ]
  },
  {
   "cell_type": "markdown",
   "metadata": {},
   "source": [
    "## Exercise 3\n",
    "<div class=\"alert alert-info\">\n",
    "Exercise\n",
    "    \n",
    "For a compact set $S \\subset \\mathbb{R}^{n}$ with $n\\in\\mathbb{N}$, show that $\\operatorname{conv}(S)$, the convex hull of $S$, is a compact set.  \n",
    "\n",
    "Hint: recall that if $S\\subset\\mathbb{R}^n$ then every $x\\in \\operatorname{conv}(S)$ can be written as a convex combination of $n+1$ points of $S$ (Carathéodory's Theorem).\n",
    "\n",
    "</div>"
   ]
  },
  {
   "cell_type": "markdown",
   "metadata": {},
   "source": [
    "## Exercise 4\n",
    "<div class=\"alert alert-info\">\n",
    "Exercise\n",
    "\n",
    "For $n\\in\\mathbb{N}$, $A\\in\\mathbb{R}^{n \\times n}$, $b\\in\\mathbb{R}^n$ and $c\\in\\mathbb{R}$, let us consider the function $f:\\mathbb{R}^n \\rightarrow \\mathbb{R}$ given by\n",
    "\n",
    "$$\n",
    "f(x) = \\frac12 \\, x^{\\top} \\!\\! A \\, x - b^{\\top} \\! x + c\n",
    "\\quad\\text{for all}\\quad\n",
    "x\\in\\mathbb{R}^n\n",
    "$$\n",
    "\n",
    "and the unconstrained-optimization problem\n",
    "\n",
    "$$\\tag{$*$}\n",
    "\\min_{x\\in\\mathbb{R}^n} f(x)\n",
    "\\, .\n",
    "$$\n",
    "    \n",
    "</div>"
   ]
  },
  {
   "cell_type": "markdown",
   "metadata": {},
   "source": [
    "### Exercise 4a)\n",
    "<div class=\"alert alert-info\">\n",
    "Exercise\n",
    "\n",
    "Assume that $A$ is indefinite. Show that the problem has no solution.\n",
    "    \n",
    "</div>"
   ]
  },
  {
   "cell_type": "markdown",
   "metadata": {},
   "source": [
    "### Exercise 4b)\n",
    "<div class=\"alert alert-info\">\n",
    "Exercise\n",
    "\n",
    "Let $A$ be positive definite. Show that the problem is uniquely solvable. Obtain the solution for given $A$, $b$ and $c$.\n",
    "   \n",
    "</div>"
   ]
  },
  {
   "cell_type": "markdown",
   "metadata": {},
   "source": [
    "### Exercise 4c)\n",
    "<div class=\"alert alert-info\">\n",
    "Exercise\n",
    "\n",
    "When $A$ is positive semi-definite but not positive definite, find an example where the problem $(*)$ admits\n",
    "    \n",
    "- no solution;\n",
    "- several solutions.\n",
    "    \n",
    "</div>"
   ]
  },
  {
   "cell_type": "markdown",
   "metadata": {},
   "source": [
    "## Exercise 5\n",
    "<div class=\"alert alert-info\">\n",
    "Exercise\n",
    "    \n",
    "For $m\\in\\mathbb{N}$ such that $m \\geq n$, a matrix $M\\in\\mathbb{R}^{m \\times n}$ and a vector $u\\in\\mathbb{R}^m$, consider the least-squares problem\n",
    "\n",
    "\n",
    "$$\\tag{$**$}\n",
    "\\min_{x\\in\\mathbb{R}^n} \\|Mx-u\\|_2\n",
    "\\, .\n",
    "$$\n",
    "\n",
    "</div>"
   ]
  },
  {
   "cell_type": "markdown",
   "metadata": {},
   "source": [
    "### Exercise 5a)\n",
    "<div class=\"alert alert-info\">\n",
    "Exercise\n",
    "\n",
    "Demonstrate that problem $(**)$ is a problem of type $(*)$ defined in Exercise 4.\n",
    "\n",
    "What is the matrix $A$ and the vectors $b,c$ in this case?\n",
    "\n",
    "</div>"
   ]
  },
  {
   "cell_type": "markdown",
   "metadata": {},
   "source": [
    "### Exercise 5b)\n",
    "<div class=\"alert alert-info\">\n",
    "Exercise\n",
    "\n",
    "Show that the matrix $A$ of part a) is always positive semidefinite. Show that problem $(**)$ always admits a solution. \n",
    "    \n",
    "(Remark: this is not a contradiction to 4c) )\n",
    "    \n",
    "</div>"
   ]
  },
  {
   "cell_type": "markdown",
   "metadata": {},
   "source": [
    "### Exercise 5c)\n",
    "<div class=\"alert alert-info\">\n",
    "Exercise\n",
    "\n",
    "Now suppose that $M$ has full rank. Show that the solution is then unique, and give an explicit formula for the solution.\n",
    "\n",
    "</div>"
   ]
  }
 ],
 "metadata": {
  "kernelspec": {
   "display_name": "Python 3",
   "language": "python",
   "name": "python3"
  },
  "language_info": {
   "codemirror_mode": {
    "name": "ipython",
    "version": 3
   },
   "file_extension": ".py",
   "mimetype": "text/x-python",
   "name": "python",
   "nbconvert_exporter": "python",
   "pygments_lexer": "ipython3",
   "version": "3.8.8"
  }
 },
 "nbformat": 4,
 "nbformat_minor": 4
}
