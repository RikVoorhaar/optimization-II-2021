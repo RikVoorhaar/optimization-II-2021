{
 "cells": [
  {
   "cell_type": "markdown",
   "id": "virtual-adventure",
   "metadata": {},
   "source": [
    "[![Open in Colab](https://colab.research.google.com/assets/colab-badge.svg)](https://colab.research.google.com/github/RikVoorhaar/optimization-II-2021/blob/master/notebooks/week3.ipynb)"
   ]
  },
  {
   "cell_type": "markdown",
   "id": "loose-aluminum",
   "metadata": {
    "id": "final-lender"
   },
   "source": [
    "# Week 3\n",
    "\n",
    "This is the first Python programming homework for this course. You can do this homework either on Google colab, or on your own machine (after installing conda). You might also want to look back at the week 0 notebook, and go through it to get better accostumed to Jupyter notebooks. Some general instructions for the exercises:\n",
    "\n",
    "- In the description of every exercise we mention which functions you should use, and there will be a link to the relevant documentation. You are strongly encouraged to read the documentation, especially if you are not sure what the function does. \n",
    "\n",
    "- Each exersice consists of finishing some partially written code. The code you wrote is then automatically tested using a few `assert` statements. This is for your convenience, and you are requested __not to alter the tests__. If your code conforms to the instructions, and none of the tests throw an error, there is a good chance that your answer is correct. \n",
    "\n",
    "- It is possible to solve each exercise in no more than 10 lines of code, and most only need 2-3 lines. If your solution is much longer, you should try to make it shorter. In particular, don't forget that using vectorized `numpy` and `scipy` functions tends to produce shorter and much faster code than using nested Python `for` loops. \n",
    "\n",
    "- Before handing in, be sure to restart the IPython kernel (in colab: Runtime $\\to$ Run all) and run the entire notebook top-to-bottom and check that none of the cells throw an error. \n",
    "\n",
    "Now we begin by running the cell below. Google colab by default uses an outdated version of CVXPY, and so we will need to update it. This may take about a minute, but this update is only performed once per session. If you're running this notebook on a local python installation, make sure that this cell does not throw any errors. If it does, you will need to install additional packages. You can do this by using `pip` from the command line."
   ]
  },
  {
   "cell_type": "code",
   "execution_count": 1,
   "id": "incoming-middle",
   "metadata": {
    "colab": {
     "base_uri": "https://localhost:8080/"
    },
    "executionInfo": {
     "elapsed": 62441,
     "status": "ok",
     "timestamp": 1615306025062,
     "user": {
      "displayName": "Bart Vandereycken",
      "photoUrl": "",
      "userId": "17548432247579945169"
     },
     "user_tz": -60
    },
    "id": "antique-philadelphia",
    "outputId": "21c116bb-4682-401a-ff31-f5fbe08333ee"
   },
   "outputs": [],
   "source": [
    "from importlib_metadata import version\n",
    "\n",
    "if version('cvxpy')<'1.1.0':\n",
    "    !pip install --upgrade cvxpy\n",
    "import cvxpy as cp\n",
    "import matplotlib\n",
    "import matplotlib.pyplot as plt\n",
    "\n",
    "matplotlib.rcParams['figure.figsize'] = (9, 6)\n",
    "import numpy as np\n",
    "import pandas as pd\n",
    "import scipy"
   ]
  },
  {
   "cell_type": "markdown",
   "id": "center-making",
   "metadata": {
    "id": "electrical-christianity"
   },
   "source": [
    "## Exercise 1\n",
    "The aim of this exercise is to use `cvxpy` for polynomial approximation of functions or data.\n",
    "\n",
    "Given two positive integers $N,d\\in\\mathbb{N}$ we want to learn a polynomial $P_c\\colon \\mathbb R\\to \\mathbb R$ of degree $d$ with coefficients $c=(c_0,c_1,\\dots,c_d)^T \\in \\mathbb R^{d+1}$:\n",
    "$$\n",
    "    P_c(x) = \\sum_{i=0}^d c_i x^i.\n",
    "$$\n",
    "\n",
    "Given $N$ training values of $X = (x_1,\\dots,x_N)^T$ and $Y = (y_1,\\dots,y_N)^T$,  we consider the minimization problem\n",
    "$$\n",
    "\\min_{c\\in\\mathbb{R}^{d+1}}\\left\\|P_c(X)-Y\\right\\|\\tag{1}\n",
    "$$\n",
    "\n",
    "for a suitable vector norm $\\left\\|\\cdot\\right\\|$  and by abuse of notation, $P_c(X) = (P_c(x_1),\\dots,P_c(x_N))^T$.\n",
    "\n",
    "### Exercise 1a)\n",
    "Consider the case $\\left\\|\\cdot\\right\\|=\\left\\|\\cdot\\right\\|_2$. We can then rewrite this problem as a least-squares problem by writing\n",
    "$$\n",
    "P_c(X) = V_d(X)c\n",
    "$$\n",
    "\n",
    "where $V_d(X)$ is the $N\\times (d+1)$ Vandermonde matrix\n",
    "$$\n",
    "V_d(X) = \\begin{pmatrix}\n",
    "1 & x_1 & x_1^2 & \\dots & x_1^d\\\\\n",
    "1 & x_2 & x_2^2 & \\dots & x_2^d\\\\\n",
    "\\vdots & \\vdots & \\vdots & \\ddots & \\vdots \\\\\n",
    "1 & x_N & x_N^2 & \\dots & x_N^d\n",
    "\\end{pmatrix}.\n",
    "$$\n",
    "\n",
    "___\n",
    "> Write a function `vandermonde(X,d)` that creates $V_d(X)$. Make sure the final result is a numpy array.\n",
    ">\n",
    ">You are _not_ allowed to use the numpy function `np.vander`, the point is to implement this yourself. \n",
    "\n",
    "___\n",
    "\n",
    "Tips\n",
    "\n",
    "- You can use [np.stack](https://numpy.org/doc/stable/reference/generated/numpy.stack.html) to turn a list of vectors into a matrix.\n",
    "- You can raise the elements of an array `A` to the power `i` by `A**i`\n",
    "- You can use `np.array(A)` to cast Python lists to numpy arrays. \n",
    "- You can transpose a matrix `A` using `A.T`"
   ]
  },
  {
   "cell_type": "code",
   "execution_count": null,
   "id": "reflected-rubber",
   "metadata": {
    "colab": {
     "base_uri": "https://localhost:8080/"
    },
    "deletable": false,
    "executionInfo": {
     "elapsed": 580,
     "status": "ok",
     "timestamp": 1615306593876,
     "user": {
      "displayName": "Bart Vandereycken",
      "photoUrl": "",
      "userId": "17548432247579945169"
     },
     "user_tz": -60
    },
    "id": "rocky-murder",
    "nbgrader": {
     "cell_type": "code",
     "checksum": "abfbdda4f1485e1afdfea4f3d6edde6e",
     "grade": true,
     "grade_id": "cell-36a67aa2cc8da5e2",
     "locked": false,
     "points": 0,
     "schema_version": 3,
     "solution": true,
     "task": false
    },
    "outputId": "252f20a3-10c0-446a-9342-5bac05853b25"
   },
   "outputs": [],
   "source": [
    "def vandermonde(X, d):\n",
    "    # YOUR CODE HERE\n",
    "    raise NotImplementedError()\n",
    "\n",
    "\n",
    "# Print the vandermonde array for X regularly sampled from -1 to 1\n",
    "np.set_printoptions(\n",
    "    edgeitems=30, linewidth=100, formatter=dict(float=lambda x: \"%+.5f\" % x)\n",
    ")\n",
    "X = np.linspace(-1, 1, 10)\n",
    "V_X = vandermonde(X, 4)\n",
    "print(V_X)\n",
    "\n",
    "# Tests\n",
    "assert isinstance(V_X, np.ndarray), \"The result is not a numpy array\"\n",
    "assert V_X.shape == (10, 5), \"The shape of the result is incorrect\"\n",
    "assert vandermonde(np.linspace(-1, 1, 6), 2).shape == (\n",
    "    6,\n",
    "    3,\n",
    "), \"The shape of the result is incorrect\"\n",
    "assert np.linalg.norm(V_X[:, 0] - np.ones(10)) < 1e-8, \"The result is not correct\"\n",
    "assert np.abs(np.mean(V_X) - 0.3404298) < 1e-4, \"The result is not correct\""
   ]
  },
  {
   "cell_type": "markdown",
   "id": "waiting-czech",
   "metadata": {
    "id": "popular-cutting"
   },
   "source": [
    "### Exercise 1b)\n",
    "\n",
    "Let us now approximate the function\n",
    "$$\n",
    "f(x)=\\sin\\left(2\\pi x\\right)+3\\cos\\left(2\\pi x^2\\right)\\,\n",
    "$$\n",
    "on the interval $[-1,1]$. Given the values\n",
    "$$\n",
    "y_i=f(x_i)\\,,\\quad i=1,\\ldots,n\n",
    "$$\n",
    "solve the problem $(1)$ in the following three different ways:  \n",
    "\n",
    "___\n",
    "> Write three functions that each take data `X`, `Y` and the degree of the polynomial `d` to solve $(1)$. As first step, apply `vandermonde` or [np.vander](https://numpy.org/doc/stable/reference/generated/numpy.vander.html?highlight=vander) to the data `X`.\n",
    "\n",
    "> 1. A function `pol_fit_lstsq(X,Y,d)` that solves $(1)$ by regarding it as a least-squares problem as in [Exercise 5 of week 2](https://optimization-ii-2021.readthedocs.io/en/latest/nblinks/week2.html#Exercise-5). Use [np.linalg.lstsq](https://numpy.org/doc/stable/reference/generated/numpy.linalg.lstsq.html).\n",
    "\n",
    "> 2. A function `pol_fit_qr(X,Y,d)` that solves $(1)$ by using the QR factorization ([np.linalg.qr](https://numpy.org/doc/stable/reference/generated/numpy.linalg.qr.html)) of the Vandermonde matrix $V_d(X) = QR$. Recall that $Q$ is orthogonal, and $R$ is upper triangular. Then use a solver specialized for triangular matrices [scipy.linalg.solve_triangular](https://docs.scipy.org/doc/scipy/reference/generated/scipy.linalg.solve_triangular.html) to solve the transformed problem:\n",
    "$\\min_{c\\in \\mathbb{R}^n}\\|V_d(X)c-Y\\| = \\min_{c\\in \\mathbb{R}^n}\\|Rc-Q^\\top Y\\|$\n",
    "\n",
    "> 3. A function `pol_fit_cvxpy(X,Y,d)` that solves $(1)$ by using CVXPY and regarding the problem as a convex minimization problem.  \n",
    "\n",
    "___"
   ]
  },
  {
   "cell_type": "code",
   "execution_count": null,
   "id": "complete-smart",
   "metadata": {
    "colab": {
     "base_uri": "https://localhost:8080/",
     "height": 374
    },
    "executionInfo": {
     "elapsed": 818,
     "status": "ok",
     "timestamp": 1615302345173,
     "user": {
      "displayName": "Rik Voorhaar",
      "photoUrl": "https://lh3.googleusercontent.com/a-/AOh14GiARLX-61EWkT5u3TJ0aLe8HCXUEuzsxfIptxxWrw=s64",
      "userId": "13522764759478134685"
     },
     "user_tz": -60
    },
    "id": "amateur-leone",
    "outputId": "9dd2d2ad-f7f4-40e3-da1d-3c5e8198c496"
   },
   "outputs": [],
   "source": [
    "# To get started, we define the function `f` and plot it.\n",
    "# We also form the data vectors `X` and `Y`.\n",
    "def f(x):\n",
    "    return np.sin(2 * np.pi * x) + 3 * np.cos(2 * np.pi * x ** 2)\n",
    "\n",
    "\n",
    "# This implements the function P_c\n",
    "def apply_poly(X, c):\n",
    "    A = np.vander(X, N=len(c), increasing=True)\n",
    "    return A @ c\n",
    "\n",
    "\n",
    "N = 100\n",
    "X = np.linspace(-1, 1, N)\n",
    "Y = f(X)\n",
    "\n",
    "plt.plot(X, Y);"
   ]
  },
  {
   "cell_type": "code",
   "execution_count": null,
   "id": "durable-tiger",
   "metadata": {
    "colab": {
     "base_uri": "https://localhost:8080/",
     "height": 392
    },
    "deletable": false,
    "executionInfo": {
     "elapsed": 973,
     "status": "ok",
     "timestamp": 1615302346758,
     "user": {
      "displayName": "Rik Voorhaar",
      "photoUrl": "https://lh3.googleusercontent.com/a-/AOh14GiARLX-61EWkT5u3TJ0aLe8HCXUEuzsxfIptxxWrw=s64",
      "userId": "13522764759478134685"
     },
     "user_tz": -60
    },
    "id": "wanted-xerox",
    "nbgrader": {
     "cell_type": "code",
     "checksum": "346398f757c4c5fa9bd7dd6d7dcab2ab",
     "grade": true,
     "grade_id": "cell-6e20bde8b4004c78",
     "locked": false,
     "points": 0,
     "schema_version": 3,
     "solution": true,
     "task": false
    },
    "outputId": "4ae907ce-8031-4815-af26-da862eac568d"
   },
   "outputs": [],
   "source": [
    "def pol_fit_lstsq(X, Y, d):\n",
    "    # Read the instructions, because here it's important\n",
    "    # that the solution is calculated in the right way!\n",
    "    # Unfortunately it's hard to write tests that\n",
    "    # check HOW a solution is computed.\n",
    "\n",
    "    # YOUR CODE HERE\n",
    "    raise NotImplementedError()\n",
    "\n",
    "\n",
    "# Tests\n",
    "c5 = pol_fit_lstsq(X, Y, 5)\n",
    "c8 = pol_fit_lstsq(X, Y, 8)\n",
    "assert isinstance(c5, np.ndarray), \"Make sure the result is a numpy array\"\n",
    "assert c5.shape == (6,), \"The shape of the result is wrong\"\n",
    "assert c8.shape == (9,), \"The shape of the result is wrong\"\n",
    "\n",
    "Y_pred5 = apply_poly(X, c5)\n",
    "Y_pred8 = apply_poly(X, c8)\n",
    "error5 = np.linalg.norm(Y - Y_pred5)\n",
    "error8 = np.linalg.norm(Y - Y_pred8)\n",
    "\n",
    "plt.title(\"Least-squares polynomial fit of $f$\")\n",
    "plt.plot(X, Y_pred8, \"-\", label=f\"fit for $d=8$, error: {error8:.3f}\")\n",
    "plt.plot(X, Y_pred5, \"-\", label=f\"fit for $d=5$, error: {error5:.3f}\")\n",
    "plt.plot(X, Y, \"--\", label=\"true function\")\n",
    "plt.legend()\n",
    "\n",
    "assert np.abs(error5 - 6.88594) < 1e-4, \"The error for d=5 is not correct\"\n",
    "assert np.abs(error8 - 0.74568) < 1e-4, \"The error for d=5 is not correct\""
   ]
  },
  {
   "cell_type": "code",
   "execution_count": null,
   "id": "adequate-riverside",
   "metadata": {
    "colab": {
     "base_uri": "https://localhost:8080/",
     "height": 392
    },
    "deletable": false,
    "executionInfo": {
     "elapsed": 998,
     "status": "ok",
     "timestamp": 1615302348389,
     "user": {
      "displayName": "Rik Voorhaar",
      "photoUrl": "https://lh3.googleusercontent.com/a-/AOh14GiARLX-61EWkT5u3TJ0aLe8HCXUEuzsxfIptxxWrw=s64",
      "userId": "13522764759478134685"
     },
     "user_tz": -60
    },
    "id": "happy-identifier",
    "nbgrader": {
     "cell_type": "code",
     "checksum": "34915efc1c60a8bc1ac56d845b326ce5",
     "grade": true,
     "grade_id": "cell-6762dcf86b1b88cc",
     "locked": false,
     "points": 0,
     "schema_version": 3,
     "solution": true,
     "task": false
    },
    "outputId": "d0b89a5d-51d5-4a4e-de67-4d7af4decb95"
   },
   "outputs": [],
   "source": [
    "def pol_fit_qr(X, Y, d):\n",
    "    # Read the instructions, because here it's important\n",
    "    # that the solution is calculated in the right way!\n",
    "    # Unfortunately it's hard to write tests that\n",
    "    # check HOW a solution is computed.\n",
    "\n",
    "    # YOUR CODE HERE\n",
    "    raise NotImplementedError()\n",
    "\n",
    "\n",
    "c5 = pol_fit_qr(X, Y, 5)\n",
    "c8 = pol_fit_qr(X, Y, 8)\n",
    "assert isinstance(c5, np.ndarray), \"Make sure the result is a numpy array\"\n",
    "assert c5.shape == (6,), \"The shape of the result is wrong\"\n",
    "assert c8.shape == (9,), \"The shape of the result is wrong\"\n",
    "\n",
    "Y_pred5 = apply_poly(X, c5)\n",
    "Y_pred8 = apply_poly(X, c8)\n",
    "error5 = np.linalg.norm(Y - Y_pred5)\n",
    "error8 = np.linalg.norm(Y - Y_pred8)\n",
    "\n",
    "plt.title(\"QR-based polynomial fit of $f$\")\n",
    "plt.plot(X, Y_pred8, \"-\", label=f\"fit for $d=8$, error: {error8:.3f}\")\n",
    "plt.plot(X, Y_pred5, \"-\", label=f\"fit for $d=5$, error: {error5:.3f}\")\n",
    "plt.plot(X, Y, \"--\", label=\"true function\")\n",
    "plt.legend()\n",
    "\n",
    "assert np.abs(error5 - 6.88594) < 1e-4, \"The error for d=5 is not correct\"\n",
    "assert np.abs(error8 - 0.74568) < 1e-4, \"The error for d=5 is not correct\""
   ]
  },
  {
   "cell_type": "markdown",
   "id": "ranging-insert",
   "metadata": {
    "id": "interim-canadian"
   },
   "source": [
    "To use CVXPY, we need to define $c$ as a `c=cp.Variable(d+1)` of size $d+1$. Then we need to define the minimization problem for $c$, and instruct to solve it.\n",
    "For the minimization problem, use `cp.Problem`, `cp.minimize` and `cp.norm`. Recall that in Python we can define matrix-matrix or matrix-vector mutliplication of `A` and `v` by `A @ v`. To solve a problem `problem`, we run `problem.solve()`. After solving the problem, we can obtain the optimal value of `c` by calling `c.value`. \n",
    "\n",
    "For a more detailed introduction, read [this tutorial page of CVXPY](https://www.cvxpy.org/tutorial/intro/index.html). "
   ]
  },
  {
   "cell_type": "code",
   "execution_count": null,
   "id": "moderate-deadline",
   "metadata": {
    "colab": {
     "base_uri": "https://localhost:8080/",
     "height": 392
    },
    "deletable": false,
    "executionInfo": {
     "elapsed": 938,
     "status": "ok",
     "timestamp": 1615302350478,
     "user": {
      "displayName": "Rik Voorhaar",
      "photoUrl": "https://lh3.googleusercontent.com/a-/AOh14GiARLX-61EWkT5u3TJ0aLe8HCXUEuzsxfIptxxWrw=s64",
      "userId": "13522764759478134685"
     },
     "user_tz": -60
    },
    "id": "czech-petite",
    "nbgrader": {
     "cell_type": "code",
     "checksum": "7c730fb268d3ea6d36edf0a98c6f95cf",
     "grade": true,
     "grade_id": "cell-d9b70ffacfdc56a8",
     "locked": false,
     "points": 0,
     "schema_version": 3,
     "solution": true,
     "task": false
    },
    "outputId": "3532a4c1-8fd7-4dc1-ecc2-acc3f330ebe9"
   },
   "outputs": [],
   "source": [
    "def pol_fit_cvxpy(X, Y, d):\n",
    "    # Read the instructions, because here it's important\n",
    "    # that the solution is calculated in the right way!\n",
    "    # Unfortunately it's hard to write tests that\n",
    "    # check HOW a solution is computed.\n",
    "\n",
    "    # YOUR CODE HERE\n",
    "    raise NotImplementedError()\n",
    "\n",
    "\n",
    "# Tests\n",
    "c5 = pol_fit_cvxpy(X, Y, 5)\n",
    "c8 = pol_fit_cvxpy(X, Y, 8)\n",
    "assert isinstance(c5, np.ndarray), \"Make sure the result is a numpy array\"\n",
    "assert c5.shape == (6,), \"The shape of the result is wrong\"\n",
    "assert c8.shape == (9,), \"The shape of the result is wrong\"\n",
    "\n",
    "Y_pred5 = apply_poly(X, c5)\n",
    "Y_pred8 = apply_poly(X, c8)\n",
    "error5 = np.linalg.norm(Y - Y_pred5)\n",
    "error8 = np.linalg.norm(Y - Y_pred8)\n",
    "\n",
    "plt.title(\"CVXPY polynomial fit of $f$\")\n",
    "plt.plot(X, Y_pred8, \"-\", label=f\"fit for $d=8$, error: {error8:.3f}\")\n",
    "plt.plot(X, Y_pred5, \"-\", label=f\"fit for $d=5$, error: {error5:.3f}\")\n",
    "plt.plot(X, Y, \"--\", label=\"true function\")\n",
    "plt.legend()\n",
    "\n",
    "assert np.abs(error5 - 6.88594) < 1e-4, \"The error for d=5 is not correct\"\n",
    "assert np.abs(error8 - 0.74568) < 1e-4, \"The error for d=5 is not correct\""
   ]
  },
  {
   "cell_type": "markdown",
   "id": "generous-dominant",
   "metadata": {
    "id": "coupled-keyboard"
   },
   "source": [
    "---\n",
    "\n",
    "Benchmarking and profiling is easy in a Jupyter notebook. Let's compare the speed of the three methods. Using the IPython magic command `%timeit` (yes, they are really called 'magic').\n",
    "\n",
    "We can quickly compare the speed of each method. We see that the method using a least-squares solver is the fastest, and CVXPY is the slowest. This says nothing about the numerical stability of each method however. In addition, CVXPY can solve many more problems (as you will see below!) Running this cell can take a few seconds, since it runs each method hundreds or thousands of times."
   ]
  },
  {
   "cell_type": "code",
   "execution_count": null,
   "id": "productive-mexico",
   "metadata": {
    "colab": {
     "base_uri": "https://localhost:8080/"
    },
    "executionInfo": {
     "elapsed": 21797,
     "status": "ok",
     "timestamp": 1615302372390,
     "user": {
      "displayName": "Rik Voorhaar",
      "photoUrl": "https://lh3.googleusercontent.com/a-/AOh14GiARLX-61EWkT5u3TJ0aLe8HCXUEuzsxfIptxxWrw=s64",
      "userId": "13522764759478134685"
     },
     "user_tz": -60
    },
    "id": "great-gnome",
    "outputId": "c723f0c9-cc82-4b85-fa75-b20d88c65fe9",
    "tags": []
   },
   "outputs": [],
   "source": [
    "print(\"Least-squares:\")\n",
    "%timeit pol_fit_lstsq(X,Y,5)\n",
    "\n",
    "print(\"\\nQR:\")\n",
    "%timeit pol_fit_qr(X,Y,5)\n",
    "\n",
    "print(\"\\nCVXPY:\")\n",
    "%timeit pol_fit_cvxpy(X,Y,5)"
   ]
  },
  {
   "cell_type": "markdown",
   "id": "valid-corruption",
   "metadata": {
    "id": "nearby-biography"
   },
   "source": [
    "### Exercise 1c)\n",
    "\n",
    "We can easily change the norm used in the function `pol_fit_cvxpy`. Recall that the 1-norm is more robust to outliers than the 2-norm when fitting functions to data. Here we can compare the two.\n",
    "\n",
    "___\n",
    "> Modify `pol_fit_cvxpy` to accept an optional argument `p` with default value `p=2` that changes which norm is used. \n",
    "> \n",
    "> Make a polynomial fit to the data below using $p=1$ and $p=2$. Do this for $d=4$. \n",
    ">\n",
    "> Plot the results, together with the data $X,y$.\n",
    "\n",
    "___\n",
    "\n",
    "Tips:  \n",
    "- Look at the CVXPY documentation of [cp.norm](https://www.cvxpy.org/api_reference/cvxpy.atoms.other_atoms.html#cvxpy.atoms.norm.norm)  \n",
    "- Be sure to add labels to all your plots to make it easier to see which line is which. Don't forget to call `plt.legend()`.   "
   ]
  },
  {
   "cell_type": "code",
   "execution_count": null,
   "id": "billion-samoa",
   "metadata": {
    "colab": {
     "base_uri": "https://localhost:8080/",
     "height": 391
    },
    "deletable": false,
    "executionInfo": {
     "elapsed": 21847,
     "status": "ok",
     "timestamp": 1615302372941,
     "user": {
      "displayName": "Rik Voorhaar",
      "photoUrl": "https://lh3.googleusercontent.com/a-/AOh14GiARLX-61EWkT5u3TJ0aLe8HCXUEuzsxfIptxxWrw=s64",
      "userId": "13522764759478134685"
     },
     "user_tz": -60
    },
    "id": "sweet-plumbing",
    "nbgrader": {
     "cell_type": "code",
     "checksum": "c5ebf13d1f77a073d1b737e708ea403c",
     "grade": true,
     "grade_id": "cell-e473dc2bed11df2f",
     "locked": false,
     "points": 0,
     "schema_version": 3,
     "solution": true,
     "task": false
    },
    "outputId": "fae19a0b-1770-46ca-ef2c-1c2105d1cd97"
   },
   "outputs": [],
   "source": [
    "# For reproducibility so that we have the same random numbers.\n",
    "np.random.seed(179)\n",
    "\n",
    "# The function we will try to fit\n",
    "def f(x):\n",
    "    return np.sin(np.exp(1.5 * x))\n",
    "\n",
    "\n",
    "# Create X with N uniform random values on [0,1]\n",
    "N = 30\n",
    "n_outliers = 5\n",
    "X = np.random.uniform(size=N)\n",
    "X = np.sort(X)  # Sort for plotting purposes\n",
    "\n",
    "# Y is f(X) plus small random noise\n",
    "# Additionally, choose `n_outliers` entries and perturb them\n",
    "# with uniform noise\n",
    "Y = f(X) + np.random.normal(scale=0.05, size=N)\n",
    "outliers = np.random.choice(N, size=n_outliers)\n",
    "Y[outliers] += np.random.uniform(low=-3, high=3, size=n_outliers)\n",
    "\n",
    "plt.plot(X, Y, \".\", label=\"Data\", c=\"k\")\n",
    "plt.plot(X, f(X), label=\"True function\")\n",
    "\n",
    "# YOUR CODE HERE\n",
    "raise NotImplementedError()"
   ]
  },
  {
   "cell_type": "markdown",
   "id": "accepted-bumper",
   "metadata": {
    "id": "caroline-robert"
   },
   "source": [
    "## Exercise 2\n",
    "\n",
    "Suppose that we observe some finite discrete signal $y\\in \\mathbb R^n$ that is a convolution of two signals and some noise: $y = k*x_0+\\epsilon$.\n",
    "\n",
    "Given that we know $k$ and $y$, we want to recover $x_0$. We can write the convolution product $k*x = Kx$ with $K$ the _convolution matrix_ associated to $k$. Suppose furthermore that the original signal is supported on $[0,1]$. \n",
    "\n",
    "This leads to the following minimization problem:\n",
    "\n",
    "$$\n",
    "\\min_{x\\in\\mathbb R^N} \\|Kx -y\\|,\\qquad \\text{subject to }\\,0\\leq x_i\\leq 1,\\quad\\forall \\,1\\leq i\\leq N\\tag{2}\n",
    "$$\n",
    "\n",
    "___\n",
    "> 1. Write a function `deconvolution_lstsq(K,Y)` that aims to solve $(2)$ by finding the least-squares solution using [np.linalg.lstsq](https://numpy.org/doc/stable/reference/generated/numpy.linalg.lstsq.html). You actually cannot solve $(2)$ this way since you cannot incorporate the constraints. However, we can just clip the results to $[0,1]$ after solving the unconstrained problem. Note also that $K$ can have a very large condition number, so this doesn't necessarily give a good solution.\n",
    "> 2. We note that $K$ is a [circulant matrix](https://en.wikipedia.org/wiki/Circulant_matrix), and this structure can be exploited to solve $(2)$ more efficiently and with higher numerical stability. Write a function `deconvolution_circulant(K,Y)` that solves $(2)$ by using [scipy.linalg.solve_circulant](https://docs.scipy.org/doc/scipy/reference/generated/scipy.linalg.solve_circulant.html).  As before, this solves the unconstrained version of $(2)$, and we will still need to clip the result.\n",
    "> 3. Write a function `deconvolution_CVXPY(K,Y)` that solves $(2)$ by using CVXPY.\n",
    "\n",
    "___\n",
    "\n",
    "Useful functions:   \n",
    "- [np.clip](https://numpy.org/doc/stable/reference/generated/numpy.clip.html)"
   ]
  },
  {
   "cell_type": "code",
   "execution_count": null,
   "id": "intelligent-parameter",
   "metadata": {
    "colab": {
     "base_uri": "https://localhost:8080/",
     "height": 782
    },
    "executionInfo": {
     "elapsed": 22131,
     "status": "ok",
     "timestamp": 1615302373548,
     "user": {
      "displayName": "Rik Voorhaar",
      "photoUrl": "https://lh3.googleusercontent.com/a-/AOh14GiARLX-61EWkT5u3TJ0aLe8HCXUEuzsxfIptxxWrw=s64",
      "userId": "13522764759478134685"
     },
     "user_tz": -60
    },
    "id": "married-testament",
    "outputId": "b6308b89-f0a6-4796-92f8-fdd1ddd9d0ff"
   },
   "outputs": [],
   "source": [
    "np.random.seed(179)\n",
    "N = 100\n",
    "sigma = 3\n",
    "len_k = 21\n",
    "\n",
    "# This function implements a Gaussian point spread function to use for convolutioin\n",
    "# This is a one-dimensional analogue of lens blur (a camera out of focus)\n",
    "def gaussian_psf(len_k, sigma=1):\n",
    "    k = np.arange(len_k) - (len_k - 1) // 2\n",
    "    k = np.exp(-(k ** 2) / (2 * sigma ** 2))\n",
    "    k = np.abs(k)\n",
    "    k = k / np.sum(k)\n",
    "    return k\n",
    "\n",
    "\n",
    "# Convolution with k\n",
    "k = gaussian_psf(len_k, sigma)\n",
    "K = scipy.linalg.circulant(\n",
    "    np.pad(k, (0, N - len(k)))\n",
    ")  # Form circulant convolution matrix, pad to make the right shape\n",
    "print(f\"Condition number of K: {np.linalg.cond(K):.4e}\\n\")\n",
    "\n",
    "# Plot k\n",
    "plt.title(f\"Gaussian point spread function of length {len_k} and $\\sigma$={sigma}\")\n",
    "plt.plot(k)\n",
    "plt.figure()\n",
    "\n",
    "\n",
    "# Fast changing sinusoid\n",
    "X0 = np.linspace(0, 2 * np.pi, N)\n",
    "X0 = np.sin(0.16 + X0 * 4) / 2 + 0.5\n",
    "\n",
    "# Y is convolution of k and X0 plus noise\n",
    "Y = K @ X0 + np.random.normal(scale=1e-5, size=N)\n",
    "\n",
    "# plot the original and convoluted signal, note the phase shift\n",
    "plt.title(\"Original signal versus modified signal\")\n",
    "plt.plot(X0, label=\"Original signal\")\n",
    "plt.plot(Y, label=\"Convolved signal\")\n",
    "plt.legend();"
   ]
  },
  {
   "cell_type": "code",
   "execution_count": null,
   "id": "explicit-converter",
   "metadata": {
    "colab": {
     "base_uri": "https://localhost:8080/",
     "height": 391
    },
    "deletable": false,
    "executionInfo": {
     "elapsed": 22575,
     "status": "ok",
     "timestamp": 1615302374155,
     "user": {
      "displayName": "Rik Voorhaar",
      "photoUrl": "https://lh3.googleusercontent.com/a-/AOh14GiARLX-61EWkT5u3TJ0aLe8HCXUEuzsxfIptxxWrw=s64",
      "userId": "13522764759478134685"
     },
     "user_tz": -60
    },
    "id": "surface-shade",
    "nbgrader": {
     "cell_type": "code",
     "checksum": "908efa67031ca38efad4b481592fc7ea",
     "grade": true,
     "grade_id": "cell-bdea5557018298a8",
     "locked": false,
     "points": 0,
     "schema_version": 3,
     "solution": true,
     "task": false
    },
    "outputId": "924010a4-498c-4f94-bc93-fca4b9d535b4"
   },
   "outputs": [],
   "source": [
    "def deconvolution_lstsq(K, Y):\n",
    "    # YOUR CODE HERE\n",
    "    raise NotImplementedError()\n",
    "\n",
    "\n",
    "X_linsolve = deconvolution_lstsq(K, Y)\n",
    "error = np.mean((X0 - X_linsolve) ** 2)\n",
    "print(\"mean squared error:\", error)\n",
    "\n",
    "# Plot original and reconstructed signal\n",
    "plt.plot(X_linsolve, label=\"reconstructed signal\")\n",
    "plt.plot(X0, label=\"original signal\")\n",
    "plt.legend()\n",
    "\n",
    "# Tests\n",
    "assert X_linsolve.shape == (N,), \"The shape of the result is wrong\"\n",
    "assert (\n",
    "    np.max(X_linsolve) <= 1.0\n",
    "), \"Don't forget to clip the results to satisfy the constraints\"\n",
    "assert (\n",
    "    np.min(X_linsolve) >= 0.0\n",
    "), \"Don't forget to clip the results to satisfy the constraints\"\n",
    "assert np.abs(error - 0.023845396) < 1e-4, \"Check your method\""
   ]
  },
  {
   "cell_type": "code",
   "execution_count": null,
   "id": "automatic-actress",
   "metadata": {
    "colab": {
     "base_uri": "https://localhost:8080/",
     "height": 391
    },
    "deletable": false,
    "executionInfo": {
     "elapsed": 22395,
     "status": "ok",
     "timestamp": 1615302374155,
     "user": {
      "displayName": "Rik Voorhaar",
      "photoUrl": "https://lh3.googleusercontent.com/a-/AOh14GiARLX-61EWkT5u3TJ0aLe8HCXUEuzsxfIptxxWrw=s64",
      "userId": "13522764759478134685"
     },
     "user_tz": -60
    },
    "id": "checked-warren",
    "nbgrader": {
     "cell_type": "code",
     "checksum": "e81056f56534abb2bc44a1db783bd641",
     "grade": true,
     "grade_id": "cell-2822c8effa7eab9e",
     "locked": false,
     "points": 0,
     "schema_version": 3,
     "solution": true,
     "task": false
    },
    "outputId": "d396419e-717a-4493-876d-a1c2aac5a77f"
   },
   "outputs": [],
   "source": [
    "def deconvolution_circulant(K, Y):\n",
    "    # YOUR CODE HERE\n",
    "    raise NotImplementedError()\n",
    "\n",
    "\n",
    "X_circ_solve = deconvolution_circulant(K, Y)\n",
    "error = np.mean((X0 - X_circ_solve) ** 2)\n",
    "print(\"mean squared error:\", error)\n",
    "\n",
    "# Plot original and reconstructed signal\n",
    "plt.plot(X_circ_solve, label=\"reconstructed signal\")\n",
    "plt.plot(X0, label=\"original signal\")\n",
    "plt.legend()\n",
    "\n",
    "# Tests\n",
    "assert X_circ_solve.shape == (\n",
    "    N,\n",
    "), \"The shape of the result is wrong. Be sure to pass only the first row / column of K to `solve_circulant`\"\n",
    "assert (\n",
    "    np.max(X_circ_solve) <= 1.0\n",
    "), \"Don't forget to clip the results to satisfy the constraints\"\n",
    "assert (\n",
    "    np.min(X_circ_solve) >= 0.0\n",
    "), \"Don't forget to clip the results to satisfy the constraints\"\n",
    "assert np.abs(error - 0.02384539) < 1e-4, \"Check your method\""
   ]
  },
  {
   "cell_type": "code",
   "execution_count": null,
   "id": "informational-agent",
   "metadata": {
    "colab": {
     "base_uri": "https://localhost:8080/",
     "height": 391
    },
    "deletable": false,
    "executionInfo": {
     "elapsed": 22840,
     "status": "ok",
     "timestamp": 1615302374810,
     "user": {
      "displayName": "Rik Voorhaar",
      "photoUrl": "https://lh3.googleusercontent.com/a-/AOh14GiARLX-61EWkT5u3TJ0aLe8HCXUEuzsxfIptxxWrw=s64",
      "userId": "13522764759478134685"
     },
     "user_tz": -60
    },
    "id": "worst-channel",
    "nbgrader": {
     "cell_type": "code",
     "checksum": "c0617839337f3a2723e9c0d451c1ee03",
     "grade": true,
     "grade_id": "cell-d26089af59003dd7",
     "locked": false,
     "points": 0,
     "schema_version": 3,
     "solution": true,
     "task": false
    },
    "outputId": "0a4178a9-a2a6-4bf5-ecbe-d016d764492f"
   },
   "outputs": [],
   "source": [
    "def deconvolution_cvxpy(K, Y):\n",
    "    # YOUR CODE HERE\n",
    "    raise NotImplementedError()\n",
    "\n",
    "\n",
    "X_cvxpy = deconvolution_cvxpy(K, Y)\n",
    "error = np.mean((X0 - X_cvxpy) ** 2)\n",
    "print(\"mean squared error:\", error)\n",
    "\n",
    "# Plot original and reconstructed signal\n",
    "plt.plot(X_cvxpy, label=\"reconstructed signal\")\n",
    "plt.plot(X0, label=\"original signal\")\n",
    "plt.legend()\n",
    "\n",
    "# Tests\n",
    "assert X_cvxpy.shape == (\n",
    "    N,\n",
    "), \"\"\"The shape of the result is wrong. Be sure to pass only the first row /\n",
    "column of K to `solve_circulant`\"\"\"\n",
    "assert (\n",
    "    np.max(X_cvxpy) <= 1.0\n",
    "), \"Don't forget to clip the results to satisfy the constraints\"\n",
    "assert (\n",
    "    np.min(X_cvxpy) >= 0.0\n",
    "), \"Don't forget to clip the results to satisfy the constraints\"\n",
    "assert np.abs(error - 0.0010873684) < 1e-4, \"Check your method\""
   ]
  },
  {
   "cell_type": "markdown",
   "id": "enclosed-resource",
   "metadata": {
    "id": "drawn-merit"
   },
   "source": [
    "## Exercise 3\n",
    "Accordingly to the Italian Department of Public Health, a complete diet should include daily at least the quantity of essential nutrients reported in the Dataframe below as DRI (Daily Reference Intake). Assume that you can compose your diet buying the following foods listed in the Dataframe. "
   ]
  },
  {
   "cell_type": "code",
   "execution_count": null,
   "id": "racial-somalia",
   "metadata": {
    "colab": {
     "base_uri": "https://localhost:8080/",
     "height": 349
    },
    "executionInfo": {
     "elapsed": 22445,
     "status": "ok",
     "timestamp": 1615302374811,
     "user": {
      "displayName": "Rik Voorhaar",
      "photoUrl": "https://lh3.googleusercontent.com/a-/AOh14GiARLX-61EWkT5u3TJ0aLe8HCXUEuzsxfIptxxWrw=s64",
      "userId": "13522764759478134685"
     },
     "user_tz": -60
    },
    "id": "freelance-communication",
    "outputId": "ee5dd525-b923-4f99-a981-6d066863946a"
   },
   "outputs": [],
   "source": [
    "nutrients = pd.DataFrame(\n",
    "    index=[\n",
    "        \"Vitamin A\",\n",
    "        \"Vitamin B1\",\n",
    "        \"Vitamin C\",\n",
    "        \"Calcium\",\n",
    "        \"Iron\",\n",
    "        \"Phosphorus\",\n",
    "        \"Potassium\",\n",
    "        \"Total fat\",\n",
    "        \"Carbohydrates\",\n",
    "        \"Proteins\",\n",
    "    ]\n",
    ")\n",
    "nutrients[\"DRI\"] = [800, 1.1, 80, 800, 14, 700, 2000, 70, 260, 50]\n",
    "nutrients[\"Chicken Breast\"] = [0, 0.1, 0, 4, 0.40, 210, 370, 0.8, 0, 23.3]\n",
    "nutrients[\"Milk\"] = [37, 0.04, 1, 119, 0.1, 93, 150, 3.6, 4.9, 3.3]\n",
    "nutrients[\"Pasta\"] = [0, 0, 0, 22, 1.4, 189, 192, 1.4, 79.1, 10.9]\n",
    "nutrients[\"Beans\"] = [3, 0.4, 3, 135, 8, 450, 1445, 2, 47.5, 23.6]\n",
    "nutrients[\"Oranges\"] = [71, 0.06, 50, 49, 0.2, 22, 200, 0.2, 7.8, 0.7]\n",
    "nutrients"
   ]
  },
  {
   "cell_type": "markdown",
   "id": "computational-notebook",
   "metadata": {
    "id": "backed-scholarship"
   },
   "source": [
    "The unitary price (CHF$/100$g) of the goods is reported in the following table"
   ]
  },
  {
   "cell_type": "code",
   "execution_count": null,
   "id": "italian-volume",
   "metadata": {
    "colab": {
     "base_uri": "https://localhost:8080/",
     "height": 199
    },
    "executionInfo": {
     "elapsed": 776,
     "status": "error",
     "timestamp": 1615308087517,
     "user": {
      "displayName": "Bart Vandereycken",
      "photoUrl": "",
      "userId": "17548432247579945169"
     },
     "user_tz": -60
    },
    "id": "polyphonic-constraint",
    "outputId": "b66e4985-cdcf-4419-8487-3d569d77f6ee"
   },
   "outputs": [],
   "source": [
    "cost = pd.DataFrame(\n",
    "    data={\"cost\": [2.85, 0.18, 0.2, 0.5, 0.15]}, index=nutrients.columns[1:]\n",
    ")\n",
    "cost"
   ]
  },
  {
   "cell_type": "markdown",
   "id": "organized-greensboro",
   "metadata": {
    "id": "mounted-holly"
   },
   "source": [
    "___\n",
    "\n",
    "> Using CVX and assuming that you want to consume _at least_ $10$g of each of the reported goods:\n",
    "> \n",
    "> 1. Find the optimal combination of ingredients such that the total cost is minimized and the diet\n",
    "satisfies the Dietary Reference Intake;\n",
    "> 2. In a mass gain diet, the ratio between the amount of proteins and  carbohydrates\n",
    "should be bigger than $3/5$. Minimize the cost of a mass gain diet in order to fulfill the DRI\n",
    "constraints.\n",
    "\n",
    "___\n",
    "\n",
    "Below we define three variable:  \n",
    "- `A` is a $10\\times 5$ array with nutrition values  \n",
    "- `b` is a length $10$ vector with DRI values  \n",
    "- `c` is a length $5$ vector of cost values  \n",
    "\n",
    "For both subproblems, use `x` as the `cp.Variable` we want to optimize, and `problem` for the `cp.Problem` we will solve. Do not forget to add the right constraints."
   ]
  },
  {
   "cell_type": "code",
   "execution_count": null,
   "id": "political-accommodation",
   "metadata": {
    "colab": {
     "base_uri": "https://localhost:8080/"
    },
    "deletable": false,
    "executionInfo": {
     "elapsed": 21320,
     "status": "ok",
     "timestamp": 1615302374813,
     "user": {
      "displayName": "Rik Voorhaar",
      "photoUrl": "https://lh3.googleusercontent.com/a-/AOh14GiARLX-61EWkT5u3TJ0aLe8HCXUEuzsxfIptxxWrw=s64",
      "userId": "13522764759478134685"
     },
     "user_tz": -60
    },
    "id": "straight-capture",
    "nbgrader": {
     "cell_type": "code",
     "checksum": "397f7e52bab54ab48f134656d15d9f75",
     "grade": true,
     "grade_id": "cell-e3190cfcf0eee66d",
     "locked": false,
     "points": 0,
     "schema_version": 3,
     "solution": true,
     "task": false
    },
    "outputId": "34e2c09c-d6ae-4819-b984-238b57682003"
   },
   "outputs": [],
   "source": [
    "A = nutrients.drop(\"DRI\", axis=1).to_numpy()\n",
    "b = nutrients[\"DRI\"].to_numpy()\n",
    "c = cost.to_numpy()\n",
    "\n",
    "# First problem\n",
    "# YOUR CODE HERE\n",
    "raise NotImplementedError()\n",
    "\n",
    "# Tests\n",
    "assert x.value is not None, \"No solution was found\"\n",
    "assert len(x.value) == 5, \"The variable has the wrong shape\"\n",
    "print(f\"total price: CHF {np.dot(c.reshape(-1),x.value):.2f}\")\n",
    "\n",
    "assert np.min(x.value) >= 0.1, \"Don't forget the minimum amount constraint\"\n",
    "assert np.abs(np.sum(x.value) - 22.49610) < 1e-4, \"The value is incorrect\""
   ]
  },
  {
   "cell_type": "markdown",
   "id": "dressed-gentleman",
   "metadata": {
    "id": "compressed-forward"
   },
   "source": [
    "For the second part, we define two useful indices  \n",
    "- `i1` the row number of A describing proteins  \n",
    "- `i2` the row number of A describing carbohydrates  "
   ]
  },
  {
   "cell_type": "code",
   "execution_count": null,
   "id": "missing-function",
   "metadata": {
    "colab": {
     "base_uri": "https://localhost:8080/"
    },
    "deletable": false,
    "executionInfo": {
     "elapsed": 20720,
     "status": "ok",
     "timestamp": 1615302374814,
     "user": {
      "displayName": "Rik Voorhaar",
      "photoUrl": "https://lh3.googleusercontent.com/a-/AOh14GiARLX-61EWkT5u3TJ0aLe8HCXUEuzsxfIptxxWrw=s64",
      "userId": "13522764759478134685"
     },
     "user_tz": -60
    },
    "id": "chemical-spelling",
    "nbgrader": {
     "cell_type": "code",
     "checksum": "73ed68c32967cbedf44842a64e671342",
     "grade": true,
     "grade_id": "cell-609aeb64428709cc",
     "locked": false,
     "points": 0,
     "schema_version": 3,
     "solution": true,
     "task": false
    },
    "outputId": "8a1412f3-5964-44a4-df2f-7feff219c120"
   },
   "outputs": [],
   "source": [
    "i1 = nutrients.index.get_loc(\"Proteins\")\n",
    "i2 = nutrients.index.get_loc(\"Carbohydrates\")\n",
    "\n",
    "# YOUR CODE HERE\n",
    "raise NotImplementedError()\n",
    "\n",
    "assert x.value is not None, \"No solution was found\"\n",
    "assert len(x.value) == 5, \"The variable has the wrong shape\"\n",
    "print(f\"total price: CHF {np.dot(c.reshape(-1),x.value):.2f}\")\n",
    "\n",
    "assert np.min(x.value) >= 0.1, \"Don't forget the minimum amount constraint!\"\n",
    "assert np.abs(np.sum(x.value) - 24.3558423) < 1e-4, \"The value is incorrect\""
   ]
  },
  {
   "cell_type": "markdown",
   "id": "strong-daisy",
   "metadata": {
    "id": "affected-highland"
   },
   "source": [
    "## Exercise 4\n",
    "\n",
    "Consider the polyhedron ${\\cal P}\\subset \\mathbb{R}^n$ defined as\n",
    "\n",
    "$$\n",
    "{\\cal P}=\\left\\{x\\in \\mathbb{R}^n\\,|\\,A^Tx\\leq b \\right\\}.\n",
    "$$\n",
    "\n",
    "Where $A$ is an $n\\times m$ matrix, and $b$ a length $m$ vector, and the inequality is taken element-wise. Recall that each inequality $A_i^Tx\\leq b_i$ defines a hyperplane in $\\mathbb R^n$ and $\\mathcal P$ is the intersection of these hyperplanes."
   ]
  },
  {
   "cell_type": "markdown",
   "id": "presidential-advocate",
   "metadata": {
    "id": "august-realtor"
   },
   "source": [
    " by identifying the vector $a_i$ with the $i$th column of $A$ and the number $b_i$ with the $i$th element of the vector $b$.\n",
    " We define the Chebyshev center as the center of the ball included in ${\\cal P}$ of maximal radius.\n",
    " \n",
    " ___\n",
    " > Write a function `chebyshev_center(A,b)` that finds the Chebyshev center for a polyhedron given by all points `A.T @ x <= b`.\n",
    " >\n",
    " > It should return a vector $x$ giving the Chebyshev center, and the radius $r$ of the largest inscribed ball.\n",
    " >\n",
    " > Hint: Consider first the case of a fixed vector $x$ satisfying the single constraint $A_i^Tx\\leq b_i$. We then consider all $r$ such that for all $\\|u\\|\\leq r$, the point $x+u$ still satisfies the constraint. There is a particular direction $u$ in which $A_i^T(x+u)$ increases fastest. Find this direction, and use it to derive a linear constraint that involves $x$, $r$, $A_i$ and $b_i$. Then do the same for all $i$, to obtain a complex maximization problem in $r$ with $x$ as additional variable. Do not forget that $r\\geq 0$ as well.\n",
    " \n",
    " ___\n",
    " \n",
    " First we define some data `A1,b1`, and `A2,b2` to try your data on. We also define a function to plot the Chebyshev center in 2d. You should execute the cell below, and read through it, but the problem starts in the cell after it."
   ]
  },
  {
   "cell_type": "code",
   "execution_count": null,
   "id": "polished-arabic",
   "metadata": {
    "id": "entitled-flour"
   },
   "outputs": [],
   "source": [
    "import scipy.spatial\n",
    "from matplotlib.patches import Circle\n",
    "\n",
    "A1 = np.array(\n",
    "    [\n",
    "        [-1, 0.0],\n",
    "        [0.0, -1.0],\n",
    "        [2.0, 1.0],\n",
    "        [-0.5, 1.0],\n",
    "    ]\n",
    ").T\n",
    "b1 = np.array([0, 0, 4, 2], dtype=float)\n",
    "\n",
    "A2 = np.array(\n",
    "    [\n",
    "        [1, 0, -1, 0, 0, 0],\n",
    "        [0, 1, 0, -1, 0, 0],\n",
    "        [0, 0, 0, 0, -1, 1],\n",
    "    ]\n",
    ")\n",
    "b2 = np.array([0, 0, 1, 1, 3, 3])\n",
    "\n",
    "\n",
    "def plot_chebyshev_center2d(A, b, center, r):\n",
    "    \"\"\"Plot the Chebyshev center of polyhedron A.T @ x <= b\"\"\"\n",
    "    # make equal aspect ration\n",
    "    ax = plt.gca()\n",
    "    ax.set_aspect(\"equal\")\n",
    "\n",
    "    # find the intersection points of the halfspaces\n",
    "    halfspaces = np.concatenate([A, [-b]]).T\n",
    "    hs = scipy.spatial.HalfspaceIntersection(halfspaces, center)\n",
    "\n",
    "    # find the convex hull of the intersection points\n",
    "    verts = hs.intersections\n",
    "    hull = scipy.spatial.ConvexHull(verts)\n",
    "    simplices = hull.simplices\n",
    "\n",
    "    # Plot the inscribed circle and the simplices of the convex hull\n",
    "    circle = Circle(center, radius=r)\n",
    "    plt.plot([center[0]], [center[1]], \"o\", c=\"r\")\n",
    "    ax.add_patch(circle)\n",
    "    for s1, s2 in simplices:\n",
    "        x1, y1 = verts[s1]\n",
    "        x2, y2 = verts[s2]\n",
    "        plt.plot([x1, x2], [y1, y2], \"o-\", c=\"k\")"
   ]
  },
  {
   "cell_type": "code",
   "execution_count": null,
   "id": "treated-iceland",
   "metadata": {
    "colab": {
     "base_uri": "https://localhost:8080/",
     "height": 376
    },
    "deletable": false,
    "executionInfo": {
     "elapsed": 19454,
     "status": "ok",
     "timestamp": 1615302374816,
     "user": {
      "displayName": "Rik Voorhaar",
      "photoUrl": "https://lh3.googleusercontent.com/a-/AOh14GiARLX-61EWkT5u3TJ0aLe8HCXUEuzsxfIptxxWrw=s64",
      "userId": "13522764759478134685"
     },
     "user_tz": -60
    },
    "id": "typical-organizer",
    "nbgrader": {
     "cell_type": "code",
     "checksum": "354498470ad63c93d19f8c2f47de73da",
     "grade": true,
     "grade_id": "cell-a34a8b5739ba2610",
     "locked": false,
     "points": 0,
     "schema_version": 3,
     "solution": true,
     "task": false
    },
    "outputId": "49747c54-d8e7-4368-d301-5e0240fe67b3"
   },
   "outputs": [],
   "source": [
    "def chebyshev_center(A, b):\n",
    "    # YOUR CODE HERE\n",
    "    raise NotImplementedError()\n",
    "\n",
    "    return x.value, r.value\n",
    "\n",
    "\n",
    "center1, r1 = chebyshev_center(A1, b1)\n",
    "plot_chebyshev_center2d(A1, b1, center1, r1)\n",
    "\n",
    "assert center1.shape == (2,), \"The center has the wrong shape\"\n",
    "assert np.abs(r1 - 0.763932) < 1e-4, \"The radius for 2D case is not correct\"\n",
    "assert (\n",
    "    np.abs(np.mean(center1) - 0.763932) < 1e-4\n",
    "), \"The center for 2D case is not correct\"\n",
    "\n",
    "center2, r2 = chebyshev_center(A2, b2)\n",
    "assert (\n",
    "    np.abs(np.mean(center2) + 0.333333) < 1e-4\n",
    "), \"The center for 3D case is not correct\"\n",
    "assert np.abs(r2 - 0.5) < 1e-4, \"The radius for 3D case is not correct\"\n",
    "assert center2.shape == (3,), \"The center has the wrong shape\""
   ]
  }
 ],
 "metadata": {
  "colab": {
   "collapsed_sections": [],
   "name": "hm03.ipynb",
   "provenance": []
  },
  "kernelspec": {
   "display_name": "Python 3",
   "language": "python",
   "name": "python3"
  },
  "language_info": {
   "codemirror_mode": {
    "name": "ipython",
    "version": 3
   },
   "file_extension": ".py",
   "mimetype": "text/x-python",
   "name": "python",
   "nbconvert_exporter": "python",
   "pygments_lexer": "ipython3",
   "version": "3.8.8"
  }
 },
 "nbformat": 4,
 "nbformat_minor": 5
}
