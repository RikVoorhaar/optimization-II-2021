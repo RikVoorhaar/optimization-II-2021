{
 "cells": [
  {
   "cell_type": "markdown",
   "id": "rotary-broadway",
   "metadata": {},
   "source": [
    "[![Open in Colab](https://colab.research.google.com/assets/colab-badge.svg)](https://colab.research.google.com/github/RikVoorhaar/optimization-II-2021/blob/master/notebooks/week6.ipynb)"
   ]
  },
  {
   "cell_type": "markdown",
   "id": "physical-detector",
   "metadata": {},
   "source": [
    "# Week 6"
   ]
  },
  {
   "cell_type": "markdown",
   "id": "bibliographic-appraisal",
   "metadata": {},
   "source": [
    "## Exercise 1\n",
    "<div class=\"alert alert-info\">\n",
    "Exercise\n",
    "\n",
    "Let $A\\in \\mathbb S^n$, $B\\in\\mathbb S^m$ be symmetric matrices and let $X\\in \\mathbb R^{n\\times m}$.  We consider the symmetric block matrix\n",
    "$$\n",
    "M = \\begin{pmatrix}A & X \\\\ X^\\top &B\\end{pmatrix}\n",
    "$$\n",
    "\n",
    "</div>"
   ]
  },
  {
   "cell_type": "markdown",
   "id": "municipal-antigua",
   "metadata": {},
   "source": [
    "### Exercise 1a)\n",
    "<div class=\"alert alert-info\">\n",
    "Exercise\n",
    "\n",
    "Show that if $M\\succ 0$ then $A\\succ 0$ and $B\\succ 0$. Similarly, show that if $M\\succeq 0$ then $A\\succeq 0$ and $B\\succeq 0$\n",
    "    \n",
    "</div>"
   ]
  },
  {
   "cell_type": "markdown",
   "id": "broken-petersburg",
   "metadata": {},
   "source": [
    "### Exercise 1b)\n",
    "<div class=\"alert alert-info\">\n",
    "Exercise\n",
    "\n",
    "Assuming $B\\succ 0$, define the $\\textit{Schur complement}$ $S$ of $A$ in $M$ by\n",
    "$$\n",
    "S := A-X B^{-1} X^\\top\n",
    "$$\n",
    "\n",
    "--------\n",
    "    \n",
    "Find a non-singular lower triangular matrix $C$ of form \n",
    "$$\n",
    "C = \\begin{pmatrix}I_n & 0 \\\\ E  & I_m\\end{pmatrix}\n",
    "$$\n",
    "    \n",
    "such that\n",
    "$$\n",
    "C^\\top M C = \\begin{pmatrix}S & 0 \\\\ 0 &B\\end{pmatrix}\n",
    "$$\n",
    "    \n",
    "</div>"
   ]
  },
  {
   "cell_type": "markdown",
   "id": "processed-university",
   "metadata": {},
   "source": [
    "### Exercise 1c)\n",
    "<div class=\"alert alert-info\">\n",
    "Exercise\n",
    "\n",
    "Let $A\\in\\mathbb S^n$ be a symmetric matrix, and let $X\\in R^{n\\times n}$ be a non-singular matrix. Show that\n",
    "$$\n",
    "A\\succ 0 \\quad\\Leftrightarrow \\quad X^\\top A X \\succ 0\n",
    "$$\n",
    "    \n",
    "Similarly also show that\n",
    "$$\n",
    "A\\succeq 0 \\quad\\Leftrightarrow \\quad X^\\top A X \\succeq 0\n",
    "$$\n",
    "    \n",
    "</div>"
   ]
  },
  {
   "cell_type": "markdown",
   "id": "brown-exemption",
   "metadata": {},
   "source": [
    "### Exercise 1d)\n",
    "<div class=\"alert alert-info\">\n",
    "Exercise\n",
    "\n",
    "Assume $B\\succ 0$.\n",
    "\n",
    "Prove that $M\\succ 0$ if and only if $S\\succ 0$. \n",
    "    \n",
    "Similarly, prove that $M\\succeq 0$ if and only if $S\\succeq 0$.\n",
    "\n",
    "</div>"
   ]
  },
  {
   "cell_type": "markdown",
   "id": "extraordinary-mentor",
   "metadata": {},
   "source": [
    "### Exercise 1e)\n",
    "<div class=\"alert alert-info\">\n",
    "Exercise\n",
    "\n",
    "Suppose $M\\succ 0$. Using the results of a)-d), prove by induction that $M$ admits a decomposition\n",
    "$$\n",
    "M = L^\\top D L\n",
    "$$\n",
    "    \n",
    "where $L$ is non-singular and lower triangular, and $D$ is diagonal.\n",
    "\n",
    "</div>"
   ]
  },
  {
   "cell_type": "markdown",
   "id": "convinced-mortgage",
   "metadata": {},
   "source": [
    "## Exercise 2\n",
    "<div class=\"alert alert-info\">\n",
    "Exercise\n",
    "\n",
    "Recall that a semidefinite programming (SDP) problem is of form\n",
    "$$\n",
    "    \\min\\left\\{\\langle C,\\,X\\rangle\\mid X\\in \\mathbb S_+^n,\\quad \\langle A_i,\\,X\\rangle = b_i,\\quad i=1,\\dots, m\\right\\},\n",
    "$$\n",
    "    \n",
    "where $n,m\\in \\mathbb N$, $C,A_1,\\dots, A_m\\in \\mathbb S^n$ are symmetric matrices, $X\\in \\mathbb S_+^n$ is symmetric positive semidefinite, and $b_i\\in \\mathbb R$.\n",
    "    \n",
    "A linear programming problem (LP) is a problem of form\n",
    "$$\n",
    "    \\min\\left\\{\\langle c,\\,x\\rangle\\mid x\\geq 0,\\quad \\langle a_i,\\,x\\rangle = b_i,\\quad i=1,\\dots,m\\right\\}\n",
    "$$\n",
    "    \n",
    "with $c,x,a_1,\\dots,a_m\\in \\mathbb R^n$ and $b_1,\\dots,b_m\\in \\mathbb R$.\n",
    "\n",
    "We will show that an LP is equivalent to an SDP with $C=\\operatorname{diag} c$ and $A_i=\\operatorname{diag} a_i$. We do this by showing that a solution to the LP problem also solves the associated SDP (and vice versa). \n",
    "\n",
    "</div>"
   ]
  },
  {
   "cell_type": "markdown",
   "id": "biblical-humor",
   "metadata": {},
   "source": [
    "### Exercise 2a)\n",
    "<div class=\"alert alert-info\">\n",
    "Exercise\n",
    "    \n",
    "\n",
    "i) Show that if $x\\in \\mathbb R^n$ is feasible for the LP, then $X = \\operatorname{diag} x \\in \\mathbb R^{n\\times n}$ is feasible for the SDP.  \n",
    "    \n",
    "ii) Show that if $X\\in \\mathbb R^{n\\times n}$ is feasible for the SDP, then $x = \\operatorname{diag} X \\in \\mathbb R^{n}$ is feasible for the LP.\n",
    "</div>"
   ]
  },
  {
   "cell_type": "markdown",
   "id": "practical-generation",
   "metadata": {},
   "source": [
    "### Exercise 2b)\n",
    "<div class=\"alert alert-info\">\n",
    "Exercise\n",
    "\n",
    "i) Show that if $x\\in \\mathbb R^n$ solves the LP, then $X=\\operatorname{diag} x$ solves the SDP.  \n",
    "\n",
    "ii) Show that if $X\\in \\mathbb R^{n\\times n}$ solves the SDP, then $x=\\operatorname{diag} X$ solves the LP.\n",
    "\n",
    "\n",
    "</div>"
   ]
  },
  {
   "cell_type": "markdown",
   "id": "antique-compensation",
   "metadata": {},
   "source": [
    "### Exercise 3\n",
    "<div class=\"alert alert-info\">\n",
    "Exercise\n",
    "\n",
    "Recall that a second-order cone program (SOCP) uses a constraint on the variable $x\\in \\mathbb R^n$ of form\n",
    "$$\n",
    "    \\| Dx+b\\|_2 \\leq c^\\top x +d\n",
    "$$\n",
    "\n",
    "with $D\\in \\mathbb R^{l\\times n}$, $b \\in \\mathbb R^l$, $c\\in \\mathbb R^n$ and $d\\in \\mathbb R$. \n",
    "    \n",
    "We will show that an SOCP constraint is a special case of an SDP constraint. \n",
    "\n",
    "\n",
    "</div>"
   ]
  },
  {
   "cell_type": "markdown",
   "id": "precise-cholesterol",
   "metadata": {},
   "source": [
    "### Exercise 3a)\n",
    "<div class=\"alert alert-info\">\n",
    "Exercise\n",
    "\n",
    "Show that this constraint is equivalent to the constraint $X(x)\\succeq 0$ with \n",
    "$$\n",
    "X(x) = \\begin{pmatrix}c^\\top x+ d & (Dx+b)^\\top \\\\ Dx+b & (c^\\top x +d)I_l \\end{pmatrix}\n",
    "$$\n",
    "\n",
    "Hint: compute the Schur complement of this block matrix, and use the result of 1d). Consider the case where $c^\\top x +d =0$ and $c^\\top x+ d >0$ seperately.\n",
    "    \n",
    "</div>"
   ]
  },
  {
   "cell_type": "markdown",
   "id": "straight-commitment",
   "metadata": {},
   "source": [
    "### Exercise 3b)\n",
    "<div class=\"alert alert-info\">\n",
    "Exercise\n",
    "\n",
    "We will see later in the course that an SDP constraint is equivalent to a Linear matrix inequality (LMI) constraint. An LMI constraint is a constraint on $x\\in \\mathbb R^n$ of form\n",
    "$$\n",
    "    A_0 + \\sum_i x_i A_i \\succeq 0 \n",
    "$$\n",
    "\n",
    "where $A_i\\in \\mathbb S^n$ are all symmetric matrices.\n",
    "    \n",
    "Show that the constraint $X(x)\\succeq 0$ is an LMI.\n",
    "    \n",
    "</div>"
   ]
  },
  {
   "cell_type": "markdown",
   "id": "rural-statement",
   "metadata": {},
   "source": [
    "## Exercise 4\n",
    "<div class=\"alert alert-info\">\n",
    "Exercise\n",
    "\n",
    "Prove the following problems are convex optimization problems:\n",
    "\n",
    "</div>"
   ]
  },
  {
   "cell_type": "markdown",
   "id": "inner-discharge",
   "metadata": {},
   "source": [
    "### Exercise 4a)\n",
    "<div class=\"alert alert-info\">\n",
    "Exercise\n",
    "\n",
    "Let $p,q$ be posynomials. Prove the following problem is convex.\n",
    "$$\\min_{x> 0}\\max\\{p(x),q(x)\\}$$\n",
    "\n",
    "</div>"
   ]
  },
  {
   "cell_type": "markdown",
   "id": "suitable-sydney",
   "metadata": {},
   "source": [
    "### Exercise 4b)\n",
    "<div class=\"alert alert-info\">\n",
    "Exercise\n",
    "\n",
    "Let $p,q$ be posynomials, and let $r(x) = x^\\alpha$ for some $\\alpha\\in \\mathbb R$. Prove the following problem is convex\n",
    "$$\n",
    "\\begin{array}{ll}\n",
    "\\text{Minimize} & \\dfrac{p(x)}{r(x)-q(x)} \\\\\n",
    "\\text{Subject to} & r(x) > q(x)\n",
    "\\end{array}\n",
    "$$\n",
    "\n",
    "</div>"
   ]
  },
  {
   "cell_type": "markdown",
   "id": "parliamentary-massage",
   "metadata": {},
   "source": [
    "### Exercise 4c)\n",
    "<div class=\"alert alert-info\">\n",
    "Exercise\n",
    "\n",
    "Let $p,q$ be posynomials. Prove the following problem is convex\n",
    "$$\n",
    "\\min_{x> 0} \\exp(p(x)) + \\exp(q(x))\n",
    "$$\n",
    "\n",
    "Hint: Consider the equivalent problem\n",
    "$$\n",
    "\\begin{array}{ll}\n",
    "\\text{Minimize} & t_1+t_2\\\\\n",
    "\\text{Subject to} & p(x) \\leq \\exp(t_1) \\\\\n",
    "& q(x) \\leq \\exp(t_2)\n",
    "\\end{array}\n",
    "$$\n",
    "    \n",
    "Then use the transformation $x=e^y$, and use convexity of the log-sum-exp function.\n",
    "\n",
    "</div>"
   ]
  }
 ],
 "metadata": {
  "kernelspec": {
   "display_name": "Python 3",
   "language": "python",
   "name": "python3"
  },
  "language_info": {
   "codemirror_mode": {
    "name": "ipython",
    "version": 3
   },
   "file_extension": ".py",
   "mimetype": "text/x-python",
   "name": "python",
   "nbconvert_exporter": "python",
   "pygments_lexer": "ipython3",
   "version": "3.8.8"
  }
 },
 "nbformat": 4,
 "nbformat_minor": 5
}
