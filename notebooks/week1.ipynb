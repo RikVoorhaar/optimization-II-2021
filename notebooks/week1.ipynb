{
 "cells": [
  {
   "cell_type": "markdown",
   "metadata": {},
   "source": [
    "[![Open in Colab](https://colab.research.google.com/assets/colab-badge.svg)](https://colab.research.google.com/github/RikVoorhaar/optimization-II-2021/blob/master/notebooks/week1.ipynb)"
   ]
  },
  {
   "cell_type": "markdown",
   "metadata": {},
   "source": [
    "# Week 1"
   ]
  },
  {
   "cell_type": "markdown",
   "metadata": {},
   "source": [
    "## Exercise 1\n",
    "<div class=\"alert alert-info\">\n",
    "**Exercise** \n",
    "\n",
    "For $n\\in\\mathbb{N}$, let a matrix $P \\in \\mathbb{R}^{n \\times n}$ be symmetric and positive definite.\n",
    "</div>"
   ]
  },
  {
   "cell_type": "markdown",
   "metadata": {},
   "source": [
    "### a)\n",
    "<div class=\"alert alert-info\">\n",
    "**Exercise** \n",
    "\n",
    "Show that the function $\\|\\cdot\\|_{P}: \\;\\mathbb{R}^{n} \\rightarrow \\mathbb{R}$ given by\n",
    "\n",
    "$$\n",
    "    \\|x\\|_{P} = \\sqrt{x^{\\top} P \\, x \\,}\n",
    "    \\quad\\text{for all}\\quad\n",
    "    x\\in\\mathbb{R}^{n}\n",
    "$$\n",
    "   \n",
    "is _well defined_ on $\\mathbb{R}^{n}$ and is a _norm_ on $\\mathbb{R}^{n}$.\n",
    "</div>"
   ]
  },
  {
   "cell_type": "markdown",
   "metadata": {},
   "source": [
    "### b)\n",
    "<div class=\"alert alert-info\">\n",
    "**Exercise** \n",
    "    \n",
    "For $c\\in\\mathbb{R}^{n}$, show that\n",
    "\n",
    "$$\n",
    " \\mathcal{E}\n",
    " =\n",
    " \\big\\{ x\\in\\mathbb{R}^{n}: \\; \\|x-c\\|_{P} \\leq 1 \\big\\}\n",
    "$$\n",
    "    \n",
    "   is a convex set.\n",
    "</div>"
   ]
  },
  {
   "cell_type": "markdown",
   "metadata": {},
   "source": [
    "### c)\n",
    "<div class=\"alert alert-info\">\n",
    "**Exercise** \n",
    "    \n",
    "Show that $\\mathcal{E}$ is an ellipsoid in $\\mathbb{R}^n$ and determine its center and axes. Recall that an ellipsoid is defined as the image of a unit ball in $\\mathbb R^n$ under an affine transformation.\n",
    "\n",
    "Hint: Use the decomposition $P=(P^{1/2})^TP^{1/2}$.\n",
    "</div>"
   ]
  },
  {
   "cell_type": "markdown",
   "metadata": {},
   "source": [
    "### d)\n",
    "<div class=\"alert alert-info\">\n",
    "**Exercise** \n",
    "    \n",
    "Draw a sketch of all the possible shapes of the general set ${\\cal E}$ in $\\mathbb{R}^2$ defined in (b) when the symmetric matrix $P$ is positive definite and positive semidefinite. What happens when $P$ is symmetric but only positive semidefinite? Is $\\mathcal{E}$ still a convex set? \n",
    "\n",
    "</div>"
   ]
  },
  {
   "cell_type": "markdown",
   "metadata": {},
   "source": [
    "## Exercise 2\n",
    "<div class=\"alert alert-info\">\n",
    "**Exercise** \n",
    "\n",
    "Assume that $f:\\mathbb{R}^n\\rightarrow \\mathbb{R}$ is continuously differentiable. Recall that for every $x,y\\in\\mathbb{R}^n$ the following Taylor expansion holds\n",
    "\n",
    "$$\n",
    "\tf(x+y)=f(x)+\\nabla f(x+ty)^Ty\n",
    "$$\n",
    "\n",
    "for a certain $t\\in(0,1)$.\n",
    "    \n",
    "Prove that, if $x^*$ is a local minimizer of $f$, then $\\nabla f (x^*)=0$.\n",
    "    \n",
    "</div>"
   ]
  },
  {
   "cell_type": "markdown",
   "metadata": {},
   "source": [
    "## Exercise 3\n",
    "<div class=\"alert alert-info\">\n",
    "**Exercise** \n",
    "    \n",
    "Let $X\\subset \\mathbb{R}^n$, $X\\neq \\emptyset$ be  a closed subset.\n",
    "\n",
    "</div>"
   ]
  },
  {
   "cell_type": "markdown",
   "metadata": {},
   "source": [
    "### a)\n",
    "<div class=\"alert alert-info\">\n",
    "**Exercise** \n",
    "\n",
    "Prove that for every $z\\in \\mathbb{R}^n$ there exists a point $x\\in X$ that minimizes the function\n",
    "\n",
    "$$\n",
    "\t\tg\\colon X\\to \\mathbb R,\\qquad g(x)=\\left\\|z-x\\right\\|\n",
    "$$\n",
    "\n",
    "Hint: First show this is true if $X$ is bounded. Then use coercitvity to restrict $g$ to a bounded subset which contains the minimum if it exists. \n",
    "    \n",
    "</div>"
   ]
  },
  {
   "cell_type": "markdown",
   "metadata": {},
   "source": [
    "### b)\n",
    "<div class=\"alert alert-info\">\n",
    "**Exercise** \n",
    "\n",
    "Suppose now that $X$ is also convex. Show that $g$ is a convex function.\n",
    "    \n",
    "</div>"
   ]
  },
  {
   "cell_type": "markdown",
   "metadata": {},
   "source": [
    "## Exercise 4\n",
    "<div class=\"alert alert-info\">\n",
    "**Exercise** \n",
    "\n",
    "Consider the function \n",
    "\n",
    "$$\n",
    "\tf(x,y)=\\sin(x)+\\cosh(y).\n",
    "$$\n",
    "    \n",
    "</div>"
   ]
  },
  {
   "cell_type": "markdown",
   "metadata": {},
   "source": [
    "### a)\n",
    "<div class=\"alert alert-info\">\n",
    "**Exercise** \n",
    "    \n",
    "Find the critical points of $f$;\n",
    "\n",
    "</div>"
   ]
  },
  {
   "cell_type": "markdown",
   "metadata": {},
   "source": [
    "### b)\n",
    "<div class=\"alert alert-info\">\n",
    "**Exercise** \n",
    "    \n",
    "Write the Hessian of $f$;   \n",
    "\n",
    "</div>"
   ]
  },
  {
   "cell_type": "markdown",
   "metadata": {},
   "source": [
    "### c)\n",
    "<div class=\"alert alert-info\">\n",
    "**Exercise** \n",
    "\n",
    "Find the critical points for which the Hessian is positive definite.\n",
    "    \n",
    "</div>"
   ]
  }
 ],
 "metadata": {
  "kernelspec": {
   "display_name": "Python 3",
   "language": "python",
   "name": "python3"
  },
  "language_info": {
   "codemirror_mode": {
    "name": "ipython",
    "version": 3
   },
   "file_extension": ".py",
   "mimetype": "text/x-python",
   "name": "python",
   "nbconvert_exporter": "python",
   "pygments_lexer": "ipython3",
   "version": "3.8.6"
  }
 },
 "nbformat": 4,
 "nbformat_minor": 4
}
